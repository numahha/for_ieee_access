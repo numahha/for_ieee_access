{
 "cells": [
  {
   "cell_type": "code",
   "execution_count": 1,
   "id": "3f49dd51",
   "metadata": {},
   "outputs": [],
   "source": [
    "%matplotlib inline\n",
    "import numpy as np\n",
    "import matplotlib.pyplot as plt\n",
    "import pickle\n",
    "import copy\n",
    "import datetime\n",
    "import torch\n",
    "import gym\n",
    "import custom_gym\n",
    "import random\n",
    "env_name = 'CustomCartPole-v0'\n",
    "env_str=\"cartpole\"\n",
    "figfilenamehead = \"fig_policy_evaluation_cartpole_\"\n",
    "\n",
    "num_iter_max=10000\n",
    "vae_lr=5e-4\n",
    "\n",
    "seed = 0\n"
   ]
  },
  {
   "cell_type": "code",
   "execution_count": 2,
   "id": "caf77b5a",
   "metadata": {},
   "outputs": [
    {
     "name": "stdout",
     "output_type": "stream",
     "text": [
      "4 1 2\n"
     ]
    },
    {
     "name": "stderr",
     "output_type": "stream",
     "text": [
      "/home/proxima-hishinuma/anaconda3/envs/iwvi/lib/python3.8/site-packages/gym/core.py:329: DeprecationWarning: \u001b[33mWARN: Initializing wrapper in old step API which returns one bool instead of two. It is recommended to set `new_step_api=True` to use new step API. This will be the default behaviour in future.\u001b[0m\n",
      "  deprecation(\n",
      "/home/proxima-hishinuma/anaconda3/envs/iwvi/lib/python3.8/site-packages/gym/wrappers/step_api_compatibility.py:39: DeprecationWarning: \u001b[33mWARN: Initializing environment in old step API which returns one bool instead of two. It is recommended to set `new_step_api=True` to use new step API. This will be the default behaviour in future.\u001b[0m\n",
      "  deprecation(\n",
      "/home/proxima-hishinuma/anaconda3/envs/iwvi/lib/python3.8/site-packages/gym/core.py:268: DeprecationWarning: \u001b[33mWARN: Function `env.seed(seed)` is marked as deprecated and will be removed in the future. Please use `env.reset(seed=seed)` instead.\u001b[0m\n",
      "  deprecation(\n"
     ]
    }
   ],
   "source": [
    "env = gym.make(env_name)\n",
    "\n",
    "\n",
    "env.seed(seed)\n",
    "env.action_space.seed(seed)\n",
    "torch.manual_seed(seed)\n",
    "np.random.seed(seed)\n",
    "random.seed(seed)\n",
    "\n",
    "s_dim = env.reset().flatten().shape[0]\n",
    "a_dim = env.action_space.sample().flatten().shape[0]\n",
    "z_dim = 2\n",
    "print(s_dim, a_dim, z_dim)\n",
    "\n",
    "# print(np.random.randn())\n",
    "# print(torch.randn(1))"
   ]
  },
  {
   "cell_type": "code",
   "execution_count": 3,
   "id": "2a7c5422",
   "metadata": {},
   "outputs": [],
   "source": [
    "# from sac import SAC\n",
    "# agent = SAC(env.observation_space.shape[0], env.action_space)\n",
    "# agent.load_checkpoint(ckpt_path=\"checkpoints/sac_checkpoint_custom_\"+env_str+\"_mdp_\", evaluate=True)"
   ]
  },
  {
   "cell_type": "code",
   "execution_count": 4,
   "id": "1d9c09c8",
   "metadata": {},
   "outputs": [
    {
     "name": "stderr",
     "output_type": "stream",
     "text": [
      "/home/proxima-hishinuma/anaconda3/envs/iwvi/lib/python3.8/site-packages/gym/utils/passive_env_checker.py:241: DeprecationWarning: `np.bool8` is a deprecated alias for `np.bool_`.  (Deprecated NumPy 1.24)\n",
      "  if not isinstance(terminated, (bool, np.bool8)):\n"
     ]
    }
   ],
   "source": [
    "# データ生成\n",
    "from get_offline_data import getOfflineData\n",
    "getOfflineData(env_name=env_name, episode_num=100)"
   ]
  },
  {
   "cell_type": "code",
   "execution_count": 5,
   "id": "03d57437",
   "metadata": {},
   "outputs": [
    {
     "name": "stdout",
     "output_type": "stream",
     "text": [
      "(100, 2)\n"
     ]
    }
   ],
   "source": [
    "offline_data = pickle.load(open(\"offline_data_\"+env_str+\".pkl\",\"rb\"))\n",
    "\n",
    "debug_info = pickle.load(open(\"offline_data_debug_info_\"+env_str+\".pkl\",\"rb\"))\n",
    "debug_info = np.array(debug_info)\n",
    "print(debug_info.shape)\n",
    "# c_array = debug_info[:,1]\n",
    "\n",
    "# episode_index = 9\n",
    "# plt.plot(offline_data[episode_index][:,0],offline_data[episode_index][:,1])\n",
    "# print(\"env_param: \",debug_info[episode_index])"
   ]
  },
  {
   "cell_type": "code",
   "execution_count": 6,
   "id": "767b8aca",
   "metadata": {},
   "outputs": [],
   "source": [
    "# import importlib\n",
    "# importlib.reload(vi_base)\n",
    "import vi_base\n",
    "\n",
    "args_init_dict = {\n",
    "    \"offline_data\": offline_data,\n",
    "    \"s_dim\": s_dim,\n",
    "    \"a_dim\": a_dim,\n",
    "    \"z_dim\": z_dim,\n",
    "    #              \"policy\":agent.select_action,\n",
    "    \"mdp_policy\":None,\n",
    "    \"bamdp_policy\":None,\n",
    "    \"debug_info\":debug_info,\n",
    "    \"env\" : env,\n",
    "    \"ckpt_suffix\" : env_str\n",
    "    }\n",
    "\n",
    "vi = vi_base.baseVI(args_init_dict)\n",
    "# print(np.random.randn())"
   ]
  },
  {
   "cell_type": "code",
   "execution_count": null,
   "id": "5c06f958",
   "metadata": {
    "scrolled": true
   },
   "outputs": [
    {
     "name": "stdout",
     "output_type": "stream",
     "text": [
      "train_weighted_vae: enc_dec\n",
      "train: iter 0  trainloss 564.46742  validloss 907.12063±0.00000  bestvalidloss 907.12063  last_update 0\n",
      "train: iter 1  trainloss 80.94057  validloss 496.69181±0.00000  bestvalidloss 496.69181  last_update 0\n",
      "train: iter 2  trainloss -285.89910  validloss -24.18733±0.00000  bestvalidloss -24.18733  last_update 0\n",
      "train: iter 3  trainloss -572.79553  validloss -328.16035±0.00000  bestvalidloss -328.16035  last_update 0\n",
      "train: iter 4  trainloss -699.51422  validloss -618.84026±0.00000  bestvalidloss -618.84026  last_update 0\n",
      "train: iter 5  trainloss -807.14310  validloss -646.10321±0.00000  bestvalidloss -646.10321  last_update 0\n",
      "train: iter 6  trainloss -893.48838  validloss -519.95868±0.00000  bestvalidloss -646.10321  last_update 1\n",
      "train: iter 7  trainloss -1025.23276  validloss -850.24024±0.00000  bestvalidloss -850.24024  last_update 0\n",
      "train: iter 8  trainloss -1109.02834  validloss -1003.24842±0.00000  bestvalidloss -1003.24842  last_update 0\n",
      "train: iter 9  trainloss -1164.08675  validloss -844.95644±0.00000  bestvalidloss -1003.24842  last_update 1\n",
      "train: iter 10  trainloss -1279.40496  validloss -1108.95351±0.00000  bestvalidloss -1108.95351  last_update 0\n",
      "train: iter 11  trainloss -1252.67207  validloss -1180.77983±0.00000  bestvalidloss -1180.77983  last_update 0\n",
      "train: iter 12  trainloss -1340.06639  validloss -1005.72180±0.00000  bestvalidloss -1180.77983  last_update 1\n",
      "train: iter 13  trainloss -1428.02939  validloss -1253.09912±0.00000  bestvalidloss -1253.09912  last_update 0\n",
      "train: iter 14  trainloss -1422.14303  validloss -1313.50306±0.00000  bestvalidloss -1313.50306  last_update 0\n",
      "train: iter 15  trainloss -1427.99652  validloss -1124.93819±0.00000  bestvalidloss -1313.50306  last_update 1\n",
      "train: iter 16  trainloss -1474.97709  validloss -1283.20823±0.00000  bestvalidloss -1313.50306  last_update 2\n",
      "train: iter 17  trainloss -1491.43804  validloss -1399.87785±0.00000  bestvalidloss -1399.87785  last_update 0\n",
      "train: iter 18  trainloss -1528.04198  validloss -1279.31289±0.00000  bestvalidloss -1399.87785  last_update 1\n",
      "train: iter 19  trainloss -1578.85461  validloss -1445.57802±0.00000  bestvalidloss -1445.57802  last_update 0\n",
      "train: iter 20  trainloss -1579.75454  validloss -1429.01298±0.00000  bestvalidloss -1445.57802  last_update 1\n"
     ]
    }
   ],
   "source": [
    "train_curve, valid_curve = vi.train_unweighted_vae(num_iter=num_iter_max, lr=vae_lr, early_stop_step=100, flag=1)\n",
    "vi.update_mulogvar_offlinedata()\n",
    "vi.save()\n",
    "plt.plot(train_curve)\n",
    "plt.plot(valid_curve)\n",
    "plt.ylim([-2000, 1000])\n",
    "plt.show()\n",
    "\n",
    "train_curve, valid_curve = vi.train_unweighted_vae(num_iter=num_iter_max, lr=vae_lr, early_stop_step=100, flag=2)\n",
    "vi.update_mulogvar_offlinedata()\n",
    "vi.save()\n",
    "plt.plot(train_curve)\n",
    "plt.plot(valid_curve)\n",
    "#\n",
    "#plt.show()\n",
    "\n",
    "train_curve, valid_curve = vi.train_unweighted_vae(num_iter=num_iter_max, lr=vae_lr, early_stop_step=100, flag=3)\n",
    "vi.update_mulogvar_offlinedata()\n",
    "plt.plot(train_curve)\n",
    "plt.plot(valid_curve)\n",
    "\n",
    "# y_min = max(-2000, min(max(train_curve),max(valid_curve)))\n",
    "# y_max = min(1000, max(min(train_curve),min(valid_curve)))\n",
    "# plt.ylim([y_min, y_max])\n",
    "plt.show()\n",
    "\n",
    "vi.save()\n"
   ]
  },
  {
   "cell_type": "code",
   "execution_count": null,
   "id": "1c548788",
   "metadata": {},
   "outputs": [],
   "source": [
    "vi.load()\n",
    "# vi.update_mulogvar_offlinedata()"
   ]
  },
  {
   "cell_type": "code",
   "execution_count": null,
   "id": "c2656b51",
   "metadata": {},
   "outputs": [],
   "source": []
  },
  {
   "cell_type": "code",
   "execution_count": null,
   "id": "dd778499",
   "metadata": {
    "scrolled": true
   },
   "outputs": [],
   "source": [
    "train_curve, valid_curve = vi.train_initial_belief(num_iter=100000, lr=1e-3, early_stop_step=100)\n"
   ]
  },
  {
   "cell_type": "code",
   "execution_count": null,
   "id": "80c0696c",
   "metadata": {},
   "outputs": [],
   "source": []
  },
  {
   "cell_type": "code",
   "execution_count": null,
   "id": "78af8ca9",
   "metadata": {},
   "outputs": [],
   "source": [
    "print(vi.initial_belief)\n",
    "vi.save()"
   ]
  },
  {
   "cell_type": "code",
   "execution_count": null,
   "id": "eb1af86b",
   "metadata": {},
   "outputs": [],
   "source": []
  },
  {
   "cell_type": "code",
   "execution_count": null,
   "id": "672208e9",
   "metadata": {},
   "outputs": [],
   "source": []
  },
  {
   "cell_type": "code",
   "execution_count": null,
   "id": "93c8f575",
   "metadata": {},
   "outputs": [],
   "source": []
  },
  {
   "cell_type": "code",
   "execution_count": null,
   "id": "9c65c40f",
   "metadata": {},
   "outputs": [],
   "source": []
  },
  {
   "cell_type": "code",
   "execution_count": null,
   "id": "afcdb67d",
   "metadata": {},
   "outputs": [],
   "source": []
  },
  {
   "cell_type": "code",
   "execution_count": null,
   "id": "1f05eed2",
   "metadata": {},
   "outputs": [],
   "source": []
  },
  {
   "cell_type": "code",
   "execution_count": null,
   "id": "5ed62741",
   "metadata": {},
   "outputs": [],
   "source": []
  },
  {
   "cell_type": "code",
   "execution_count": null,
   "id": "23a90934",
   "metadata": {},
   "outputs": [],
   "source": []
  },
  {
   "cell_type": "code",
   "execution_count": null,
   "id": "31261a44",
   "metadata": {},
   "outputs": [],
   "source": []
  },
  {
   "cell_type": "code",
   "execution_count": null,
   "id": "2d73d6ab",
   "metadata": {},
   "outputs": [],
   "source": []
  },
  {
   "cell_type": "code",
   "execution_count": null,
   "id": "af87dfbb",
   "metadata": {},
   "outputs": [],
   "source": []
  },
  {
   "cell_type": "code",
   "execution_count": null,
   "id": "2178e773",
   "metadata": {},
   "outputs": [],
   "source": []
  },
  {
   "cell_type": "code",
   "execution_count": null,
   "id": "e7443c70",
   "metadata": {},
   "outputs": [],
   "source": []
  },
  {
   "cell_type": "code",
   "execution_count": null,
   "id": "62420d71",
   "metadata": {},
   "outputs": [],
   "source": []
  },
  {
   "cell_type": "code",
   "execution_count": null,
   "id": "f77eed93",
   "metadata": {},
   "outputs": [],
   "source": []
  }
 ],
 "metadata": {
  "kernelspec": {
   "display_name": "Python 3 (ipykernel)",
   "language": "python",
   "name": "python3"
  },
  "language_info": {
   "codemirror_mode": {
    "name": "ipython",
    "version": 3
   },
   "file_extension": ".py",
   "mimetype": "text/x-python",
   "name": "python",
   "nbconvert_exporter": "python",
   "pygments_lexer": "ipython3",
   "version": "3.8.0"
  }
 },
 "nbformat": 4,
 "nbformat_minor": 5
}
