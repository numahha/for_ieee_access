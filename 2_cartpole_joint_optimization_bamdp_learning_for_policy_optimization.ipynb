{
 "cells": [
  {
   "cell_type": "code",
   "execution_count": 1,
   "id": "856b55c1",
   "metadata": {},
   "outputs": [
    {
     "name": "stdout",
     "output_type": "stream",
     "text": [
      "alpha 0.1\n",
      "2023-05-17 20:56:40.479887\n"
     ]
    }
   ],
   "source": [
    "%matplotlib inline\n",
    "\n",
    "import numpy as np\n",
    "import copy\n",
    "import matplotlib.pyplot as plt\n",
    "import pickle\n",
    "import random\n",
    "import torch\n",
    "from utils import torch_from_numpy\n",
    "import datetime\n",
    "\n",
    "from config import cfg_seed, cfg_env, cfg_z_dim, cfg_default_lr, cfg_default_early, cfg_penalty_lam_coef\n",
    "seed = cfg_seed\n",
    "env_str=cfg_env\n",
    "default_lr=cfg_default_lr\n",
    "default_early=cfg_default_early\n",
    "penalty_lam_coef=cfg_penalty_lam_coef\n",
    "\n",
    "from config import cfg_alpha\n",
    "alpha=cfg_alpha\n",
    "\n",
    "num_iter_max=200000\n",
    "env_name = 'CustomCartPole-v0'\n",
    "env_str=cfg_env\n",
    "figfilenamehead = \"fig_policy_optimization_\"+env_str+\"_iter1_\"\n",
    "\n",
    "loss_list = []\n",
    "normalized_loss_list = []\n",
    "\n",
    "print(\"alpha\",alpha)\n",
    "print(datetime.datetime.now())"
   ]
  },
  {
   "cell_type": "code",
   "execution_count": 2,
   "id": "0b29b244",
   "metadata": {},
   "outputs": [
    {
     "name": "stdout",
     "output_type": "stream",
     "text": [
      "4 1 1\n"
     ]
    },
    {
     "name": "stderr",
     "output_type": "stream",
     "text": [
      "/home/proxima-hishinuma/anaconda3/envs/iwvi/lib/python3.8/site-packages/gym/core.py:329: DeprecationWarning: \u001b[33mWARN: Initializing wrapper in old step API which returns one bool instead of two. It is recommended to set `new_step_api=True` to use new step API. This will be the default behaviour in future.\u001b[0m\n",
      "  deprecation(\n",
      "/home/proxima-hishinuma/anaconda3/envs/iwvi/lib/python3.8/site-packages/gym/wrappers/step_api_compatibility.py:39: DeprecationWarning: \u001b[33mWARN: Initializing environment in old step API which returns one bool instead of two. It is recommended to set `new_step_api=True` to use new step API. This will be the default behaviour in future.\u001b[0m\n",
      "  deprecation(\n",
      "/home/proxima-hishinuma/anaconda3/envs/iwvi/lib/python3.8/site-packages/gym/core.py:268: DeprecationWarning: \u001b[33mWARN: Function `env.seed(seed)` is marked as deprecated and will be removed in the future. Please use `env.reset(seed=seed)` instead.\u001b[0m\n",
      "  deprecation(\n"
     ]
    }
   ],
   "source": [
    "import gym\n",
    "import custom_gym\n",
    "env = gym.make(env_name)\n",
    "\n",
    "np.random.seed(seed)\n",
    "random.seed(seed)\n",
    "env.seed(seed)\n",
    "env.action_space.seed(seed)\n",
    "torch.manual_seed(seed)\n",
    "\n",
    "s_dim = env.reset().flatten().shape[0]\n",
    "a_dim = env.action_space.sample().flatten().shape[0]\n",
    "z_dim = cfg_z_dim\n",
    "print(s_dim, a_dim, z_dim)\n",
    "\n"
   ]
  },
  {
   "cell_type": "code",
   "execution_count": 3,
   "id": "212e6563",
   "metadata": {},
   "outputs": [
    {
     "name": "stdout",
     "output_type": "stream",
     "text": [
      "Loading models from checkpoints/sac_checkpoint_custom_cartpole_bamdp_standardvae_\n"
     ]
    }
   ],
   "source": [
    "\n",
    "\n",
    "from sac import SAC\n",
    "# agent = SAC(env.observation_space.shape[0], env.action_space)\n",
    "agent = SAC(env.observation_space.shape[0]+z_dim*2, env.action_space)\n",
    "agent.load_checkpoint(ckpt_path=\"checkpoints/sac_checkpoint_custom_\"+env_str+\"_bamdp_standardvae_\")\n",
    "\n",
    "\n",
    "offline_data = pickle.load(open(\"offline_data_\"+env_str+\".pkl\",\"rb\"))\n",
    "debug_info = pickle.load(open(\"offline_data_debug_info_\"+env_str+\".pkl\",\"rb\"))\n",
    "debug_info = np.array(debug_info)"
   ]
  },
  {
   "cell_type": "code",
   "execution_count": null,
   "id": "198d38de",
   "metadata": {},
   "outputs": [],
   "source": []
  },
  {
   "cell_type": "code",
   "execution_count": 4,
   "id": "86a182ab",
   "metadata": {},
   "outputs": [
    {
     "name": "stdout",
     "output_type": "stream",
     "text": [
      "base load ckpt ckpt_basevi_cartpole_unweighted\n",
      "base load self.initial_belief.data.sum() tensor(-9.5640)\n",
      "base load dec.state_dict()['net_phat.0.weight'].sum() tensor(-4.4099)\n",
      "penalty_target_min tensor(-12.3240) penalty_target_max tensor(25.0784)\n",
      "train_loss:  -11.64802919998169\n",
      "valid_loss:  -11.558264297485351\n",
      "h_min_tilde -12.32402 ell_tilde -11.63007621948242 kappa_tilde 0.012004324740315046\n"
     ]
    }
   ],
   "source": [
    "args_init_dict = {\n",
    "    \"offline_data\": offline_data,\n",
    "    \"s_dim\": s_dim,\n",
    "    \"a_dim\": a_dim,\n",
    "    \"z_dim\": z_dim,\n",
    "    #              \"policy\":agent.select_action,\n",
    "    \"mdp_policy\":None,\n",
    "    \"bamdp_policy\":agent.policy.my_np_select_action,\n",
    "    \"debug_info\":debug_info,\n",
    "    \"env\" : env,\n",
    "    \"ckpt_suffix\" : env_str,\n",
    "    \"penalty_lam_coef\" : penalty_lam_coef\n",
    "}\n",
    "# import vi_base\n",
    "# vi = vi_base.baseVI(args_init_dict)\n",
    "import vi_iw\n",
    "iwvi = vi_iw.iwVI(args_init_dict)\n",
    "\n",
    "iwvi.load_base(ckpt_key=\"unweighted\")\n",
    "# iwvi.update_mulogvar_offlinedata()"
   ]
  },
  {
   "cell_type": "code",
   "execution_count": null,
   "id": "d9d2b315",
   "metadata": {},
   "outputs": [],
   "source": []
  },
  {
   "cell_type": "code",
   "execution_count": 5,
   "id": "152a8ece",
   "metadata": {
    "scrolled": true
   },
   "outputs": [
    {
     "name": "stdout",
     "output_type": "stream",
     "text": [
      "\n",
      " 0 1.430511474609375e-06\n"
     ]
    },
    {
     "ename": "TypeError",
     "evalue": "set_params() got an unexpected keyword argument 'c'",
     "output_type": "error",
     "traceback": [
      "\u001b[0;31m---------------------------------------------------------------------------\u001b[0m",
      "\u001b[0;31mTypeError\u001b[0m                                 Traceback (most recent call last)",
      "Cell \u001b[0;32mIn[5], line 1\u001b[0m\n\u001b[0;32m----> 1\u001b[0m \u001b[43miwvi\u001b[49m\u001b[38;5;241;43m.\u001b[39;49m\u001b[43mget_real_rollout_bamdppolicy_data\u001b[49m\u001b[43m(\u001b[49m\u001b[43m)\u001b[49m\n",
      "File \u001b[0;32m~/for_ieee_access/vi_base.py:453\u001b[0m, in \u001b[0;36mbaseVI.get_real_rollout_bamdppolicy_data\u001b[0;34m(self)\u001b[0m\n\u001b[1;32m    451\u001b[0m     \u001b[38;5;28mprint\u001b[39m(\u001b[38;5;124m\"\u001b[39m\u001b[38;5;130;01m\\n\u001b[39;00m\u001b[38;5;124m\"\u001b[39m,m,time\u001b[38;5;241m.\u001b[39mtime()\u001b[38;5;241m-\u001b[39mtmp_clock)\n\u001b[1;32m    452\u001b[0m     tmp_clock \u001b[38;5;241m=\u001b[39m time\u001b[38;5;241m.\u001b[39mtime()\n\u001b[0;32m--> 453\u001b[0m     \u001b[38;5;28mself\u001b[39m\u001b[38;5;241m.\u001b[39mdebug_realenv_rolloutdata[m] \u001b[38;5;241m=\u001b[39m \u001b[38;5;28;43mself\u001b[39;49m\u001b[38;5;241;43m.\u001b[39;49m\u001b[43mrollout_bamdppolicy_oneepisode_realenv\u001b[49m\u001b[43m(\u001b[49m\u001b[38;5;28;43mself\u001b[39;49m\u001b[38;5;241;43m.\u001b[39;49m\u001b[43mdebug_c_list\u001b[49m\u001b[43m[\u001b[49m\u001b[43mm\u001b[49m\u001b[43m]\u001b[49m\u001b[43m)\u001b[49m\n\u001b[1;32m    454\u001b[0m \u001b[38;5;28mprint\u001b[39m(\u001b[38;5;124m\"\u001b[39m\u001b[38;5;124m \u001b[39m\u001b[38;5;124m\"\u001b[39m)\n",
      "File \u001b[0;32m~/for_ieee_access/vi_base.py:306\u001b[0m, in \u001b[0;36mbaseVI.rollout_bamdppolicy_oneepisode_realenv\u001b[0;34m(self, temp_c)\u001b[0m\n\u001b[1;32m    304\u001b[0m belief \u001b[38;5;241m=\u001b[39m \u001b[38;5;28mself\u001b[39m\u001b[38;5;241m.\u001b[39mget_belief()\n\u001b[1;32m    305\u001b[0m stateaction_history \u001b[38;5;241m=\u001b[39m []\n\u001b[0;32m--> 306\u001b[0m \u001b[38;5;28;43mself\u001b[39;49m\u001b[38;5;241;43m.\u001b[39;49m\u001b[43mdebug_realenv\u001b[49m\u001b[38;5;241;43m.\u001b[39;49m\u001b[43menv\u001b[49m\u001b[38;5;241;43m.\u001b[39;49m\u001b[43menv\u001b[49m\u001b[38;5;241;43m.\u001b[39;49m\u001b[43mset_params\u001b[49m\u001b[43m(\u001b[49m\u001b[43mc\u001b[49m\u001b[38;5;241;43m=\u001b[39;49m\u001b[43mtemp_c\u001b[49m\u001b[43m)\u001b[49m\n\u001b[1;32m    307\u001b[0m \u001b[38;5;28mself\u001b[39m\u001b[38;5;241m.\u001b[39mupdate_belief\u001b[38;5;241m=\u001b[39m\u001b[38;5;28;01mTrue\u001b[39;00m\n\u001b[1;32m    308\u001b[0m \u001b[38;5;28mself\u001b[39m\u001b[38;5;241m.\u001b[39mpenalty_flag\u001b[38;5;241m=\u001b[39m\u001b[38;5;28;01mFalse\u001b[39;00m\n",
      "\u001b[0;31mTypeError\u001b[0m: set_params() got an unexpected keyword argument 'c'"
     ]
    }
   ],
   "source": [
    "iwvi.get_real_rollout_bamdppolicy_data()"
   ]
  },
  {
   "cell_type": "code",
   "execution_count": null,
   "id": "27aa74e9",
   "metadata": {},
   "outputs": [],
   "source": [
    "# iwvi.get_sim_rollout_bamdppolicy_data_fixlen()\n",
    "# simdata0a = copy.deepcopy(iwvi.simenv_rolloutdata)\n",
    "# iwvi.get_sim_rollout_bamdppolicy_data_fixlen()\n",
    "# simdata0b = copy.deepcopy(iwvi.simenv_rolloutdata)"
   ]
  },
  {
   "cell_type": "code",
   "execution_count": null,
   "id": "d76f7d28",
   "metadata": {},
   "outputs": [],
   "source": []
  },
  {
   "cell_type": "code",
   "execution_count": null,
   "id": "dc044e74",
   "metadata": {},
   "outputs": [],
   "source": [
    "print(datetime.datetime.now())"
   ]
  },
  {
   "cell_type": "code",
   "execution_count": null,
   "id": "bcdfa3ab",
   "metadata": {},
   "outputs": [],
   "source": []
  },
  {
   "cell_type": "markdown",
   "id": "86b4eb23",
   "metadata": {},
   "source": [
    "# Iter 1"
   ]
  },
  {
   "cell_type": "code",
   "execution_count": null,
   "id": "b86a86b8",
   "metadata": {},
   "outputs": [],
   "source": [
    "iwvi.get_sim_rollout_bamdppolicy_data_randomstop()"
   ]
  },
  {
   "cell_type": "code",
   "execution_count": null,
   "id": "ef41e655",
   "metadata": {},
   "outputs": [],
   "source": []
  },
  {
   "cell_type": "code",
   "execution_count": null,
   "id": "7d4c751c",
   "metadata": {
    "scrolled": true
   },
   "outputs": [],
   "source": [
    "iwvi.train_ratio(num_iter=num_iter_max, lr=default_lr, early_stop_step=default_early, policy=agent.select_action)\n"
   ]
  },
  {
   "cell_type": "code",
   "execution_count": null,
   "id": "dc42cdb0",
   "metadata": {},
   "outputs": [],
   "source": [
    "loss_list.append(iwvi.eval_loss(weight_alpha=1.))\n",
    "normalized_loss_list.append(iwvi.eval_loss(weight_alpha=alpha))\n"
   ]
  },
  {
   "cell_type": "code",
   "execution_count": null,
   "id": "793e9ebe",
   "metadata": {},
   "outputs": [],
   "source": []
  },
  {
   "cell_type": "code",
   "execution_count": null,
   "id": "e49cc9b9",
   "metadata": {},
   "outputs": [],
   "source": []
  },
  {
   "cell_type": "code",
   "execution_count": null,
   "id": "de993d9f",
   "metadata": {},
   "outputs": [],
   "source": []
  },
  {
   "cell_type": "code",
   "execution_count": null,
   "id": "77bb8c0c",
   "metadata": {},
   "outputs": [],
   "source": []
  },
  {
   "cell_type": "code",
   "execution_count": null,
   "id": "5d74801a",
   "metadata": {},
   "outputs": [],
   "source": [
    "train_curve1, valid_curve1 = iwvi.train_weighted_vae(num_iter=num_iter_max, lr=default_lr, early_stop_step=default_early, weight_alpha=alpha, flag=1)\n",
    "iwvi.update_mulogvar_offlinedata()\n",
    "\n",
    "# train_curve2, valid_curve2 = iwvi.train_weighted_vae(num_iter=num_iter_max, lr=vae_lr, early_stop_step=default_early, weight_alpha=alpha, flag=2)\n",
    "# iwvi.update_mulogvar_offlinedata()\n",
    "\n",
    "# train_curve3, valid_curve3 = iwvi.train_weighted_vae(num_iter=num_iter_max, lr=vae_lr, early_stop_step=default_early, weight_alpha=alpha, flag=3)\n",
    "# iwvi.update_mulogvar_offlinedata()"
   ]
  },
  {
   "cell_type": "code",
   "execution_count": null,
   "id": "eb832160",
   "metadata": {
    "scrolled": true
   },
   "outputs": [],
   "source": [
    "plt.plot(train_curve1)\n",
    "plt.plot(valid_curve1)\n",
    "plt.show()\n",
    "\n",
    "# plt.plot(train_curve2)\n",
    "# plt.plot(valid_curve2)\n",
    "# plt.show()\n",
    "\n",
    "# plt.plot(train_curve3)\n",
    "# plt.plot(valid_curve3)\n",
    "# plt.show()\n",
    "print(\"alpha\",alpha, \"default_lr\", default_lr)"
   ]
  },
  {
   "cell_type": "code",
   "execution_count": null,
   "id": "321b6e72",
   "metadata": {},
   "outputs": [],
   "source": [
    "# iwvi.get_sim_rollout_bamdppolicy_data_fixlen()\n",
    "# simdata0a = copy.deepcopy(iwvi.simenv_rolloutdata)\n",
    "# iwvi.get_sim_rollout_bamdppolicy_data_fixlen()\n",
    "# simdata0b = copy.deepcopy(iwvi.simenv_rolloutdata)\n",
    "# # iwvi.get_sim_rollout_bamdppolicy_data_fixlen()\n",
    "# # simdata0c = copy.deepcopy(iwvi.simenv_rolloutdata)\n",
    "\n"
   ]
  },
  {
   "cell_type": "code",
   "execution_count": null,
   "id": "a628cb56",
   "metadata": {},
   "outputs": [],
   "source": [
    "print(datetime.datetime.now())"
   ]
  },
  {
   "cell_type": "code",
   "execution_count": null,
   "id": "1febc246",
   "metadata": {},
   "outputs": [],
   "source": []
  },
  {
   "cell_type": "code",
   "execution_count": null,
   "id": "9be35d17",
   "metadata": {},
   "outputs": [],
   "source": []
  },
  {
   "cell_type": "code",
   "execution_count": null,
   "id": "d03fcea4",
   "metadata": {},
   "outputs": [],
   "source": []
  },
  {
   "cell_type": "code",
   "execution_count": null,
   "id": "1c6913b1",
   "metadata": {},
   "outputs": [],
   "source": []
  },
  {
   "cell_type": "code",
   "execution_count": null,
   "id": "e68de735",
   "metadata": {},
   "outputs": [],
   "source": []
  },
  {
   "cell_type": "markdown",
   "id": "17bd9f2e",
   "metadata": {},
   "source": [
    "# Iter2"
   ]
  },
  {
   "cell_type": "code",
   "execution_count": null,
   "id": "d628df14",
   "metadata": {},
   "outputs": [],
   "source": [
    "iwvi.get_sim_rollout_bamdppolicy_data_randomstop()"
   ]
  },
  {
   "cell_type": "code",
   "execution_count": 6,
   "id": "34acc524",
   "metadata": {
    "scrolled": true
   },
   "outputs": [
    {
     "ename": "AttributeError",
     "evalue": "'iwVI' object has no attribute 'simenv_rolloutdata'",
     "output_type": "error",
     "traceback": [
      "\u001b[0;31m---------------------------------------------------------------------------\u001b[0m",
      "\u001b[0;31mAttributeError\u001b[0m                            Traceback (most recent call last)",
      "Cell \u001b[0;32mIn[6], line 1\u001b[0m\n\u001b[0;32m----> 1\u001b[0m \u001b[43miwvi\u001b[49m\u001b[38;5;241;43m.\u001b[39;49m\u001b[43mtrain_ratio\u001b[49m\u001b[43m(\u001b[49m\u001b[43mnum_iter\u001b[49m\u001b[38;5;241;43m=\u001b[39;49m\u001b[43mnum_iter_max\u001b[49m\u001b[43m,\u001b[49m\u001b[43m \u001b[49m\u001b[43mlr\u001b[49m\u001b[38;5;241;43m=\u001b[39;49m\u001b[43mdefault_lr\u001b[49m\u001b[43m,\u001b[49m\u001b[43m \u001b[49m\u001b[43mearly_stop_step\u001b[49m\u001b[38;5;241;43m=\u001b[39;49m\u001b[43mdefault_early\u001b[49m\u001b[43m,\u001b[49m\u001b[43m \u001b[49m\u001b[43mpolicy\u001b[49m\u001b[38;5;241;43m=\u001b[39;49m\u001b[43magent\u001b[49m\u001b[38;5;241;43m.\u001b[39;49m\u001b[43mselect_action\u001b[49m\u001b[43m)\u001b[49m\n",
      "File \u001b[0;32m~/for_ieee_access/vi_iw.py:48\u001b[0m, in \u001b[0;36miwVI.train_ratio\u001b[0;34m(self, num_iter, lr, early_stop_step, policy)\u001b[0m\n\u001b[1;32m     46\u001b[0m param_list \u001b[38;5;241m=\u001b[39m \u001b[38;5;28mlist\u001b[39m(\u001b[38;5;28mself\u001b[39m\u001b[38;5;241m.\u001b[39mratio_model\u001b[38;5;241m.\u001b[39mparameters())\n\u001b[1;32m     47\u001b[0m loss_fn \u001b[38;5;241m=\u001b[39m \u001b[38;5;28mself\u001b[39m\u001b[38;5;241m.\u001b[39m_loss_train_ratio\n\u001b[0;32m---> 48\u001b[0m ret \u001b[38;5;241m=\u001b[39m \u001b[38;5;28;43mself\u001b[39;49m\u001b[38;5;241;43m.\u001b[39;49m\u001b[43m_train\u001b[49m\u001b[43m(\u001b[49m\u001b[43mnum_iter\u001b[49m\u001b[43m,\u001b[49m\u001b[43m \u001b[49m\u001b[43mlr\u001b[49m\u001b[43m,\u001b[49m\u001b[43m \u001b[49m\u001b[43mearly_stop_step\u001b[49m\u001b[43m,\u001b[49m\u001b[43m \u001b[49m\u001b[43mloss_fn\u001b[49m\u001b[43m,\u001b[49m\u001b[43m \u001b[49m\u001b[43mparam_list\u001b[49m\u001b[43m)\u001b[49m\n\u001b[1;32m     49\u001b[0m \u001b[38;5;28mself\u001b[39m\u001b[38;5;241m.\u001b[39mcompute_offlinedata_weight()\n\u001b[1;32m     50\u001b[0m \u001b[38;5;28;01mreturn\u001b[39;00m ret\n",
      "File \u001b[0;32m~/for_ieee_access/vi_base.py:496\u001b[0m, in \u001b[0;36mbaseVI._train\u001b[0;34m(self, num_iter, lr, early_stop_step, loss_fn, param_list)\u001b[0m\n\u001b[1;32m    494\u001b[0m temp_valid_loss \u001b[38;5;241m=\u001b[39m \u001b[38;5;241m0\u001b[39m\n\u001b[1;32m    495\u001b[0m \u001b[38;5;28;01mfor\u001b[39;00m m \u001b[38;5;129;01min\u001b[39;00m valid_idx_list:\n\u001b[0;32m--> 496\u001b[0m     temp_valid_loss \u001b[38;5;241m+\u001b[39m\u001b[38;5;241m=\u001b[39m \u001b[43mloss_fn\u001b[49m\u001b[43m(\u001b[49m\u001b[43mm\u001b[49m\u001b[43m)\u001b[49m\u001b[38;5;241m.\u001b[39mitem()\n\u001b[1;32m    497\u001b[0m temp_valid_loss \u001b[38;5;241m/\u001b[39m\u001b[38;5;241m=\u001b[39m \u001b[38;5;28mlen\u001b[39m(valid_idx_list)\n\u001b[1;32m    498\u001b[0m valid_loss_list\u001b[38;5;241m.\u001b[39mappend(temp_valid_loss)\n",
      "File \u001b[0;32m~/for_ieee_access/vi_iw.py:71\u001b[0m, in \u001b[0;36miwVI._loss_train_ratio\u001b[0;34m(self, m)\u001b[0m\n\u001b[1;32m     68\u001b[0m \u001b[38;5;28;01mdef\u001b[39;00m \u001b[38;5;21m_loss_train_ratio\u001b[39m(\u001b[38;5;28mself\u001b[39m, m):\n\u001b[1;32m     70\u001b[0m     temp_offline_sa \u001b[38;5;241m=\u001b[39m \u001b[38;5;28mself\u001b[39m\u001b[38;5;241m.\u001b[39moffline_data[m][:,:(\u001b[38;5;28mself\u001b[39m\u001b[38;5;241m.\u001b[39msa_dim)]\n\u001b[0;32m---> 71\u001b[0m     simulation_data_saz \u001b[38;5;241m=\u001b[39m torch_from_numpy(\u001b[38;5;28;43mself\u001b[39;49m\u001b[38;5;241;43m.\u001b[39;49m\u001b[43msimenv_rolloutdata\u001b[49m[m])\n\u001b[1;32m     72\u001b[0m     z \u001b[38;5;241m=\u001b[39m simulation_data_saz[:,\u001b[38;5;241m-\u001b[39m\u001b[38;5;28mself\u001b[39m\u001b[38;5;241m.\u001b[39mz_dim:]\n\u001b[1;32m     73\u001b[0m     len_data \u001b[38;5;241m=\u001b[39m \u001b[38;5;28mlen\u001b[39m(temp_offline_sa)\n",
      "\u001b[0;31mAttributeError\u001b[0m: 'iwVI' object has no attribute 'simenv_rolloutdata'"
     ]
    }
   ],
   "source": [
    "iwvi.train_ratio(num_iter=num_iter_max, lr=default_lr, early_stop_step=default_early, policy=agent.select_action)\n"
   ]
  },
  {
   "cell_type": "code",
   "execution_count": 23,
   "id": "de428e1c",
   "metadata": {},
   "outputs": [],
   "source": [
    "loss_list.append(iwvi.eval_loss(weight_alpha=1.))\n",
    "normalized_loss_list.append(iwvi.eval_loss(weight_alpha=alpha))\n"
   ]
  },
  {
   "cell_type": "code",
   "execution_count": null,
   "id": "40bdfa66",
   "metadata": {},
   "outputs": [],
   "source": []
  },
  {
   "cell_type": "code",
   "execution_count": null,
   "id": "9ea27f93",
   "metadata": {},
   "outputs": [],
   "source": []
  },
  {
   "cell_type": "code",
   "execution_count": null,
   "id": "86834204",
   "metadata": {},
   "outputs": [],
   "source": []
  },
  {
   "cell_type": "code",
   "execution_count": 25,
   "id": "cd2fa426",
   "metadata": {},
   "outputs": [],
   "source": [
    "train_curve1, valid_curve1 = iwvi.train_weighted_vae(num_iter=num_iter_max, lr=default_lr, early_stop_step=default_early, weight_alpha=alpha, flag=1)\n",
    "iwvi.update_mulogvar_offlinedata()\n",
    "\n",
    "# train_curve2, valid_curve2 = iwvi.train_weighted_vae(num_iter=num_iter_max, lr=default_lr, early_stop_step=default_early, weight_alpha=alpha, flag=2)\n",
    "# iwvi.update_mulogvar_offlinedata()\n",
    "\n",
    "# train_curve3, valid_curve3 = iwvi.train_weighted_vae(num_iter=num_iter_max, lr=default_lr, early_stop_step=default_early, weight_alpha=alpha, flag=3)\n",
    "# iwvi.update_mulogvar_offlinedata()"
   ]
  },
  {
   "cell_type": "code",
   "execution_count": 26,
   "id": "edc84611",
   "metadata": {
    "scrolled": true
   },
   "outputs": [],
   "source": [
    "plt.plot(train_curve1)\n",
    "plt.plot(valid_curve1)\n",
    "plt.show()\n",
    "\n",
    "# plt.plot(train_curve2)\n",
    "# plt.plot(valid_curve2)\n",
    "# plt.show()\n",
    "\n",
    "# plt.plot(train_curve3)\n",
    "# plt.plot(valid_curve3)\n",
    "# plt.show()\n",
    "print(\"alpha\",alpha, \"default_lr\", default_lr)"
   ]
  },
  {
   "cell_type": "code",
   "execution_count": 27,
   "id": "b2935aa9",
   "metadata": {},
   "outputs": [],
   "source": [
    "# iwvi.get_sim_rollout_bamdppolicy_data_fixlen()\n",
    "# simdata0a = copy.deepcopy(iwvi.simenv_rolloutdata)\n",
    "# iwvi.get_sim_rollout_bamdppolicy_data_fixlen()\n",
    "# simdata0b = copy.deepcopy(iwvi.simenv_rolloutdata)\n",
    "# # iwvi.get_sim_rollout_bamdppolicy_data_fixlen()\n",
    "# # simdata0c = copy.deepcopy(iwvi.simenv_rolloutdata)\n"
   ]
  },
  {
   "cell_type": "code",
   "execution_count": 30,
   "id": "58524c04",
   "metadata": {},
   "outputs": [],
   "source": [
    "print(datetime.datetime.now())"
   ]
  },
  {
   "cell_type": "code",
   "execution_count": 31,
   "id": "80505808",
   "metadata": {},
   "outputs": [],
   "source": [
    "loss_array = np.array(loss_list)\n",
    "plt.figure(figsize=(16,12))\n",
    "plt.plot(loss_array[:,0])\n",
    "plt.xlabel(\"iteration\")\n",
    "plt.ylabel(\"loss\")\n"
   ]
  },
  {
   "cell_type": "code",
   "execution_count": 32,
   "id": "595571bb",
   "metadata": {},
   "outputs": [],
   "source": [
    "normalized_loss_array = np.array(normalized_loss_list)\n",
    "plt.figure(figsize=(16,12))\n",
    "plt.plot(normalized_loss_array[:,0])\n",
    "plt.xlabel(\"iteration\")\n",
    "plt.ylabel(\"loss\")\n"
   ]
  },
  {
   "cell_type": "code",
   "execution_count": null,
   "id": "e30aafb3",
   "metadata": {},
   "outputs": [],
   "source": []
  },
  {
   "cell_type": "code",
   "execution_count": null,
   "id": "00534f40",
   "metadata": {},
   "outputs": [],
   "source": []
  },
  {
   "cell_type": "code",
   "execution_count": null,
   "id": "a02a42d0",
   "metadata": {},
   "outputs": [],
   "source": []
  },
  {
   "cell_type": "code",
   "execution_count": null,
   "id": "d4eac5fc",
   "metadata": {},
   "outputs": [],
   "source": []
  },
  {
   "cell_type": "code",
   "execution_count": null,
   "id": "159397de",
   "metadata": {},
   "outputs": [],
   "source": []
  },
  {
   "cell_type": "markdown",
   "id": "9e3563b7",
   "metadata": {},
   "source": [
    "# Iter 3"
   ]
  },
  {
   "cell_type": "code",
   "execution_count": 33,
   "id": "3205b8a5",
   "metadata": {
    "scrolled": true
   },
   "outputs": [],
   "source": [
    "iwvi.get_sim_rollout_bamdppolicy_data_randomstop()"
   ]
  },
  {
   "cell_type": "code",
   "execution_count": 34,
   "id": "0538e9c5",
   "metadata": {
    "scrolled": true
   },
   "outputs": [],
   "source": [
    "iwvi.train_ratio(num_iter=num_iter_max, lr=default_lr, early_stop_step=default_early, policy=agent.select_action)\n"
   ]
  },
  {
   "cell_type": "code",
   "execution_count": 35,
   "id": "0a0e3de4",
   "metadata": {},
   "outputs": [],
   "source": [
    "loss_list.append(iwvi.eval_loss(weight_alpha=1.))\n",
    "normalized_loss_list.append(iwvi.eval_loss(weight_alpha=alpha))\n"
   ]
  },
  {
   "cell_type": "code",
   "execution_count": null,
   "id": "2b6a0db4",
   "metadata": {},
   "outputs": [],
   "source": []
  },
  {
   "cell_type": "code",
   "execution_count": null,
   "id": "eb283841",
   "metadata": {},
   "outputs": [],
   "source": []
  },
  {
   "cell_type": "code",
   "execution_count": null,
   "id": "f2653c10",
   "metadata": {},
   "outputs": [],
   "source": []
  },
  {
   "cell_type": "code",
   "execution_count": null,
   "id": "e2976fa0",
   "metadata": {},
   "outputs": [],
   "source": []
  },
  {
   "cell_type": "code",
   "execution_count": null,
   "id": "1206ae79",
   "metadata": {},
   "outputs": [],
   "source": []
  },
  {
   "cell_type": "code",
   "execution_count": 37,
   "id": "95244b0d",
   "metadata": {},
   "outputs": [],
   "source": [
    "train_curve1, valid_curve1 = iwvi.train_weighted_vae(num_iter=num_iter_max, lr=default_lr, early_stop_step=default_early, weight_alpha=alpha, flag=1)\n",
    "iwvi.update_mulogvar_offlinedata()\n",
    "\n",
    "# train_curve2, valid_curve2 = iwvi.train_weighted_vae(num_iter=num_iter_max, lr=vae_lr, early_stop_step=100, weight_alpha=alpha, flag=2)\n",
    "# iwvi.update_mulogvar_offlinedata()\n",
    "\n",
    "# train_curve3, valid_curve3 = iwvi.train_weighted_vae(num_iter=num_iter_max, lr=vae_lr, early_stop_step=100, weight_alpha=alpha, flag=3)\n",
    "# iwvi.update_mulogvar_offlinedata()"
   ]
  },
  {
   "cell_type": "code",
   "execution_count": 38,
   "id": "b26bcef2",
   "metadata": {
    "scrolled": true
   },
   "outputs": [],
   "source": [
    "plt.plot(train_curve1)\n",
    "plt.plot(valid_curve1)\n",
    "plt.show()\n",
    "\n",
    "# plt.plot(train_curve2)\n",
    "# plt.plot(valid_curve2)\n",
    "# plt.show()\n",
    "\n",
    "# plt.plot(train_curve3)\n",
    "# plt.plot(valid_curve3)\n",
    "# plt.show()\n",
    "print(\"alpha\",alpha, \"default_lr\", default_lr)"
   ]
  },
  {
   "cell_type": "code",
   "execution_count": 39,
   "id": "476bd674",
   "metadata": {},
   "outputs": [],
   "source": [
    "# iwvi.get_sim_rollout_bamdppolicy_data_fixlen()\n",
    "# simdata0a = copy.deepcopy(iwvi.simenv_rolloutdata)\n",
    "# iwvi.get_sim_rollout_bamdppolicy_data_fixlen()\n",
    "# simdata0b = copy.deepcopy(iwvi.simenv_rolloutdata)\n",
    "# # iwvi.get_sim_rollout_bamdppolicy_data_fixlen()\n",
    "# # simdata0c = copy.deepcopy(iwvi.simenv_rolloutdata)\n",
    "\n"
   ]
  },
  {
   "cell_type": "code",
   "execution_count": 42,
   "id": "d770e26f",
   "metadata": {},
   "outputs": [],
   "source": [
    "print(datetime.datetime.now())"
   ]
  },
  {
   "cell_type": "code",
   "execution_count": null,
   "id": "e0c6d7b1",
   "metadata": {},
   "outputs": [],
   "source": []
  },
  {
   "cell_type": "code",
   "execution_count": null,
   "id": "5f47e9a7",
   "metadata": {},
   "outputs": [],
   "source": []
  },
  {
   "cell_type": "code",
   "execution_count": null,
   "id": "dc069ab3",
   "metadata": {},
   "outputs": [],
   "source": []
  },
  {
   "cell_type": "markdown",
   "id": "9e13b1f9",
   "metadata": {},
   "source": [
    "# 評価関数計算"
   ]
  },
  {
   "cell_type": "code",
   "execution_count": 43,
   "id": "86281dcd",
   "metadata": {},
   "outputs": [],
   "source": [
    "iwvi.get_sim_rollout_bamdppolicy_data_randomstop()"
   ]
  },
  {
   "cell_type": "code",
   "execution_count": 44,
   "id": "fbd9ec8a",
   "metadata": {
    "scrolled": true
   },
   "outputs": [],
   "source": [
    "iwvi.train_ratio(num_iter=num_iter_max, lr=default_lr, early_stop_step=default_early, policy=agent.select_action)\n"
   ]
  },
  {
   "cell_type": "code",
   "execution_count": 45,
   "id": "fd391ef5",
   "metadata": {},
   "outputs": [],
   "source": [
    "loss_list.append(iwvi.eval_loss(weight_alpha=1.))\n",
    "normalized_loss_list.append(iwvi.eval_loss(weight_alpha=alpha))\n"
   ]
  },
  {
   "cell_type": "code",
   "execution_count": null,
   "id": "68f03260",
   "metadata": {},
   "outputs": [],
   "source": []
  },
  {
   "cell_type": "code",
   "execution_count": 47,
   "id": "48a53788",
   "metadata": {},
   "outputs": [],
   "source": [
    "train_curve, valid_curve = iwvi.train_initial_belief(num_iter=100000, lr=1e-3, early_stop_step=default_early)\n"
   ]
  },
  {
   "cell_type": "code",
   "execution_count": 48,
   "id": "cdfeb48e",
   "metadata": {},
   "outputs": [],
   "source": [
    "print(iwvi.initial_belief)\n"
   ]
  },
  {
   "cell_type": "code",
   "execution_count": 49,
   "id": "4c7e77b8",
   "metadata": {},
   "outputs": [],
   "source": [
    "train_curve, valid_curve = iwvi.train_penalty(num_iter=num_iter_max, lr=default_lr, early_stop_step=default_early)"
   ]
  },
  {
   "cell_type": "code",
   "execution_count": null,
   "id": "de2eb20b",
   "metadata": {},
   "outputs": [],
   "source": []
  },
  {
   "cell_type": "code",
   "execution_count": 50,
   "id": "15551d1c",
   "metadata": {},
   "outputs": [],
   "source": [
    "iwvi.save(ckpt_key=\"policy_optimization_iter1\")"
   ]
  },
  {
   "cell_type": "code",
   "execution_count": null,
   "id": "86fa3d97",
   "metadata": {},
   "outputs": [],
   "source": []
  },
  {
   "cell_type": "code",
   "execution_count": 51,
   "id": "28bd6cb8",
   "metadata": {},
   "outputs": [],
   "source": [
    "loss_array = np.array(loss_list)\n",
    "plt.figure(figsize=(16,12))\n",
    "plt.plot(loss_array[:,0])\n",
    "plt.xlabel(\"iteration\")\n",
    "plt.ylabel(\"loss\")\n",
    "plt.savefig(figfilenamehead+\"learning_curve.png\")\n",
    "plt.savefig(figfilenamehead+\"learning_curve.eps\")\n",
    "# plt.savefig(figfilenamehead+\"policy_evaluartion_learning_curve.pdf\")"
   ]
  },
  {
   "cell_type": "code",
   "execution_count": null,
   "id": "00847933",
   "metadata": {},
   "outputs": [],
   "source": []
  },
  {
   "cell_type": "code",
   "execution_count": 52,
   "id": "89ed4e93",
   "metadata": {},
   "outputs": [],
   "source": [
    "normalized_loss_array = np.array(normalized_loss_list)\n",
    "plt.figure(figsize=(16,12))\n",
    "plt.plot(normalized_loss_array[:,0])\n",
    "plt.xlabel(\"iteration\")\n",
    "plt.ylabel(\"loss\")\n",
    "plt.savefig(figfilenamehead+\"learning_curve_normalized_\"+env_str+\".png\")\n",
    "plt.savefig(figfilenamehead+\"learning_curve_normalized_\"+env_str+\".eps\")"
   ]
  },
  {
   "cell_type": "code",
   "execution_count": null,
   "id": "3b376013",
   "metadata": {},
   "outputs": [],
   "source": []
  },
  {
   "cell_type": "code",
   "execution_count": null,
   "id": "6d17e7c7",
   "metadata": {},
   "outputs": [],
   "source": []
  },
  {
   "cell_type": "code",
   "execution_count": null,
   "id": "dc530f5a",
   "metadata": {},
   "outputs": [],
   "source": []
  },
  {
   "cell_type": "code",
   "execution_count": null,
   "id": "193b38bc",
   "metadata": {},
   "outputs": [],
   "source": []
  },
  {
   "cell_type": "code",
   "execution_count": null,
   "id": "5161ae73",
   "metadata": {},
   "outputs": [],
   "source": []
  },
  {
   "cell_type": "code",
   "execution_count": null,
   "id": "c45e6f5b",
   "metadata": {},
   "outputs": [],
   "source": []
  },
  {
   "cell_type": "code",
   "execution_count": null,
   "id": "b970f850",
   "metadata": {},
   "outputs": [],
   "source": []
  },
  {
   "cell_type": "code",
   "execution_count": null,
   "id": "7160c40b",
   "metadata": {},
   "outputs": [],
   "source": []
  },
  {
   "cell_type": "code",
   "execution_count": null,
   "id": "a1610288",
   "metadata": {},
   "outputs": [],
   "source": []
  },
  {
   "cell_type": "code",
   "execution_count": null,
   "id": "2b505502",
   "metadata": {},
   "outputs": [],
   "source": []
  },
  {
   "cell_type": "code",
   "execution_count": null,
   "id": "7f681337",
   "metadata": {},
   "outputs": [],
   "source": []
  },
  {
   "cell_type": "code",
   "execution_count": null,
   "id": "f606201c",
   "metadata": {},
   "outputs": [],
   "source": []
  },
  {
   "cell_type": "code",
   "execution_count": null,
   "id": "9667a41e",
   "metadata": {},
   "outputs": [],
   "source": []
  },
  {
   "cell_type": "code",
   "execution_count": null,
   "id": "87f80fd5",
   "metadata": {},
   "outputs": [],
   "source": []
  },
  {
   "cell_type": "code",
   "execution_count": null,
   "id": "9538650c",
   "metadata": {},
   "outputs": [],
   "source": []
  },
  {
   "cell_type": "code",
   "execution_count": null,
   "id": "5eaff8d1",
   "metadata": {},
   "outputs": [],
   "source": []
  },
  {
   "cell_type": "code",
   "execution_count": null,
   "id": "3fe733b8",
   "metadata": {},
   "outputs": [],
   "source": []
  },
  {
   "cell_type": "code",
   "execution_count": null,
   "id": "c50b696a",
   "metadata": {},
   "outputs": [],
   "source": []
  },
  {
   "cell_type": "code",
   "execution_count": null,
   "id": "ae4e0c03",
   "metadata": {},
   "outputs": [],
   "source": []
  }
 ],
 "metadata": {
  "kernelspec": {
   "display_name": "Python 3 (ipykernel)",
   "language": "python",
   "name": "python3"
  },
  "language_info": {
   "codemirror_mode": {
    "name": "ipython",
    "version": 3
   },
   "file_extension": ".py",
   "mimetype": "text/x-python",
   "name": "python",
   "nbconvert_exporter": "python",
   "pygments_lexer": "ipython3",
   "version": "3.8.0"
  }
 },
 "nbformat": 4,
 "nbformat_minor": 5
}
