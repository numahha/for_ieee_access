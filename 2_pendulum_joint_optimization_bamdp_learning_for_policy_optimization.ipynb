{
 "cells": [
  {
   "cell_type": "code",
   "execution_count": 1,
   "id": "856b55c1",
   "metadata": {},
   "outputs": [
    {
     "name": "stdout",
     "output_type": "stream",
     "text": [
      "alpha 0.1\n",
      "2023-05-17 14:13:18.317556\n"
     ]
    }
   ],
   "source": [
    "%matplotlib inline\n",
    "\n",
    "import numpy as np\n",
    "import copy\n",
    "import matplotlib.pyplot as plt\n",
    "import pickle\n",
    "import random\n",
    "import torch\n",
    "from utils import torch_from_numpy\n",
    "import datetime\n",
    "\n",
    "from config import cfg_seed, cfg_env, cfg_z_dim, cfg_default_lr, cfg_default_early, cfg_penalty_lam_coef\n",
    "seed = cfg_seed\n",
    "env_str=cfg_env\n",
    "default_lr=cfg_default_lr\n",
    "default_early=cfg_default_early\n",
    "penalty_lam_coef=cfg_penalty_lam_coef\n",
    "\n",
    "from config import cfg_alpha\n",
    "alpha=cfg_alpha\n",
    "\n",
    "num_iter_max=200000\n",
    "env_name = 'CustomPendulum-v0'\n",
    "env_str=cfg_env\n",
    "figfilenamehead = \"fig_policy_optimization_\"+env_str+\"_iter1_\"\n",
    "\n",
    "loss_list = []\n",
    "normalized_loss_list = []\n",
    "\n",
    "print(\"alpha\",alpha)\n",
    "print(datetime.datetime.now())"
   ]
  },
  {
   "cell_type": "code",
   "execution_count": 2,
   "id": "0b29b244",
   "metadata": {},
   "outputs": [
    {
     "name": "stdout",
     "output_type": "stream",
     "text": [
      "2 1 1\n"
     ]
    },
    {
     "name": "stderr",
     "output_type": "stream",
     "text": [
      "/home/proxima-hishinuma/anaconda3/envs/iwvi/lib/python3.8/site-packages/gym/core.py:329: DeprecationWarning: \u001b[33mWARN: Initializing wrapper in old step API which returns one bool instead of two. It is recommended to set `new_step_api=True` to use new step API. This will be the default behaviour in future.\u001b[0m\n",
      "  deprecation(\n",
      "/home/proxima-hishinuma/anaconda3/envs/iwvi/lib/python3.8/site-packages/gym/wrappers/step_api_compatibility.py:39: DeprecationWarning: \u001b[33mWARN: Initializing environment in old step API which returns one bool instead of two. It is recommended to set `new_step_api=True` to use new step API. This will be the default behaviour in future.\u001b[0m\n",
      "  deprecation(\n",
      "/home/proxima-hishinuma/anaconda3/envs/iwvi/lib/python3.8/site-packages/gym/utils/passive_env_checker.py:174: UserWarning: \u001b[33mWARN: Future gym versions will require that `Env.reset` can be passed a `seed` instead of using `Env.seed` for resetting the environment random number generator.\u001b[0m\n",
      "  logger.warn(\n",
      "/home/proxima-hishinuma/anaconda3/envs/iwvi/lib/python3.8/site-packages/gym/utils/passive_env_checker.py:190: UserWarning: \u001b[33mWARN: Future gym versions will require that `Env.reset` can be passed `return_info` to return information from the environment resetting.\u001b[0m\n",
      "  logger.warn(\n",
      "/home/proxima-hishinuma/anaconda3/envs/iwvi/lib/python3.8/site-packages/gym/utils/passive_env_checker.py:195: UserWarning: \u001b[33mWARN: Future gym versions will require that `Env.reset` can be passed `options` to allow the environment initialisation to be passed additional information.\u001b[0m\n",
      "  logger.warn(\n"
     ]
    }
   ],
   "source": [
    "import gym\n",
    "import custom_gym\n",
    "env = gym.make(env_name)\n",
    "\n",
    "np.random.seed(seed)\n",
    "random.seed(seed)\n",
    "env.seed(seed)\n",
    "env.action_space.seed(seed)\n",
    "torch.manual_seed(seed)\n",
    "\n",
    "s_dim = env.reset().flatten().shape[0]\n",
    "a_dim = env.action_space.sample().flatten().shape[0]\n",
    "z_dim = cfg_z_dim\n",
    "print(s_dim, a_dim, z_dim)\n",
    "\n"
   ]
  },
  {
   "cell_type": "code",
   "execution_count": 3,
   "id": "212e6563",
   "metadata": {},
   "outputs": [
    {
     "name": "stdout",
     "output_type": "stream",
     "text": [
      "Loading models from checkpoints/sac_checkpoint_custom_pendulum_bamdp_standardvae_\n"
     ]
    }
   ],
   "source": [
    "\n",
    "\n",
    "from sac import SAC\n",
    "# agent = SAC(env.observation_space.shape[0], env.action_space)\n",
    "agent = SAC(env.observation_space.shape[0]+z_dim*2, env.action_space)\n",
    "agent.load_checkpoint(ckpt_path=\"checkpoints/sac_checkpoint_custom_\"+env_str+\"_bamdp_standardvae_\")\n",
    "\n",
    "\n",
    "offline_data = pickle.load(open(\"offline_data_\"+env_str+\".pkl\",\"rb\"))\n",
    "debug_info = pickle.load(open(\"offline_data_debug_info_\"+env_str+\".pkl\",\"rb\"))\n",
    "debug_info = np.array(debug_info)"
   ]
  },
  {
   "cell_type": "code",
   "execution_count": null,
   "id": "198d38de",
   "metadata": {},
   "outputs": [],
   "source": []
  },
  {
   "cell_type": "code",
   "execution_count": 4,
   "id": "86a182ab",
   "metadata": {},
   "outputs": [
    {
     "name": "stdout",
     "output_type": "stream",
     "text": [
      "base load ckpt ckpt_basevi_pendulum_unweighted\n",
      "base load self.initial_belief.data.sum() tensor(-2.5518)\n",
      "base load dec.state_dict()['net_phat.0.weight'].sum() tensor(2.2815)\n",
      "penalty_target_min tensor(-5.9096) penalty_target_max tensor(37.8379)\n"
     ]
    }
   ],
   "source": [
    "args_init_dict = {\n",
    "    \"offline_data\": offline_data,\n",
    "    \"s_dim\": s_dim,\n",
    "    \"a_dim\": a_dim,\n",
    "    \"z_dim\": z_dim,\n",
    "    #              \"policy\":agent.select_action,\n",
    "    \"mdp_policy\":None,\n",
    "    \"bamdp_policy\":agent.policy.my_np_select_action,\n",
    "    \"debug_info\":debug_info,\n",
    "    \"env\" : env,\n",
    "    \"ckpt_suffix\" : env_str,\n",
    "    \"penalty_lam_coef\" : penalty_lam_coef\n",
    "}\n",
    "# import vi_base\n",
    "# vi = vi_base.baseVI(args_init_dict)\n",
    "import vi_iw\n",
    "iwvi = vi_iw.iwVI(args_init_dict)\n",
    "\n",
    "iwvi.load_base(ckpt_key=\"unweighted\")\n",
    "# iwvi.update_mulogvar_offlinedata()"
   ]
  },
  {
   "cell_type": "code",
   "execution_count": null,
   "id": "d9d2b315",
   "metadata": {},
   "outputs": [],
   "source": []
  },
  {
   "cell_type": "code",
   "execution_count": 5,
   "id": "f4127cb6",
   "metadata": {
    "scrolled": false
   },
   "outputs": [],
   "source": [
    "plt.figure(figsize=(18,10), dpi=250)\n",
    "np_mulogvar = iwvi.mulogvar_offlinedata.numpy()\n",
    "plt.xlabel(\"daming coeff\")\n",
    "plt.ylabel(\"latent variable mean\")\n",
    "\n",
    "plt.plot(debug_info[iwvi.validdata_num:,1], np_mulogvar[iwvi.validdata_num:,0], \"o\")\n",
    "plt.plot(debug_info[:iwvi.validdata_num,1], np_mulogvar[:iwvi.validdata_num,0], \"o\")\n",
    "# plt.xlim([-0.05,0.35])\n",
    "for i in range(len(debug_info)):\n",
    "    plt.annotate(str(i), xy=(debug_info[i,1],  np_mulogvar[i,0]))\n",
    "plt.savefig(figfilenamehead+\"damping_latent_\"+env_str+\"_iter0.png\")\n",
    "plt.savefig(figfilenamehead+\"damping_latent_\"+env_str+\"_iter0.eps\")\n",
    "# plt.savefig(figfilenamehead+\"damping_latent_\"+env_str+\"_iter0.pdf\")\n",
    "plt.show()\n",
    "\n",
    "\n",
    "for i in range(10):\n",
    "    print(debug_info[i*10 : (i+1)*10,1])\n",
    "# plt.show()\n",
    "print(\"摩擦係数-潜在変数\")"
   ]
  },
  {
   "cell_type": "code",
   "execution_count": 6,
   "id": "152a8ece",
   "metadata": {
    "scrolled": true
   },
   "outputs": [],
   "source": [
    "iwvi.get_real_rollout_bamdppolicy_data()"
   ]
  },
  {
   "cell_type": "code",
   "execution_count": 7,
   "id": "dbe60c58",
   "metadata": {},
   "outputs": [],
   "source": [
    "fig = plt.figure(figsize=(18,10), dpi=250)\n",
    "fig.patch.set_facecolor('white')\n",
    "ax_list = []\n",
    "for i in range(len(offline_data)):\n",
    "    ax_list.append(fig.add_subplot(len(offline_data)//10, 10, i+1))\n",
    "    ax_list[-1].set_xticks([])\n",
    "    ax_list[-1].set_yticks([])\n",
    "    ax_list[-1].plot(iwvi.debug_realenv_rolloutdata[i][:,0], iwvi.debug_realenv_rolloutdata[i][:,1],\"kx\") \n",
    "plt.show()"
   ]
  },
  {
   "cell_type": "code",
   "execution_count": 8,
   "id": "27aa74e9",
   "metadata": {},
   "outputs": [],
   "source": [
    "iwvi.get_sim_rollout_bamdppolicy_data_fixlen()\n",
    "simdata0a = copy.deepcopy(iwvi.simenv_rolloutdata)\n",
    "iwvi.get_sim_rollout_bamdppolicy_data_fixlen()\n",
    "simdata0b = copy.deepcopy(iwvi.simenv_rolloutdata)"
   ]
  },
  {
   "cell_type": "code",
   "execution_count": null,
   "id": "d76f7d28",
   "metadata": {},
   "outputs": [],
   "source": []
  },
  {
   "cell_type": "code",
   "execution_count": 9,
   "id": "c879225c",
   "metadata": {},
   "outputs": [],
   "source": [
    "\n",
    "\n",
    "fig = plt.figure(figsize=(18,10), dpi=250)\n",
    "fig.patch.set_facecolor('white')\n",
    "ax_list = []\n",
    "for i in range(len(offline_data)):\n",
    "    ax_list.append(fig.add_subplot(len(offline_data)//10, 10, i+1))\n",
    "    ax_list[-1].set_xticks([])\n",
    "    ax_list[-1].set_yticks([])\n",
    "#     ax_list[-1].plot(iwvi.offline_data[i][:,0], iwvi.offline_data[i][:,1],\"kx\") \n",
    "#     ax_list[-1].plot(iwvi.simenv_rolloutdata[i][:,0], iwvi.simenv_rolloutdata[i][:,1],\"o\") \n",
    "    ax_list[-1].plot(simdata0a[i][:,0], simdata0a[i][:,1]) \n",
    "    ax_list[-1].plot(simdata0b[i][:,0], simdata0b[i][:,1])\n",
    "    \n",
    "#     ax_list[-1].plot(simdata0c[i][:,0], simdata0c[i][:,1]) \n",
    "\n",
    "    ax_list[-1].plot(iwvi.debug_realenv_rolloutdata[i][:,0], iwvi.debug_realenv_rolloutdata[i][:,1],\"kx\") \n",
    "    ax_list[-1].plot(0, 0,\"ro\") \n",
    "\n",
    "plt.savefig(figfilenamehead+\"iter0.png\")\n",
    "# plt.savefig(figfilenamehead+\"iter0.pdf\")\n",
    "plt.savefig(figfilenamehead+\"iter0.eps\")\n",
    "print(\"実環境方策rollout vs Sim環境方策rollout\")"
   ]
  },
  {
   "cell_type": "code",
   "execution_count": 10,
   "id": "dc044e74",
   "metadata": {},
   "outputs": [],
   "source": [
    "print(datetime.datetime.now())"
   ]
  },
  {
   "cell_type": "code",
   "execution_count": null,
   "id": "bcdfa3ab",
   "metadata": {},
   "outputs": [],
   "source": []
  },
  {
   "cell_type": "markdown",
   "id": "86b4eb23",
   "metadata": {},
   "source": [
    "# Iter 1"
   ]
  },
  {
   "cell_type": "code",
   "execution_count": 11,
   "id": "b86a86b8",
   "metadata": {},
   "outputs": [],
   "source": [
    "iwvi.get_sim_rollout_bamdppolicy_data_randomstop()"
   ]
  },
  {
   "cell_type": "code",
   "execution_count": null,
   "id": "ef41e655",
   "metadata": {},
   "outputs": [],
   "source": []
  },
  {
   "cell_type": "code",
   "execution_count": 12,
   "id": "7d4c751c",
   "metadata": {
    "scrolled": true
   },
   "outputs": [],
   "source": [
    "iwvi.train_ratio(num_iter=num_iter_max, lr=default_lr, early_stop_step=default_early, policy=agent.select_action)\n"
   ]
  },
  {
   "cell_type": "code",
   "execution_count": 13,
   "id": "dc42cdb0",
   "metadata": {},
   "outputs": [],
   "source": [
    "loss_list.append(iwvi.eval_loss(weight_alpha=1.))\n",
    "normalized_loss_list.append(iwvi.eval_loss(weight_alpha=alpha))\n"
   ]
  },
  {
   "cell_type": "code",
   "execution_count": null,
   "id": "793e9ebe",
   "metadata": {},
   "outputs": [],
   "source": []
  },
  {
   "cell_type": "code",
   "execution_count": 14,
   "id": "8da9de9d",
   "metadata": {},
   "outputs": [],
   "source": [
    "\n",
    "def f(x):\n",
    "#     return x\n",
    "    return np.log10(x)\n",
    "\n",
    "fig = plt.figure(figsize=(18,10), dpi=250)\n",
    "ax_list = []\n",
    "# min_val = min([iwvi.offlinedata_weight[i].min().numpy() for i in range(len(offline_data))])\n",
    "# max_val = max([iwvi.offlinedata_weight[i].max().numpy() for i in range(len(offline_data))])\n",
    "min_val = 1e-8\n",
    "max_val = 1e3\n",
    "print(min_val, max_val)\n",
    "\n",
    "for i in range(len(offline_data)):\n",
    "    ax_list.append(fig.add_subplot(len(offline_data)//10, 10, i+1))\n",
    "    ax_list[-1].set_xticks([])\n",
    "    ax_list[-1].set_yticks([])\n",
    "    ax_list[-1].plot(iwvi.debug_realenv_rolloutdata[i][:,0], iwvi.debug_realenv_rolloutdata[i][:,1],\"k-\")\n",
    "    ax_list[-1].scatter(iwvi.offline_data[i][:,0], iwvi.offline_data[i][:,1], c=f(iwvi.offlinedata_weight[i].numpy()), vmin=f(min_val), vmax=f(max_val), s=5) \n",
    "plt.savefig(figfilenamehead+\"weight_iter1.png\")"
   ]
  },
  {
   "cell_type": "code",
   "execution_count": null,
   "id": "e49cc9b9",
   "metadata": {},
   "outputs": [],
   "source": []
  },
  {
   "cell_type": "code",
   "execution_count": null,
   "id": "de993d9f",
   "metadata": {},
   "outputs": [],
   "source": []
  },
  {
   "cell_type": "code",
   "execution_count": null,
   "id": "77bb8c0c",
   "metadata": {},
   "outputs": [],
   "source": []
  },
  {
   "cell_type": "code",
   "execution_count": 15,
   "id": "5d74801a",
   "metadata": {},
   "outputs": [],
   "source": [
    "train_curve1, valid_curve1 = iwvi.train_weighted_vae(num_iter=num_iter_max, lr=default_lr, early_stop_step=default_early, weight_alpha=alpha, flag=1)\n",
    "iwvi.update_mulogvar_offlinedata()\n",
    "\n",
    "# train_curve2, valid_curve2 = iwvi.train_weighted_vae(num_iter=num_iter_max, lr=vae_lr, early_stop_step=default_early, weight_alpha=alpha, flag=2)\n",
    "# iwvi.update_mulogvar_offlinedata()\n",
    "\n",
    "# train_curve3, valid_curve3 = iwvi.train_weighted_vae(num_iter=num_iter_max, lr=vae_lr, early_stop_step=default_early, weight_alpha=alpha, flag=3)\n",
    "# iwvi.update_mulogvar_offlinedata()"
   ]
  },
  {
   "cell_type": "code",
   "execution_count": 16,
   "id": "eb832160",
   "metadata": {
    "scrolled": true
   },
   "outputs": [],
   "source": [
    "plt.plot(train_curve1)\n",
    "plt.plot(valid_curve1)\n",
    "plt.show()\n",
    "\n",
    "# plt.plot(train_curve2)\n",
    "# plt.plot(valid_curve2)\n",
    "# plt.show()\n",
    "\n",
    "# plt.plot(train_curve3)\n",
    "# plt.plot(valid_curve3)\n",
    "# plt.show()\n",
    "print(\"alpha\",alpha, \"default_lr\", default_lr)"
   ]
  },
  {
   "cell_type": "code",
   "execution_count": 17,
   "id": "321b6e72",
   "metadata": {},
   "outputs": [],
   "source": [
    "iwvi.get_sim_rollout_bamdppolicy_data_fixlen()\n",
    "simdata0a = copy.deepcopy(iwvi.simenv_rolloutdata)\n",
    "iwvi.get_sim_rollout_bamdppolicy_data_fixlen()\n",
    "simdata0b = copy.deepcopy(iwvi.simenv_rolloutdata)\n",
    "# iwvi.get_sim_rollout_bamdppolicy_data_fixlen()\n",
    "# simdata0c = copy.deepcopy(iwvi.simenv_rolloutdata)\n",
    "# iwvi.get_sim_rollout_data_fixlen()\n",
    "# simdata0d = copy.deepcopy(iwvi.simenv_rolloutdata)\n",
    "# iwvi.get_sim_rollout_data_fixlen()\n",
    "# simdata0e = copy.deepcopy(iwvi.simenv_rolloutdata)\n",
    "\n"
   ]
  },
  {
   "cell_type": "code",
   "execution_count": 18,
   "id": "ca09cf28",
   "metadata": {},
   "outputs": [],
   "source": [
    "fig = plt.figure(figsize=(18,10), dpi=250)\n",
    "fig.patch.set_facecolor('white')\n",
    "ax_list = []\n",
    "for i in range(len(offline_data)):\n",
    "    ax_list.append(fig.add_subplot(len(offline_data)//10, 10, i+1))\n",
    "    ax_list[-1].set_xticks([])\n",
    "    ax_list[-1].set_yticks([])\n",
    "#     ax_list[-1].plot(iwvi.offline_data[i][:,0], iwvi.offline_data[i][:,1],\"kx\") \n",
    "#     ax_list[-1].plot(iwvi.simenv_rolloutdata[i][:,0], iwvi.simenv_rolloutdata[i][:,1],\"o\") \n",
    "    ax_list[-1].plot(simdata0a[i][:,0], simdata0a[i][:,1]) \n",
    "    ax_list[-1].plot(simdata0b[i][:,0], simdata0b[i][:,1]) \n",
    "#     ax_list[-1].plot(simdata0c[i][:,0], simdata0c[i][:,1]) \n",
    "#     ax_list[-1].plot(simdata0d[i][:,0], simdata0d[i][:,1]) \n",
    "#     ax_list[-1].plot(simdata0e[i][:,0], simdata0e[i][:,1]) \n",
    "\n",
    "    ax_list[-1].plot(iwvi.debug_realenv_rolloutdata[i][:,0], iwvi.debug_realenv_rolloutdata[i][:,1],\"kx\") \n",
    "    ax_list[-1].plot(0, 0,\"ro\")     \n",
    "plt.savefig(figfilenamehead+\"iter1.png\")\n",
    "plt.savefig(figfilenamehead+\"iter1.eps\")\n",
    "# plt.savefig(figfilenamehead+\"iter1.pdf\")\n",
    "print(\"実環境方策rollout vs Sim環境方策rollout\")"
   ]
  },
  {
   "cell_type": "code",
   "execution_count": 19,
   "id": "e5ab2b92",
   "metadata": {},
   "outputs": [],
   "source": [
    "plt.figure(figsize=(16,12))\n",
    "np_mulogvar = iwvi.mulogvar_offlinedata.numpy()\n",
    "\n",
    "\n",
    "plt.plot(debug_info[iwvi.validdata_num:,1], np_mulogvar[iwvi.validdata_num:,0], \"o\")\n",
    "plt.plot(debug_info[:iwvi.validdata_num,1], np_mulogvar[:iwvi.validdata_num,0], \"o\")\n",
    "plt.xlim([0,0.3])\n",
    "for i in range(len(debug_info)):\n",
    "    plt.annotate(str(i), xy=(debug_info[i,1],  np_mulogvar[i,0]))\n",
    "plt.savefig(figfilenamehead+\"damping_latent_iter1.png\")\n",
    "plt.savefig(figfilenamehead+\"damping_latent_iter1.eps\")\n",
    "# plt.savefig(figfilenamehead+\"damping_latent_iter1.pdf\")\n",
    "plt.show()\n",
    "\n",
    "# plt.figure(figsize=(16,12))\n",
    "# plt.plot(debug_info[iwvi.validdata_num:,1], np_mulogvar[iwvi.validdata_num:,0], \"o\")\n",
    "# plt.plot(debug_info[:iwvi.validdata_num,1], np_mulogvar[:iwvi.validdata_num,0], \"o\")\n",
    "# plt.plot([bif_c, bif_c],[np_mulogvar[:,0].min(),np_mulogvar[:,0].max()])\n",
    "# for i in range(len(debug_info)):\n",
    "#     plt.annotate(str(i), xy=(debug_info[i,1],  np_mulogvar[i,0]))\n",
    "# plt.xlim([0.06,0.14])\n",
    "# plt.show()\n",
    "\n",
    "\n",
    "for i in range(10):\n",
    "    print(debug_info[i*10 : (i+1)*10,1])\n",
    "# plt.show()\n",
    "print(\"摩擦係数-潜在変数\")"
   ]
  },
  {
   "cell_type": "code",
   "execution_count": 20,
   "id": "a628cb56",
   "metadata": {},
   "outputs": [],
   "source": [
    "print(datetime.datetime.now())"
   ]
  },
  {
   "cell_type": "code",
   "execution_count": null,
   "id": "1febc246",
   "metadata": {},
   "outputs": [],
   "source": []
  },
  {
   "cell_type": "code",
   "execution_count": null,
   "id": "9be35d17",
   "metadata": {},
   "outputs": [],
   "source": []
  },
  {
   "cell_type": "code",
   "execution_count": null,
   "id": "d03fcea4",
   "metadata": {},
   "outputs": [],
   "source": []
  },
  {
   "cell_type": "code",
   "execution_count": null,
   "id": "1c6913b1",
   "metadata": {},
   "outputs": [],
   "source": []
  },
  {
   "cell_type": "code",
   "execution_count": null,
   "id": "e68de735",
   "metadata": {},
   "outputs": [],
   "source": []
  },
  {
   "cell_type": "markdown",
   "id": "17bd9f2e",
   "metadata": {},
   "source": [
    "# Iter2"
   ]
  },
  {
   "cell_type": "code",
   "execution_count": 21,
   "id": "d628df14",
   "metadata": {},
   "outputs": [],
   "source": [
    "iwvi.get_sim_rollout_bamdppolicy_data_randomstop()"
   ]
  },
  {
   "cell_type": "code",
   "execution_count": 22,
   "id": "34acc524",
   "metadata": {
    "scrolled": true
   },
   "outputs": [],
   "source": [
    "iwvi.train_ratio(num_iter=num_iter_max, lr=default_lr, early_stop_step=default_early, policy=agent.select_action)\n"
   ]
  },
  {
   "cell_type": "code",
   "execution_count": 23,
   "id": "de428e1c",
   "metadata": {},
   "outputs": [],
   "source": [
    "loss_list.append(iwvi.eval_loss(weight_alpha=1.))\n",
    "normalized_loss_list.append(iwvi.eval_loss(weight_alpha=alpha))\n"
   ]
  },
  {
   "cell_type": "code",
   "execution_count": null,
   "id": "40bdfa66",
   "metadata": {},
   "outputs": [],
   "source": []
  },
  {
   "cell_type": "code",
   "execution_count": 24,
   "id": "aba366ff",
   "metadata": {},
   "outputs": [],
   "source": [
    "fig = plt.figure(figsize=(18,10), dpi=250)\n",
    "ax_list = []\n",
    "# min_val = min([iwvi.offlinedata_weight[i].min().numpy() for i in range(len(offline_data))])\n",
    "# max_val = max([iwvi.offlinedata_weight[i].max().numpy() for i in range(len(offline_data))])\n",
    "min_val = 1e-8\n",
    "max_val = 1e3\n",
    "print(min_val, max_val)\n",
    "\n",
    "for i in range(len(offline_data)):\n",
    "    ax_list.append(fig.add_subplot(len(offline_data)//10, 10, i+1))\n",
    "    ax_list[-1].set_xticks([])\n",
    "    ax_list[-1].set_yticks([])\n",
    "    ax_list[-1].plot(iwvi.debug_realenv_rolloutdata[i][:,0], iwvi.debug_realenv_rolloutdata[i][:,1],\"k-\")\n",
    "    ax_list[-1].scatter(iwvi.offline_data[i][:,0], iwvi.offline_data[i][:,1], c=f(iwvi.offlinedata_weight[i].numpy()), vmin=f(min_val), vmax=f(max_val), s=5) \n",
    "plt.savefig(figfilenamehead+\"weight_iter2.png\")"
   ]
  },
  {
   "cell_type": "code",
   "execution_count": null,
   "id": "9ea27f93",
   "metadata": {},
   "outputs": [],
   "source": []
  },
  {
   "cell_type": "code",
   "execution_count": null,
   "id": "86834204",
   "metadata": {},
   "outputs": [],
   "source": []
  },
  {
   "cell_type": "code",
   "execution_count": 25,
   "id": "cd2fa426",
   "metadata": {},
   "outputs": [],
   "source": [
    "train_curve1, valid_curve1 = iwvi.train_weighted_vae(num_iter=num_iter_max, lr=default_lr, early_stop_step=default_early, weight_alpha=alpha, flag=1)\n",
    "iwvi.update_mulogvar_offlinedata()\n",
    "\n",
    "train_curve2, valid_curve2 = iwvi.train_weighted_vae(num_iter=num_iter_max, lr=default_lr, early_stop_step=default_early, weight_alpha=alpha, flag=2)\n",
    "iwvi.update_mulogvar_offlinedata()\n",
    "\n",
    "train_curve3, valid_curve3 = iwvi.train_weighted_vae(num_iter=num_iter_max, lr=default_lr, early_stop_step=default_early, weight_alpha=alpha, flag=3)\n",
    "iwvi.update_mulogvar_offlinedata()"
   ]
  },
  {
   "cell_type": "code",
   "execution_count": 26,
   "id": "edc84611",
   "metadata": {
    "scrolled": true
   },
   "outputs": [],
   "source": [
    "plt.plot(train_curve1)\n",
    "plt.plot(valid_curve1)\n",
    "plt.show()\n",
    "\n",
    "# plt.plot(train_curve2)\n",
    "# plt.plot(valid_curve2)\n",
    "# plt.show()\n",
    "\n",
    "# plt.plot(train_curve3)\n",
    "# plt.plot(valid_curve3)\n",
    "# plt.show()\n",
    "print(\"alpha\",alpha, \"default_lr\", default_lr)"
   ]
  },
  {
   "cell_type": "code",
   "execution_count": 27,
   "id": "b2935aa9",
   "metadata": {},
   "outputs": [],
   "source": [
    "iwvi.get_sim_rollout_bamdppolicy_data_fixlen()\n",
    "simdata0a = copy.deepcopy(iwvi.simenv_rolloutdata)\n",
    "iwvi.get_sim_rollout_bamdppolicy_data_fixlen()\n",
    "simdata0b = copy.deepcopy(iwvi.simenv_rolloutdata)\n",
    "# iwvi.get_sim_rollout_bamdppolicy_data_fixlen()\n",
    "# simdata0c = copy.deepcopy(iwvi.simenv_rolloutdata)\n"
   ]
  },
  {
   "cell_type": "code",
   "execution_count": 28,
   "id": "00f667e2",
   "metadata": {},
   "outputs": [],
   "source": [
    "\n",
    "fig = plt.figure(figsize=(18,10), dpi=250)\n",
    "fig.patch.set_facecolor('white')\n",
    "ax_list = []\n",
    "for i in range(len(offline_data)):\n",
    "    ax_list.append(fig.add_subplot(len(offline_data)//10, 10, i+1))\n",
    "    ax_list[-1].set_xticks([])\n",
    "    ax_list[-1].set_yticks([])\n",
    "#     ax_list[-1].plot(iwvi.offline_data[i][:,0], iwvi.offline_data[i][:,1],\"kx\") \n",
    "#     ax_list[-1].plot(iwvi.simenv_rolloutdata[i][:,0], iwvi.simenv_rolloutdata[i][:,1],\"o\") \n",
    "    ax_list[-1].plot(simdata0a[i][:,0], simdata0a[i][:,1]) \n",
    "    ax_list[-1].plot(simdata0b[i][:,0], simdata0b[i][:,1]) \n",
    "#     ax_list[-1].plot(simdata0c[i][:,0], simdata0c[i][:,1]) \n",
    "\n",
    "    ax_list[-1].plot(iwvi.debug_realenv_rolloutdata[i][:,0], iwvi.debug_realenv_rolloutdata[i][:,1],\"kx\") \n",
    "    ax_list[-1].plot(0, 0,\"ro\")     \n",
    "plt.savefig(figfilenamehead+\"joint_iter2.png\")\n",
    "plt.savefig(figfilenamehead+\"joint_iter2.eps\")\n",
    "# plt.savefig(figfilenamehead+\"joint_iter2.pdf\")\n",
    "\n",
    "print(\"実環境方策rollout vs Sim環境方策rollout\")"
   ]
  },
  {
   "cell_type": "code",
   "execution_count": 29,
   "id": "44081576",
   "metadata": {},
   "outputs": [],
   "source": [
    "plt.figure(figsize=(16,12))\n",
    "np_mulogvar = iwvi.mulogvar_offlinedata.numpy()\n",
    "\n",
    "\n",
    "plt.plot(debug_info[iwvi.validdata_num:,1], np_mulogvar[iwvi.validdata_num:,0], \"o\")\n",
    "plt.plot(debug_info[:iwvi.validdata_num,1], np_mulogvar[:iwvi.validdata_num,0], \"o\")\n",
    "plt.xlim([0,0.3])\n",
    "for i in range(len(debug_info)):\n",
    "    plt.annotate(str(i), xy=(debug_info[i,1],  np_mulogvar[i,0]))\n",
    "plt.savefig(figfilenamehead+\"damping_latent_iter2.png\")\n",
    "plt.savefig(figfilenamehead+\"damping_latent_iter2.eps\")\n",
    "# plt.savefig(figfilenamehead+\"damping_latent_iter2.pdf\")\n",
    "plt.show()\n",
    "\n",
    "\n",
    "for i in range(10):\n",
    "    print(debug_info[i*10 : (i+1)*10,1])\n",
    "# plt.show()\n",
    "print(\"摩擦係数-潜在変数\")"
   ]
  },
  {
   "cell_type": "code",
   "execution_count": 30,
   "id": "58524c04",
   "metadata": {},
   "outputs": [],
   "source": [
    "print(datetime.datetime.now())"
   ]
  },
  {
   "cell_type": "code",
   "execution_count": 31,
   "id": "80505808",
   "metadata": {},
   "outputs": [],
   "source": [
    "loss_array = np.array(loss_list)\n",
    "plt.figure(figsize=(16,12))\n",
    "plt.plot(loss_array[:,0])\n",
    "plt.xlabel(\"iteration\")\n",
    "plt.ylabel(\"loss\")\n"
   ]
  },
  {
   "cell_type": "code",
   "execution_count": 32,
   "id": "595571bb",
   "metadata": {},
   "outputs": [],
   "source": [
    "normalized_loss_array = np.array(normalized_loss_list)\n",
    "plt.figure(figsize=(16,12))\n",
    "plt.plot(normalized_loss_array[:,0])\n",
    "plt.xlabel(\"iteration\")\n",
    "plt.ylabel(\"loss\")\n"
   ]
  },
  {
   "cell_type": "code",
   "execution_count": null,
   "id": "e30aafb3",
   "metadata": {},
   "outputs": [],
   "source": []
  },
  {
   "cell_type": "code",
   "execution_count": null,
   "id": "00534f40",
   "metadata": {},
   "outputs": [],
   "source": []
  },
  {
   "cell_type": "code",
   "execution_count": null,
   "id": "a02a42d0",
   "metadata": {},
   "outputs": [],
   "source": []
  },
  {
   "cell_type": "code",
   "execution_count": null,
   "id": "d4eac5fc",
   "metadata": {},
   "outputs": [],
   "source": []
  },
  {
   "cell_type": "code",
   "execution_count": null,
   "id": "159397de",
   "metadata": {},
   "outputs": [],
   "source": []
  },
  {
   "cell_type": "markdown",
   "id": "9e3563b7",
   "metadata": {},
   "source": [
    "# Iter 3"
   ]
  },
  {
   "cell_type": "code",
   "execution_count": 33,
   "id": "3205b8a5",
   "metadata": {
    "scrolled": true
   },
   "outputs": [],
   "source": [
    "iwvi.get_sim_rollout_bamdppolicy_data_randomstop()"
   ]
  },
  {
   "cell_type": "code",
   "execution_count": 34,
   "id": "0538e9c5",
   "metadata": {
    "scrolled": true
   },
   "outputs": [],
   "source": [
    "iwvi.train_ratio(num_iter=num_iter_max, lr=default_lr, early_stop_step=default_early, policy=agent.select_action)\n"
   ]
  },
  {
   "cell_type": "code",
   "execution_count": 35,
   "id": "0a0e3de4",
   "metadata": {},
   "outputs": [],
   "source": [
    "loss_list.append(iwvi.eval_loss(weight_alpha=1.))\n",
    "normalized_loss_list.append(iwvi.eval_loss(weight_alpha=alpha))\n"
   ]
  },
  {
   "cell_type": "code",
   "execution_count": null,
   "id": "2b6a0db4",
   "metadata": {},
   "outputs": [],
   "source": []
  },
  {
   "cell_type": "code",
   "execution_count": 36,
   "id": "76d75595",
   "metadata": {},
   "outputs": [],
   "source": [
    "fig = plt.figure(figsize=(18,10), dpi=250)\n",
    "ax_list = []\n",
    "# min_val = min([iwvi.offlinedata_weight[i].min().numpy() for i in range(len(offline_data))])\n",
    "# max_val = max([iwvi.offlinedata_weight[i].max().numpy() for i in range(len(offline_data))])\n",
    "min_val = 1e-8\n",
    "max_val = 1e3\n",
    "print(min_val, max_val)\n",
    "\n",
    "for i in range(len(offline_data)):\n",
    "    ax_list.append(fig.add_subplot(len(offline_data)//10, 10, i+1))\n",
    "    ax_list[-1].set_xticks([])\n",
    "    ax_list[-1].set_yticks([])\n",
    "    ax_list[-1].plot(iwvi.debug_realenv_rolloutdata[i][:,0], iwvi.debug_realenv_rolloutdata[i][:,1],\"k-\")\n",
    "    ax_list[-1].scatter(iwvi.offline_data[i][:,0], iwvi.offline_data[i][:,1], c=f(iwvi.offlinedata_weight[i].numpy()), vmin=f(min_val), vmax=f(max_val), s=5) \n",
    "plt.savefig(figfilenamehead+\"weight_iter3.png\")"
   ]
  },
  {
   "cell_type": "code",
   "execution_count": null,
   "id": "eb283841",
   "metadata": {},
   "outputs": [],
   "source": []
  },
  {
   "cell_type": "code",
   "execution_count": null,
   "id": "f2653c10",
   "metadata": {},
   "outputs": [],
   "source": []
  },
  {
   "cell_type": "code",
   "execution_count": null,
   "id": "e2976fa0",
   "metadata": {},
   "outputs": [],
   "source": []
  },
  {
   "cell_type": "code",
   "execution_count": null,
   "id": "1206ae79",
   "metadata": {},
   "outputs": [],
   "source": []
  },
  {
   "cell_type": "code",
   "execution_count": 37,
   "id": "95244b0d",
   "metadata": {},
   "outputs": [],
   "source": [
    "train_curve1, valid_curve1 = iwvi.train_weighted_vae(num_iter=num_iter_max, lr=default_lr, early_stop_step=default_early, weight_alpha=alpha, flag=1)\n",
    "iwvi.update_mulogvar_offlinedata()\n",
    "\n",
    "# train_curve2, valid_curve2 = iwvi.train_weighted_vae(num_iter=num_iter_max, lr=vae_lr, early_stop_step=100, weight_alpha=alpha, flag=2)\n",
    "# iwvi.update_mulogvar_offlinedata()\n",
    "\n",
    "# train_curve3, valid_curve3 = iwvi.train_weighted_vae(num_iter=num_iter_max, lr=vae_lr, early_stop_step=100, weight_alpha=alpha, flag=3)\n",
    "# iwvi.update_mulogvar_offlinedata()"
   ]
  },
  {
   "cell_type": "code",
   "execution_count": 38,
   "id": "b26bcef2",
   "metadata": {
    "scrolled": true
   },
   "outputs": [],
   "source": [
    "plt.plot(train_curve1)\n",
    "plt.plot(valid_curve1)\n",
    "plt.show()\n",
    "\n",
    "# plt.plot(train_curve2)\n",
    "# plt.plot(valid_curve2)\n",
    "# plt.show()\n",
    "\n",
    "# plt.plot(train_curve3)\n",
    "# plt.plot(valid_curve3)\n",
    "# plt.show()\n",
    "print(\"alpha\",alpha, \"default_lr\", default_lr)"
   ]
  },
  {
   "cell_type": "code",
   "execution_count": 39,
   "id": "476bd674",
   "metadata": {},
   "outputs": [],
   "source": [
    "iwvi.get_sim_rollout_bamdppolicy_data_fixlen()\n",
    "simdata0a = copy.deepcopy(iwvi.simenv_rolloutdata)\n",
    "iwvi.get_sim_rollout_bamdppolicy_data_fixlen()\n",
    "simdata0b = copy.deepcopy(iwvi.simenv_rolloutdata)\n",
    "# iwvi.get_sim_rollout_bamdppolicy_data_fixlen()\n",
    "# simdata0c = copy.deepcopy(iwvi.simenv_rolloutdata)\n",
    "\n"
   ]
  },
  {
   "cell_type": "code",
   "execution_count": 40,
   "id": "91ac1c1b",
   "metadata": {},
   "outputs": [],
   "source": [
    "fig = plt.figure(figsize=(18,10), dpi=250)\n",
    "fig.patch.set_facecolor('white')\n",
    "ax_list = []\n",
    "for i in range(len(offline_data)):\n",
    "    ax_list.append(fig.add_subplot(len(offline_data)//10, 10, i+1))\n",
    "    ax_list[-1].set_xticks([])\n",
    "    ax_list[-1].set_yticks([])\n",
    "#     ax_list[-1].plot(iwvi.offline_data[i][:,0], iwvi.offline_data[i][:,1],\"kx\") \n",
    "#     ax_list[-1].plot(iwvi.simenv_rolloutdata[i][:,0], iwvi.simenv_rolloutdata[i][:,1],\"o\") \n",
    "    ax_list[-1].plot(simdata0a[i][:,0], simdata0a[i][:,1]) \n",
    "    ax_list[-1].plot(simdata0b[i][:,0], simdata0b[i][:,1]) \n",
    "#     ax_list[-1].plot(simdata0c[i][:,0], simdata0c[i][:,1]) \n",
    "\n",
    "    ax_list[-1].plot(iwvi.debug_realenv_rolloutdata[i][:,0], iwvi.debug_realenv_rolloutdata[i][:,1],\"kx\") \n",
    "    ax_list[-1].plot(0, 0,\"ro\") \n",
    "plt.savefig(figfilenamehead+\"joint_iter3.png\")\n",
    "plt.savefig(figfilenamehead+\"joint_iter3.eps\")\n",
    "# plt.savefig(figfilenamehead+\"joint_iter3.pdf\")\n",
    "\n",
    "print(\"実環境方策rollout vs Sim環境方策rollout\")"
   ]
  },
  {
   "cell_type": "code",
   "execution_count": 41,
   "id": "fb38efe0",
   "metadata": {},
   "outputs": [],
   "source": [
    "plt.figure(figsize=(16,12))\n",
    "np_mulogvar = iwvi.mulogvar_offlinedata.numpy()\n",
    "\n",
    "\n",
    "plt.plot(debug_info[iwvi.validdata_num:,1], np_mulogvar[iwvi.validdata_num:,0], \"o\")\n",
    "plt.plot(debug_info[:iwvi.validdata_num,1], np_mulogvar[:iwvi.validdata_num,0], \"o\")\n",
    "plt.xlim([0,0.3])\n",
    "for i in range(len(debug_info)):\n",
    "    plt.annotate(str(i), xy=(debug_info[i,1],  np_mulogvar[i,0]))\n",
    "plt.savefig(figfilenamehead+\"damping_latent_iter3.png\")\n",
    "plt.savefig(figfilenamehead+\"damping_latent_iter3.eps\")\n",
    "# plt.savefig(figfilenamehead+\"damping_latent_iter3.pdf\")\n",
    "plt.show()\n",
    "\n",
    "\n",
    "for i in range(10):\n",
    "    print(debug_info[i*10 : (i+1)*10,1])\n",
    "# plt.show()\n",
    "print(\"摩擦係数-潜在変数\")"
   ]
  },
  {
   "cell_type": "code",
   "execution_count": 42,
   "id": "d770e26f",
   "metadata": {},
   "outputs": [],
   "source": [
    "print(datetime.datetime.now())"
   ]
  },
  {
   "cell_type": "code",
   "execution_count": null,
   "id": "e0c6d7b1",
   "metadata": {},
   "outputs": [],
   "source": []
  },
  {
   "cell_type": "code",
   "execution_count": null,
   "id": "5f47e9a7",
   "metadata": {},
   "outputs": [],
   "source": []
  },
  {
   "cell_type": "code",
   "execution_count": null,
   "id": "dc069ab3",
   "metadata": {},
   "outputs": [],
   "source": []
  },
  {
   "cell_type": "markdown",
   "id": "9e13b1f9",
   "metadata": {},
   "source": [
    "# 評価関数計算"
   ]
  },
  {
   "cell_type": "code",
   "execution_count": 43,
   "id": "86281dcd",
   "metadata": {},
   "outputs": [],
   "source": [
    "iwvi.get_sim_rollout_bamdppolicy_data_randomstop()"
   ]
  },
  {
   "cell_type": "code",
   "execution_count": 44,
   "id": "fbd9ec8a",
   "metadata": {
    "scrolled": true
   },
   "outputs": [],
   "source": [
    "iwvi.train_ratio(num_iter=num_iter_max, lr=default_lr, early_stop_step=default_early, policy=agent.select_action)\n"
   ]
  },
  {
   "cell_type": "code",
   "execution_count": 45,
   "id": "fd391ef5",
   "metadata": {},
   "outputs": [],
   "source": [
    "loss_list.append(iwvi.eval_loss(weight_alpha=1.))\n",
    "normalized_loss_list.append(iwvi.eval_loss(weight_alpha=alpha))\n"
   ]
  },
  {
   "cell_type": "code",
   "execution_count": 46,
   "id": "40908e8c",
   "metadata": {},
   "outputs": [],
   "source": [
    "fig = plt.figure(figsize=(18,10), dpi=250)\n",
    "ax_list = []\n",
    "# min_val = min([iwvi.offlinedata_weight[i].min().numpy() for i in range(len(offline_data))])\n",
    "# max_val = max([iwvi.offlinedata_weight[i].max().numpy() for i in range(len(offline_data))])\n",
    "min_val = 1e-8\n",
    "max_val = 1e3\n",
    "print(min_val, max_val)\n",
    "\n",
    "for i in range(len(offline_data)):\n",
    "    ax_list.append(fig.add_subplot(len(offline_data)//10, 10, i+1))\n",
    "    ax_list[-1].set_xticks([])\n",
    "    ax_list[-1].set_yticks([])\n",
    "    ax_list[-1].plot(iwvi.debug_realenv_rolloutdata[i][:,0], iwvi.debug_realenv_rolloutdata[i][:,1],\"k-\")\n",
    "    ax_list[-1].scatter(iwvi.offline_data[i][:,0], iwvi.offline_data[i][:,1], c=f(iwvi.offlinedata_weight[i].numpy()), vmin=f(min_val), vmax=f(max_val), s=5) \n",
    "plt.savefig(figfilenamehead+\"weight_iter6.png\")"
   ]
  },
  {
   "cell_type": "code",
   "execution_count": null,
   "id": "68f03260",
   "metadata": {},
   "outputs": [],
   "source": []
  },
  {
   "cell_type": "code",
   "execution_count": 47,
   "id": "48a53788",
   "metadata": {},
   "outputs": [],
   "source": [
    "train_curve, valid_curve = iwvi.train_initial_belief(num_iter=100000, lr=1e-3, early_stop_step=default_early)\n"
   ]
  },
  {
   "cell_type": "code",
   "execution_count": 48,
   "id": "cdfeb48e",
   "metadata": {},
   "outputs": [],
   "source": [
    "print(iwvi.initial_belief)\n"
   ]
  },
  {
   "cell_type": "code",
   "execution_count": 49,
   "id": "4c7e77b8",
   "metadata": {},
   "outputs": [],
   "source": [
    "train_curve, valid_curve = iwvi.train_penalty(num_iter=num_iter_max, lr=default_lr, early_stop_step=default_early)"
   ]
  },
  {
   "cell_type": "code",
   "execution_count": null,
   "id": "de2eb20b",
   "metadata": {},
   "outputs": [],
   "source": []
  },
  {
   "cell_type": "code",
   "execution_count": 50,
   "id": "15551d1c",
   "metadata": {},
   "outputs": [],
   "source": [
    "iwvi.save(ckpt_key=\"policy_optimization_iter1\")"
   ]
  },
  {
   "cell_type": "code",
   "execution_count": null,
   "id": "86fa3d97",
   "metadata": {},
   "outputs": [],
   "source": []
  },
  {
   "cell_type": "code",
   "execution_count": 51,
   "id": "28bd6cb8",
   "metadata": {},
   "outputs": [],
   "source": [
    "loss_array = np.array(loss_list)\n",
    "plt.figure(figsize=(16,12))\n",
    "plt.plot(loss_array[:,0])\n",
    "plt.xlabel(\"iteration\")\n",
    "plt.ylabel(\"loss\")\n",
    "plt.savefig(figfilenamehead+\"learning_curve.png\")\n",
    "plt.savefig(figfilenamehead+\"learning_curve.eps\")\n",
    "# plt.savefig(figfilenamehead+\"policy_evaluartion_learning_curve.pdf\")"
   ]
  },
  {
   "cell_type": "code",
   "execution_count": null,
   "id": "00847933",
   "metadata": {},
   "outputs": [],
   "source": []
  },
  {
   "cell_type": "code",
   "execution_count": 52,
   "id": "89ed4e93",
   "metadata": {},
   "outputs": [],
   "source": [
    "normalized_loss_array = np.array(normalized_loss_list)\n",
    "plt.figure(figsize=(16,12))\n",
    "plt.plot(normalized_loss_array[:,0])\n",
    "plt.xlabel(\"iteration\")\n",
    "plt.ylabel(\"loss\")\n",
    "plt.savefig(figfilenamehead+\"learning_curve_normalized_\"+env_str+\".png\")\n",
    "plt.savefig(figfilenamehead+\"learning_curve_normalized_\"+env_str+\".eps\")"
   ]
  },
  {
   "cell_type": "code",
   "execution_count": null,
   "id": "3b376013",
   "metadata": {},
   "outputs": [],
   "source": []
  },
  {
   "cell_type": "code",
   "execution_count": null,
   "id": "6d17e7c7",
   "metadata": {},
   "outputs": [],
   "source": []
  },
  {
   "cell_type": "code",
   "execution_count": null,
   "id": "dc530f5a",
   "metadata": {},
   "outputs": [],
   "source": []
  },
  {
   "cell_type": "code",
   "execution_count": null,
   "id": "193b38bc",
   "metadata": {},
   "outputs": [],
   "source": []
  },
  {
   "cell_type": "code",
   "execution_count": null,
   "id": "5161ae73",
   "metadata": {},
   "outputs": [],
   "source": []
  },
  {
   "cell_type": "code",
   "execution_count": null,
   "id": "c45e6f5b",
   "metadata": {},
   "outputs": [],
   "source": []
  },
  {
   "cell_type": "code",
   "execution_count": null,
   "id": "b970f850",
   "metadata": {},
   "outputs": [],
   "source": []
  },
  {
   "cell_type": "code",
   "execution_count": null,
   "id": "7160c40b",
   "metadata": {},
   "outputs": [],
   "source": []
  },
  {
   "cell_type": "code",
   "execution_count": null,
   "id": "a1610288",
   "metadata": {},
   "outputs": [],
   "source": []
  },
  {
   "cell_type": "code",
   "execution_count": null,
   "id": "2b505502",
   "metadata": {},
   "outputs": [],
   "source": []
  },
  {
   "cell_type": "code",
   "execution_count": null,
   "id": "7f681337",
   "metadata": {},
   "outputs": [],
   "source": []
  },
  {
   "cell_type": "code",
   "execution_count": null,
   "id": "f606201c",
   "metadata": {},
   "outputs": [],
   "source": []
  },
  {
   "cell_type": "code",
   "execution_count": null,
   "id": "9667a41e",
   "metadata": {},
   "outputs": [],
   "source": []
  },
  {
   "cell_type": "code",
   "execution_count": null,
   "id": "87f80fd5",
   "metadata": {},
   "outputs": [],
   "source": []
  },
  {
   "cell_type": "code",
   "execution_count": null,
   "id": "9538650c",
   "metadata": {},
   "outputs": [],
   "source": []
  },
  {
   "cell_type": "code",
   "execution_count": null,
   "id": "5eaff8d1",
   "metadata": {},
   "outputs": [],
   "source": []
  },
  {
   "cell_type": "code",
   "execution_count": null,
   "id": "3fe733b8",
   "metadata": {},
   "outputs": [],
   "source": []
  },
  {
   "cell_type": "code",
   "execution_count": null,
   "id": "c50b696a",
   "metadata": {},
   "outputs": [],
   "source": []
  },
  {
   "cell_type": "code",
   "execution_count": null,
   "id": "ae4e0c03",
   "metadata": {},
   "outputs": [],
   "source": []
  }
 ],
 "metadata": {
  "kernelspec": {
   "display_name": "Python 3 (ipykernel)",
   "language": "python",
   "name": "python3"
  },
  "language_info": {
   "codemirror_mode": {
    "name": "ipython",
    "version": 3
   },
   "file_extension": ".py",
   "mimetype": "text/x-python",
   "name": "python",
   "nbconvert_exporter": "python",
   "pygments_lexer": "ipython3",
   "version": "3.8.0"
  }
 },
 "nbformat": 4,
 "nbformat_minor": 5
}
