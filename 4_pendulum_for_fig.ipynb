{
 "cells": [
  {
   "cell_type": "code",
   "execution_count": 1,
   "id": "856b55c1",
   "metadata": {},
   "outputs": [
    {
     "name": "stdout",
     "output_type": "stream",
     "text": [
      "seed 2\n",
      "2023-07-08 20:45:40.420151\n"
     ]
    }
   ],
   "source": [
    "%matplotlib inline\n",
    "\n",
    "import numpy as np\n",
    "import copy\n",
    "import matplotlib.pyplot as plt\n",
    "import pickle\n",
    "import random\n",
    "import torch\n",
    "from utils import torch_from_numpy\n",
    "import datetime\n",
    "\n",
    "from config import cfg_seed, cfg_env, cfg_z_dim\n",
    "seed = cfg_seed\n",
    "env_str=cfg_env\n",
    "# num_iter_max=200000\n",
    "env_name = 'CustomPendulum-v0'\n",
    "figfilenamehead = \"fig_policy_optimization_\"+env_str+\"_iter3_\"\n",
    "\n",
    "loss_list = []\n",
    "normalized_loss_list = []\n",
    "print(\"seed\",seed)\n",
    "\n",
    "print(datetime.datetime.now())"
   ]
  },
  {
   "cell_type": "code",
   "execution_count": 2,
   "id": "0b29b244",
   "metadata": {},
   "outputs": [
    {
     "name": "stdout",
     "output_type": "stream",
     "text": [
      "2 1 1\n"
     ]
    },
    {
     "name": "stderr",
     "output_type": "stream",
     "text": [
      "/home/proxima-hishinuma/anaconda3/envs/iwvi/lib/python3.8/site-packages/gym/core.py:329: DeprecationWarning: \u001b[33mWARN: Initializing wrapper in old step API which returns one bool instead of two. It is recommended to set `new_step_api=True` to use new step API. This will be the default behaviour in future.\u001b[0m\n",
      "  deprecation(\n",
      "/home/proxima-hishinuma/anaconda3/envs/iwvi/lib/python3.8/site-packages/gym/wrappers/step_api_compatibility.py:39: DeprecationWarning: \u001b[33mWARN: Initializing environment in old step API which returns one bool instead of two. It is recommended to set `new_step_api=True` to use new step API. This will be the default behaviour in future.\u001b[0m\n",
      "  deprecation(\n",
      "/home/proxima-hishinuma/anaconda3/envs/iwvi/lib/python3.8/site-packages/gym/utils/passive_env_checker.py:174: UserWarning: \u001b[33mWARN: Future gym versions will require that `Env.reset` can be passed a `seed` instead of using `Env.seed` for resetting the environment random number generator.\u001b[0m\n",
      "  logger.warn(\n",
      "/home/proxima-hishinuma/anaconda3/envs/iwvi/lib/python3.8/site-packages/gym/utils/passive_env_checker.py:190: UserWarning: \u001b[33mWARN: Future gym versions will require that `Env.reset` can be passed `return_info` to return information from the environment resetting.\u001b[0m\n",
      "  logger.warn(\n",
      "/home/proxima-hishinuma/anaconda3/envs/iwvi/lib/python3.8/site-packages/gym/utils/passive_env_checker.py:195: UserWarning: \u001b[33mWARN: Future gym versions will require that `Env.reset` can be passed `options` to allow the environment initialisation to be passed additional information.\u001b[0m\n",
      "  logger.warn(\n"
     ]
    }
   ],
   "source": [
    "import gym\n",
    "import custom_gym\n",
    "env = gym.make(env_name)\n",
    "\n",
    "np.random.seed(seed)\n",
    "random.seed(seed)\n",
    "env.seed(seed)\n",
    "env.action_space.seed(seed)\n",
    "torch.manual_seed(seed)\n",
    "\n",
    "s_dim = env.reset().flatten().shape[0]\n",
    "a_dim = env.action_space.sample().flatten().shape[0]\n",
    "z_dim = cfg_z_dim\n",
    "print(s_dim, a_dim, z_dim)"
   ]
  },
  {
   "cell_type": "code",
   "execution_count": 3,
   "id": "212e6563",
   "metadata": {},
   "outputs": [
    {
     "name": "stdout",
     "output_type": "stream",
     "text": [
      "Loading models from checkpoints/sac_checkpoint_custom_pendulum_bamdp_weightedvae2_\n"
     ]
    }
   ],
   "source": [
    "\n",
    "\n",
    "from sac import SAC\n",
    "# agent = SAC(env.observation_space.shape[0], env.action_space)\n",
    "agent = SAC(env.observation_space.shape[0]+z_dim*2, env.action_space)\n",
    "agent.load_checkpoint(ckpt_path=\"checkpoints/sac_checkpoint_custom_\"+env_str+\"_bamdp_weightedvae2_\")\n",
    "\n",
    "\n",
    "offline_data = pickle.load(open(\"offline_data_\"+env_str+\".pkl\",\"rb\"))\n",
    "debug_info = pickle.load(open(\"offline_data_debug_info_\"+env_str+\".pkl\",\"rb\"))\n",
    "debug_info = np.array(debug_info)"
   ]
  },
  {
   "cell_type": "code",
   "execution_count": 4,
   "id": "198d38de",
   "metadata": {},
   "outputs": [
    {
     "name": "stdout",
     "output_type": "stream",
     "text": [
      "dec: h_dim 48\n",
      "iwvi load ckpt1, ckpt2 ckpt_iwvi_basepartpendulum_policy_optimization_iter2 ckpt_iwvi_pendulum_policy_optimization_iter2\n",
      "base load ckpt ckpt_basevi_pendulum_policy_optimization_iter2\n",
      "base load self.initial_belief.data.sum() tensor(-3.7685)\n",
      "base load dec.state_dict()['net_phat.0.weight'].sum() tensor(6.8243)\n",
      "penalty_target_min tensor(-6.1621) penalty_target_max tensor(57.6535)\n",
      "train_loss:  -5.450103519916535\n",
      "valid_loss:  -1.9669810663461686\n",
      "h_min_tilde -6.1621203 ell_tilde -4.753479029202461 kappa_tilde 0.0008425579666065493\n",
      "success load ckpt_iwvi_basepartpendulum_policy_optimization_iter2\n",
      "train_loss:  -0.8278439212262629\n",
      "valid_loss:  0.36176324620842937\n",
      "weight_alpha 1.0 h_min_tilde -6.1621203 ell_tilde -0.5899224877393244 kappa_tilde 0.0004236300272122152\n"
     ]
    }
   ],
   "source": [
    "args_init_dict = {\n",
    "    \"offline_data\": offline_data,\n",
    "    \"s_dim\": s_dim,\n",
    "    \"a_dim\": a_dim,\n",
    "    \"z_dim\": z_dim,\n",
    "    #              \"policy\":agent.select_action,\n",
    "    \"mdp_policy\":None,\n",
    "    \"bamdp_policy\":agent.policy.my_np_select_action,\n",
    "    \"debug_info\":debug_info,\n",
    "    \"env\" : env,\n",
    "    \"ckpt_suffix\" : env_str,\n",
    "}\n",
    "# import vi_base\n",
    "# vi = vi_base.baseVI(args_init_dict)\n",
    "import vi_iw\n",
    "iwvi = vi_iw.iwVI(args_init_dict)\n",
    "\n",
    "# iwvi.load_base(ckpt_key=\"unweighted\")\n",
    "iwvi.load(ckpt_key=\"policy_optimization_iter2\")"
   ]
  },
  {
   "cell_type": "code",
   "execution_count": null,
   "id": "d9d2b315",
   "metadata": {},
   "outputs": [],
   "source": [
    "plt.figure(figsize=(18,10), dpi=250)\n",
    "np_mulogvar = iwvi.mulogvar_offlinedata.numpy()\n",
    "plt.xlabel(\"daming coeff\")\n",
    "plt.ylabel(\"latent variable mean\")\n",
    "\n",
    "plt.plot(debug_info[iwvi.validdata_num:,1], np_mulogvar[iwvi.validdata_num:,0], \"o\")\n",
    "plt.plot(debug_info[:iwvi.validdata_num,1], np_mulogvar[:iwvi.validdata_num,0], \"o\")\n",
    "# plt.xlim([-0.05,0.35])\n",
    "for i in range(len(debug_info)):\n",
    "    plt.annotate(str(i), xy=(debug_info[i,1],  np_mulogvar[i,0]))\n",
    "plt.savefig(figfilenamehead+\"damping_latent_\"+env_str+\"_iter0.png\")\n",
    "plt.savefig(figfilenamehead+\"damping_latent_\"+env_str+\"_iter0.eps\")\n",
    "# plt.savefig(figfilenamehead+\"damping_latent_\"+env_str+\"_iter0.pdf\")\n",
    "plt.show()\n",
    "\n",
    "\n",
    "for i in range(10):\n",
    "    print(debug_info[i*10 : (i+1)*10,1])\n",
    "# plt.show()\n",
    "print(\"摩擦係数-潜在変数\")"
   ]
  },
  {
   "cell_type": "code",
   "execution_count": null,
   "id": "3f4fe183",
   "metadata": {
    "scrolled": true
   },
   "outputs": [],
   "source": [
    "iwvi.get_real_rollout_bamdppolicy_data()"
   ]
  },
  {
   "cell_type": "code",
   "execution_count": null,
   "id": "cd13fec8",
   "metadata": {},
   "outputs": [],
   "source": [
    "fig = plt.figure(figsize=(18,10), dpi=250)\n",
    "fig.patch.set_facecolor('white')\n",
    "ax_list = []\n",
    "for i in range(len(offline_data)):\n",
    "    ax_list.append(fig.add_subplot(len(offline_data)//10, 10, i+1))\n",
    "    ax_list[-1].set_xticks([])\n",
    "    ax_list[-1].set_yticks([])\n",
    "    ax_list[-1].plot(iwvi.debug_realenv_rolloutdata[i][:,0], iwvi.debug_realenv_rolloutdata[i][:,1],\"kx\") \n",
    "    ax_list[-1].plot(0, 0,\"ro\")\n",
    "plt.show()"
   ]
  },
  {
   "cell_type": "code",
   "execution_count": null,
   "id": "f4d3fdf6",
   "metadata": {
    "scrolled": true
   },
   "outputs": [],
   "source": [
    "iwvi.get_sim_rollout_bamdppolicy_data_fixlen()\n",
    "simdata0a = copy.deepcopy(iwvi.simenv_rolloutdata)\n",
    "iwvi.get_sim_rollout_bamdppolicy_data_fixlen()\n",
    "simdata0b = copy.deepcopy(iwvi.simenv_rolloutdata)"
   ]
  },
  {
   "cell_type": "code",
   "execution_count": null,
   "id": "073db62f",
   "metadata": {},
   "outputs": [],
   "source": [
    "\n",
    "fig = plt.figure(figsize=(18,10), dpi=250)\n",
    "fig.patch.set_facecolor('white')\n",
    "ax_list = []\n",
    "for i in range(len(offline_data)):\n",
    "    ax_list.append(fig.add_subplot(len(offline_data)//10, 10, i+1))\n",
    "    ax_list[-1].set_xticks([])\n",
    "    ax_list[-1].set_yticks([])\n",
    "#     ax_list[-1].plot(iwvi.offline_data[i][:,0], iwvi.offline_data[i][:,1],\"kx\") \n",
    "#     ax_list[-1].plot(iwvi.simenv_rolloutdata[i][:,0], iwvi.simenv_rolloutdata[i][:,1],\"o\") \n",
    "    ax_list[-1].plot(simdata0a[i][:,0], simdata0a[i][:,1]) \n",
    "    ax_list[-1].plot(simdata0b[i][:,0], simdata0b[i][:,1]) \n",
    "#     ax_list[-1].plot(simdata0c[i][:,0], simdata0c[i][:,1]) \n",
    "\n",
    "    ax_list[-1].plot(iwvi.debug_realenv_rolloutdata[i][:,0], iwvi.debug_realenv_rolloutdata[i][:,1],\"kx\")\n",
    "    ax_list[-1].plot(0, 0,\"ro\")\n",
    "plt.savefig(figfilenamehead+\"iter0.png\")\n",
    "# plt.savefig(figfilenamehead+\"iter0.pdf\")\n",
    "plt.savefig(figfilenamehead+\"iter0.eps\")\n",
    "print(\"実環境方策rollout vs Sim環境方策rollout\")"
   ]
  },
  {
   "cell_type": "code",
   "execution_count": null,
   "id": "e6bd7842",
   "metadata": {},
   "outputs": [],
   "source": [
    "print(datetime.datetime.now())"
   ]
  },
  {
   "cell_type": "code",
   "execution_count": null,
   "id": "5afaf661",
   "metadata": {},
   "outputs": [],
   "source": []
  },
  {
   "cell_type": "code",
   "execution_count": null,
   "id": "24274112",
   "metadata": {},
   "outputs": [],
   "source": []
  },
  {
   "cell_type": "code",
   "execution_count": null,
   "id": "e3f50703",
   "metadata": {},
   "outputs": [],
   "source": []
  },
  {
   "cell_type": "code",
   "execution_count": null,
   "id": "47477df7",
   "metadata": {},
   "outputs": [],
   "source": []
  },
  {
   "cell_type": "code",
   "execution_count": null,
   "id": "a6d7df58",
   "metadata": {},
   "outputs": [],
   "source": []
  },
  {
   "cell_type": "code",
   "execution_count": null,
   "id": "d31eceea",
   "metadata": {},
   "outputs": [],
   "source": []
  },
  {
   "cell_type": "code",
   "execution_count": null,
   "id": "1012204b",
   "metadata": {},
   "outputs": [],
   "source": []
  },
  {
   "cell_type": "code",
   "execution_count": null,
   "id": "f51e944d",
   "metadata": {},
   "outputs": [],
   "source": []
  },
  {
   "cell_type": "code",
   "execution_count": null,
   "id": "0bdb9e9f",
   "metadata": {},
   "outputs": [],
   "source": []
  },
  {
   "cell_type": "code",
   "execution_count": null,
   "id": "5ec609ff",
   "metadata": {},
   "outputs": [],
   "source": []
  },
  {
   "cell_type": "code",
   "execution_count": null,
   "id": "7337e591",
   "metadata": {},
   "outputs": [],
   "source": []
  },
  {
   "cell_type": "code",
   "execution_count": null,
   "id": "f1501b1f",
   "metadata": {},
   "outputs": [],
   "source": []
  },
  {
   "cell_type": "code",
   "execution_count": null,
   "id": "f5de4910",
   "metadata": {},
   "outputs": [],
   "source": []
  },
  {
   "cell_type": "code",
   "execution_count": null,
   "id": "f81d22b7",
   "metadata": {},
   "outputs": [],
   "source": []
  },
  {
   "cell_type": "code",
   "execution_count": null,
   "id": "55b3f0ce",
   "metadata": {},
   "outputs": [],
   "source": []
  },
  {
   "cell_type": "code",
   "execution_count": null,
   "id": "5aa2d3de",
   "metadata": {},
   "outputs": [],
   "source": []
  },
  {
   "cell_type": "code",
   "execution_count": null,
   "id": "c270d7b0",
   "metadata": {},
   "outputs": [],
   "source": []
  },
  {
   "cell_type": "code",
   "execution_count": null,
   "id": "8a543e61",
   "metadata": {},
   "outputs": [],
   "source": []
  },
  {
   "cell_type": "code",
   "execution_count": null,
   "id": "590aa3ea",
   "metadata": {},
   "outputs": [],
   "source": []
  },
  {
   "cell_type": "code",
   "execution_count": null,
   "id": "d95059d9",
   "metadata": {},
   "outputs": [],
   "source": []
  },
  {
   "cell_type": "code",
   "execution_count": null,
   "id": "2cfa6b00",
   "metadata": {},
   "outputs": [],
   "source": []
  },
  {
   "cell_type": "code",
   "execution_count": null,
   "id": "79ab64ae",
   "metadata": {},
   "outputs": [],
   "source": []
  },
  {
   "cell_type": "code",
   "execution_count": null,
   "id": "ba9773af",
   "metadata": {},
   "outputs": [],
   "source": []
  },
  {
   "cell_type": "code",
   "execution_count": null,
   "id": "8674acd3",
   "metadata": {},
   "outputs": [],
   "source": []
  },
  {
   "cell_type": "code",
   "execution_count": null,
   "id": "8f0f9676",
   "metadata": {},
   "outputs": [],
   "source": []
  },
  {
   "cell_type": "code",
   "execution_count": null,
   "id": "90f071b4",
   "metadata": {},
   "outputs": [],
   "source": []
  },
  {
   "cell_type": "code",
   "execution_count": null,
   "id": "5b3e0df8",
   "metadata": {},
   "outputs": [],
   "source": []
  },
  {
   "cell_type": "code",
   "execution_count": null,
   "id": "4d5eb51c",
   "metadata": {},
   "outputs": [],
   "source": []
  },
  {
   "cell_type": "code",
   "execution_count": null,
   "id": "0a2e7dce",
   "metadata": {},
   "outputs": [],
   "source": []
  },
  {
   "cell_type": "code",
   "execution_count": null,
   "id": "5e04644b",
   "metadata": {},
   "outputs": [],
   "source": []
  },
  {
   "cell_type": "code",
   "execution_count": null,
   "id": "a737cf30",
   "metadata": {},
   "outputs": [],
   "source": []
  },
  {
   "cell_type": "code",
   "execution_count": null,
   "id": "477109dd",
   "metadata": {},
   "outputs": [],
   "source": []
  },
  {
   "cell_type": "code",
   "execution_count": null,
   "id": "1653e48d",
   "metadata": {},
   "outputs": [],
   "source": []
  },
  {
   "cell_type": "code",
   "execution_count": null,
   "id": "f692e6cc",
   "metadata": {},
   "outputs": [],
   "source": []
  },
  {
   "cell_type": "code",
   "execution_count": null,
   "id": "fc38e370",
   "metadata": {},
   "outputs": [],
   "source": []
  },
  {
   "cell_type": "code",
   "execution_count": null,
   "id": "19033c15",
   "metadata": {},
   "outputs": [],
   "source": []
  },
  {
   "cell_type": "code",
   "execution_count": null,
   "id": "17293577",
   "metadata": {},
   "outputs": [],
   "source": []
  },
  {
   "cell_type": "code",
   "execution_count": null,
   "id": "60090476",
   "metadata": {},
   "outputs": [],
   "source": []
  },
  {
   "cell_type": "code",
   "execution_count": null,
   "id": "9822deda",
   "metadata": {},
   "outputs": [],
   "source": []
  }
 ],
 "metadata": {
  "kernelspec": {
   "display_name": "Python 3 (ipykernel)",
   "language": "python",
   "name": "python3"
  },
  "language_info": {
   "codemirror_mode": {
    "name": "ipython",
    "version": 3
   },
   "file_extension": ".py",
   "mimetype": "text/x-python",
   "name": "python",
   "nbconvert_exporter": "python",
   "pygments_lexer": "ipython3",
   "version": "3.8.0"
  }
 },
 "nbformat": 4,
 "nbformat_minor": 5
}
