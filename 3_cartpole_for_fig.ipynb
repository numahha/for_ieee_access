{
 "cells": [
  {
   "cell_type": "code",
   "execution_count": 1,
   "id": "856b55c1",
   "metadata": {},
   "outputs": [
    {
     "name": "stdout",
     "output_type": "stream",
     "text": [
      "policy_evaluation_maxiter 5\n",
      "alpha 0.1\n",
      "seed 2\n",
      "2023-07-28 19:56:54.127083\n"
     ]
    }
   ],
   "source": [
    "%matplotlib inline\n",
    "\n",
    "import numpy as np\n",
    "import copy\n",
    "import matplotlib.pyplot as plt\n",
    "import pickle\n",
    "import random\n",
    "import torch\n",
    "from utils import torch_from_numpy\n",
    "import datetime\n",
    "\n",
    "from config import cfg_seed, cfg_env, cfg_z_dim, cfg_default_lr, cfg_default_early, cfg_policy_evaluation_maxiter\n",
    "seed = cfg_seed\n",
    "env_str=cfg_env\n",
    "default_lr=cfg_default_lr\n",
    "default_early=cfg_default_early\n",
    "# num_iter_max=200000\n",
    "env_name = 'CustomCartPole-v0'\n",
    "figfilenamehead = \"fig_policy_optimization_\"+env_str+\"_iter2_\"\n",
    "\n",
    "from config import cfg_alpha\n",
    "alpha=cfg_alpha\n",
    "\n",
    "loss_list = []\n",
    "normalized_loss_list = []\n",
    "\n",
    "policy_evaluation_maxiter = cfg_policy_evaluation_maxiter\n",
    "print(\"policy_evaluation_maxiter\",policy_evaluation_maxiter)\n",
    "print(\"alpha\",alpha)\n",
    "print(\"seed\",seed)\n",
    "print(datetime.datetime.now())"
   ]
  },
  {
   "cell_type": "code",
   "execution_count": 2,
   "id": "0b29b244",
   "metadata": {},
   "outputs": [
    {
     "name": "stdout",
     "output_type": "stream",
     "text": [
      "4 1 2\n"
     ]
    },
    {
     "name": "stderr",
     "output_type": "stream",
     "text": [
      "/home/proxima-hishinuma/anaconda3/envs/iwvi/lib/python3.8/site-packages/gym/core.py:329: DeprecationWarning: \u001b[33mWARN: Initializing wrapper in old step API which returns one bool instead of two. It is recommended to set `new_step_api=True` to use new step API. This will be the default behaviour in future.\u001b[0m\n",
      "  deprecation(\n",
      "/home/proxima-hishinuma/anaconda3/envs/iwvi/lib/python3.8/site-packages/gym/wrappers/step_api_compatibility.py:39: DeprecationWarning: \u001b[33mWARN: Initializing environment in old step API which returns one bool instead of two. It is recommended to set `new_step_api=True` to use new step API. This will be the default behaviour in future.\u001b[0m\n",
      "  deprecation(\n",
      "/home/proxima-hishinuma/anaconda3/envs/iwvi/lib/python3.8/site-packages/gym/core.py:268: DeprecationWarning: \u001b[33mWARN: Function `env.seed(seed)` is marked as deprecated and will be removed in the future. Please use `env.reset(seed=seed)` instead.\u001b[0m\n",
      "  deprecation(\n"
     ]
    }
   ],
   "source": [
    "import gym\n",
    "import custom_gym\n",
    "env = gym.make(env_name)\n",
    "\n",
    "np.random.seed(seed)\n",
    "random.seed(seed)\n",
    "env.seed(seed)\n",
    "env.action_space.seed(seed)\n",
    "torch.manual_seed(seed)\n",
    "\n",
    "s_dim = env.reset().flatten().shape[0]\n",
    "a_dim = env.action_space.sample().flatten().shape[0]\n",
    "z_dim = cfg_z_dim\n",
    "print(s_dim, a_dim, z_dim)"
   ]
  },
  {
   "cell_type": "code",
   "execution_count": 3,
   "id": "212e6563",
   "metadata": {},
   "outputs": [
    {
     "name": "stdout",
     "output_type": "stream",
     "text": [
      "Loading models from checkpoints/sac_checkpoint_custom_cartpole_bamdp_weightedvae_\n"
     ]
    }
   ],
   "source": [
    "\n",
    "\n",
    "from sac import SAC\n",
    "# agent = SAC(env.observation_space.shape[0], env.action_space)\n",
    "agent = SAC(env.observation_space.shape[0]+z_dim*2, env.action_space)\n",
    "agent.load_checkpoint(ckpt_path=\"checkpoints/sac_checkpoint_custom_\"+env_str+\"_bamdp_weightedvae_\")\n",
    "\n",
    "\n",
    "offline_data = pickle.load(open(\"offline_data_\"+env_str+\".pkl\",\"rb\"))\n",
    "debug_info = pickle.load(open(\"offline_data_debug_info_\"+env_str+\".pkl\",\"rb\"))\n",
    "debug_info = np.array(debug_info)"
   ]
  },
  {
   "cell_type": "code",
   "execution_count": 4,
   "id": "198d38de",
   "metadata": {},
   "outputs": [
    {
     "name": "stdout",
     "output_type": "stream",
     "text": [
      "dec: h_dim 64\n",
      "iwvi load ckpt1, ckpt2 ckpt_iwvi_basepartcartpole_policy_optimization_iter1 ckpt_iwvi_cartpole_policy_optimization_iter1\n",
      "base load ckpt ckpt_basevi_cartpole_policy_optimization_iter1\n",
      "base load self.initial_belief.data.sum() tensor(-8.8380)\n",
      "base load dec.state_dict()['net_phat.0.weight'].sum() tensor(15.8791)\n",
      "penalty_target_min tensor(-11.8739) penalty_target_max tensor(93.2373)\n",
      "train_loss:  -8.211570669651032\n",
      "valid_loss:  -6.868803341865538\n",
      "h_min_tilde -11.873863 ell_tilde -7.943017204093933 kappa_tilde 0.0005043789860723687\n",
      "success load ckpt_iwvi_basepartcartpole_policy_optimization_iter1\n",
      "train_loss:  -6.662730612772703\n",
      "valid_loss:  -6.948426387405395\n",
      "weight_alpha 1.0 h_min_tilde -11.873863 ell_tilde -6.719869767699241 kappa_tilde 0.00044048190140557876\n"
     ]
    }
   ],
   "source": [
    "args_init_dict = {\n",
    "    \"offline_data\": offline_data,\n",
    "    \"s_dim\": s_dim,\n",
    "    \"a_dim\": a_dim,\n",
    "    \"z_dim\": z_dim,\n",
    "    #              \"policy\":agent.select_action,\n",
    "    \"mdp_policy\":None,\n",
    "    \"bamdp_policy\":agent.policy.my_np_select_action,\n",
    "    \"debug_info\":debug_info,\n",
    "    \"env\" : env,\n",
    "    \"ckpt_suffix\" : env_str,\n",
    "}\n",
    "# import vi_base\n",
    "# vi = vi_base.baseVI(args_init_dict)\n",
    "import vi_iw\n",
    "iwvi = vi_iw.iwVI(args_init_dict)\n",
    "\n",
    "# iwvi.load_base(ckpt_key=\"unweighted\")\n",
    "iwvi.load(ckpt_key=\"policy_optimization_iter1\")"
   ]
  },
  {
   "cell_type": "code",
   "execution_count": 5,
   "id": "d9d2b315",
   "metadata": {},
   "outputs": [],
   "source": [
    "# plt.figure(figsize=(18,10), dpi=250)\n",
    "# np_mulogvar = iwvi.mulogvar_offlinedata.numpy()\n",
    "# plt.xlabel(\"daming coeff\")\n",
    "# plt.ylabel(\"latent variable mean\")\n",
    "\n",
    "# plt.plot(debug_info[iwvi.validdata_num:,1], np_mulogvar[iwvi.validdata_num:,0], \"o\")\n",
    "# plt.plot(debug_info[:iwvi.validdata_num,1], np_mulogvar[:iwvi.validdata_num,0], \"o\")\n",
    "# # plt.xlim([-0.05,0.35])\n",
    "# for i in range(len(debug_info)):\n",
    "#     plt.annotate(str(i), xy=(debug_info[i,1],  np_mulogvar[i,0]))\n",
    "# plt.savefig(figfilenamehead+\"damping_latent_\"+env_str+\"_iter0.png\")\n",
    "# plt.savefig(figfilenamehead+\"damping_latent_\"+env_str+\"_iter0.eps\")\n",
    "# # plt.savefig(figfilenamehead+\"damping_latent_\"+env_str+\"_iter0.pdf\")\n",
    "# plt.show()\n",
    "\n",
    "\n",
    "# for i in range(10):\n",
    "#     print(debug_info[i*10 : (i+1)*10,1])\n",
    "# # plt.show()\n",
    "# print(\"摩擦係数-潜在変数\")"
   ]
  },
  {
   "cell_type": "code",
   "execution_count": null,
   "id": "3f4fe183",
   "metadata": {
    "scrolled": true
   },
   "outputs": [
    {
     "name": "stdout",
     "output_type": "stream",
     "text": [
      "\n",
      " 0 7.152557373046875e-07\n"
     ]
    },
    {
     "name": "stderr",
     "output_type": "stream",
     "text": [
      "/home/proxima-hishinuma/anaconda3/envs/iwvi/lib/python3.8/site-packages/gym/utils/passive_env_checker.py:241: DeprecationWarning: `np.bool8` is a deprecated alias for `np.bool_`.  (Deprecated NumPy 1.24)\n",
      "  if not isinstance(terminated, (bool, np.bool8)):\n"
     ]
    },
    {
     "name": "stdout",
     "output_type": "stream",
     "text": [
      "\n",
      " 1 3.425431966781616\n",
      "\n",
      " 2 3.515673875808716\n",
      "\n",
      " 3 3.6264936923980713\n",
      "\n",
      " 4 6.480066299438477\n",
      "\n",
      " 5 5.600008010864258\n",
      "\n",
      " 6 6.770277976989746\n",
      "\n",
      " 7 7.135023832321167\n",
      "\n",
      " 8 4.949441194534302\n",
      "\n",
      " 9 6.856346130371094\n",
      "\n",
      " 10 6.759618759155273\n",
      "\n",
      " 11 4.50524115562439\n",
      "\n",
      " 12 3.360548257827759\n",
      "\n",
      " 13 3.2072789669036865\n",
      "\n",
      " 14 3.285720109939575\n",
      "\n",
      " 15 3.3178977966308594\n",
      "\n",
      " 16 3.24113130569458\n",
      "\n",
      " 17 3.5226376056671143\n",
      "\n",
      " 18 3.4071645736694336\n",
      "\n",
      " 19 3.269376754760742\n",
      "\n",
      " 20 3.367447853088379\n",
      "\n",
      " 21 3.3534109592437744\n",
      "\n",
      " 22 3.3219637870788574\n",
      "\n",
      " 23 3.4160332679748535\n",
      "\n",
      " 24 3.4643266201019287\n",
      "\n",
      " 25 3.3245770931243896\n",
      "\n",
      " 26 3.49137282371521\n",
      "\n",
      " 27 3.639941453933716\n",
      "\n",
      " 28 3.6526193618774414\n",
      "\n",
      " 29 3.345028877258301\n",
      "\n",
      " 30 3.121713161468506\n",
      "\n",
      " 31 3.4462122917175293\n",
      "\n",
      " 32 3.500521659851074\n",
      "\n",
      " 33 3.8193485736846924\n",
      "\n",
      " 34 3.4843883514404297\n",
      "\n",
      " 35 3.421396017074585\n",
      "\n",
      " 36 3.4548087120056152\n",
      "\n",
      " 37 3.4862122535705566\n",
      "\n",
      " 38 3.411417245864868\n",
      "\n",
      " 39 3.4996564388275146\n",
      "\n",
      " 40 3.6343424320220947\n",
      "\n",
      " 41 3.734372615814209\n",
      "\n",
      " 42 3.773362159729004\n",
      "\n",
      " 43 3.5077762603759766\n",
      "\n",
      " 44 3.6621971130371094\n",
      "\n",
      " 45 3.5787017345428467\n",
      "\n",
      " 46 3.597477436065674\n",
      "\n",
      " 47 3.6200859546661377\n",
      "\n",
      " 48 3.544966697692871\n",
      "\n",
      " 49 3.4389402866363525\n",
      "\n",
      " 50 5.905405759811401\n",
      "\n",
      " 51 6.90618896484375\n",
      "\n",
      " 52 5.551800489425659\n",
      "\n",
      " 53 3.630509376525879\n",
      "\n",
      " 54 3.4303388595581055\n",
      "\n",
      " 55 3.680018901824951\n",
      "\n",
      " 56 3.7611961364746094\n",
      "\n",
      " 57 3.712991952896118\n",
      "\n",
      " 58 6.787172794342041\n",
      "\n",
      " 59 7.0429465770721436\n",
      "\n",
      " 60 7.002668380737305\n",
      "\n",
      " 61 7.0888731479644775\n",
      "\n",
      " 62 7.269125699996948\n",
      "\n",
      " 63 6.947084426879883\n",
      "\n",
      " 64 7.055109024047852\n",
      "\n",
      " 65 7.091418504714966\n",
      "\n",
      " 66 6.88981556892395\n",
      "\n",
      " 67 7.0010340213775635\n",
      "\n",
      " 68 6.756694555282593\n",
      "\n",
      " 69 6.999322414398193\n",
      "\n",
      " 70 5.316985607147217\n",
      "\n",
      " 71 3.5864596366882324\n",
      "\n",
      " 72 3.6843085289001465\n",
      "\n",
      " 73 3.606565475463867\n",
      "\n",
      " 74 3.5087342262268066\n",
      "\n",
      " 75 3.5250277519226074\n",
      "\n",
      " 76 3.4382553100585938\n",
      "\n",
      " 77 3.6380438804626465\n",
      "\n",
      " 78 3.4925248622894287\n",
      "\n",
      " 79 3.5519521236419678\n",
      "\n",
      " 80 3.4400784969329834\n",
      "\n",
      " 81 3.5015456676483154\n",
      "\n",
      " 82 3.601672410964966\n",
      "\n",
      " 83 3.5103919506073\n",
      "\n",
      " 84 3.6772148609161377\n",
      "\n",
      " 85 3.489809036254883\n",
      "\n",
      " 86 3.585385799407959\n"
     ]
    }
   ],
   "source": [
    "iwvi.get_real_rollout_bamdppolicy_data()"
   ]
  },
  {
   "cell_type": "code",
   "execution_count": null,
   "id": "cd13fec8",
   "metadata": {},
   "outputs": [],
   "source": [
    "fig = plt.figure(figsize=(18,10), dpi=250)\n",
    "fig.patch.set_facecolor('white')\n",
    "ax_list = []\n",
    "for i in range(len(offline_data)):\n",
    "    ax_list.append(fig.add_subplot(len(offline_data)//10, 10, i+1))\n",
    "    ax_list[-1].set_xticks([])\n",
    "    ax_list[-1].set_yticks([])\n",
    "    ax_list[-1].plot(iwvi.debug_realenv_rolloutdata[i][:,0], iwvi.debug_realenv_rolloutdata[i][:,1],\"kx\") \n",
    "    ax_list[-1].plot(0, 0,\"ro\")\n",
    "plt.show()"
   ]
  },
  {
   "cell_type": "code",
   "execution_count": null,
   "id": "520d85eb",
   "metadata": {},
   "outputs": [],
   "source": [
    "fig = plt.figure(figsize=(18,10), dpi=250)\n",
    "fig.patch.set_facecolor('white')\n",
    "ax_list = []\n",
    "for i in range(len(offline_data)):\n",
    "    ax_list.append(fig.add_subplot(len(offline_data)//10, 10, i+1))\n",
    "    ax_list[-1].set_xticks([])\n",
    "    ax_list[-1].set_yticks([])\n",
    "    ax_list[-1].plot(iwvi.debug_realenv_rolloutdata[i][:,2], iwvi.debug_realenv_rolloutdata[i][:,3],\"kx\") \n",
    "    ax_list[-1].plot(0, 0,\"ro\")\n",
    "plt.show()"
   ]
  },
  {
   "cell_type": "code",
   "execution_count": null,
   "id": "f4d3fdf6",
   "metadata": {
    "scrolled": true
   },
   "outputs": [],
   "source": [
    "iwvi.get_sim_rollout_bamdppolicy_data_fixlen()\n",
    "simdata0a = copy.deepcopy(iwvi.simenv_rolloutdata)\n",
    "iwvi.get_sim_rollout_bamdppolicy_data_fixlen()\n",
    "simdata0b = copy.deepcopy(iwvi.simenv_rolloutdata)"
   ]
  },
  {
   "cell_type": "code",
   "execution_count": null,
   "id": "073db62f",
   "metadata": {},
   "outputs": [],
   "source": [
    "\n",
    "fig = plt.figure(figsize=(18,10), dpi=250)\n",
    "fig.patch.set_facecolor('white')\n",
    "ax_list = []\n",
    "for i in range(len(offline_data)):\n",
    "    ax_list.append(fig.add_subplot(len(offline_data)//10, 10, i+1))\n",
    "    ax_list[-1].set_xticks([])\n",
    "    ax_list[-1].set_yticks([])\n",
    "#     ax_list[-1].plot(iwvi.offline_data[i][:,0], iwvi.offline_data[i][:,1],\"kx\") \n",
    "#     ax_list[-1].plot(iwvi.simenv_rolloutdata[i][:,0], iwvi.simenv_rolloutdata[i][:,1],\"o\") \n",
    "    ax_list[-1].plot(simdata0a[i][:,0], simdata0a[i][:,1]) \n",
    "    ax_list[-1].plot(simdata0b[i][:,0], simdata0b[i][:,1]) \n",
    "#     ax_list[-1].plot(simdata0c[i][:,0], simdata0c[i][:,1]) \n",
    "\n",
    "    ax_list[-1].plot(iwvi.debug_realenv_rolloutdata[i][:,0], iwvi.debug_realenv_rolloutdata[i][:,1],\"kx\")\n",
    "    ax_list[-1].plot(0, 0,\"ro\")\n",
    "plt.savefig(figfilenamehead+\"iter1.png\")\n",
    "# plt.savefig(figfilenamehead+\"iter0.pdf\")\n",
    "plt.savefig(figfilenamehead+\"iter1.eps\")\n",
    "print(\"実環境方策rollout vs Sim環境方策rollout\")"
   ]
  },
  {
   "cell_type": "code",
   "execution_count": null,
   "id": "8eeea1e7",
   "metadata": {},
   "outputs": [],
   "source": [
    "\n",
    "fig = plt.figure(figsize=(18,10), dpi=250)\n",
    "fig.patch.set_facecolor('white')\n",
    "ax_list = []\n",
    "for i in range(len(offline_data)):\n",
    "    ax_list.append(fig.add_subplot(len(offline_data)//10, 10, i+1))\n",
    "    ax_list[-1].set_xticks([])\n",
    "    ax_list[-1].set_yticks([])\n",
    "#     ax_list[-1].plot(iwvi.offline_data[i][:,0], iwvi.offline_data[i][:,1],\"kx\") \n",
    "#     ax_list[-1].plot(iwvi.simenv_rolloutdata[i][:,0], iwvi.simenv_rolloutdata[i][:,1],\"o\") \n",
    "    ax_list[-1].plot(simdata0a[i][:,2], simdata0a[i][:,3]) \n",
    "    ax_list[-1].plot(simdata0b[i][:,2], simdata0b[i][:,3]) \n",
    "#     ax_list[-1].plot(simdata0c[i][:,0], simdata0c[i][:,1]) \n",
    "\n",
    "    ax_list[-1].plot(iwvi.debug_realenv_rolloutdata[i][:,2], iwvi.debug_realenv_rolloutdata[i][:,3],\"kx\")\n",
    "    ax_list[-1].plot(0, 0,\"ro\")\n",
    "plt.savefig(figfilenamehead+\"iter0.png\")\n",
    "# plt.savefig(figfilenamehead+\"iter0.pdf\")\n",
    "plt.savefig(figfilenamehead+\"iter0.eps\")\n",
    "print(\"実環境方策rollout vs Sim環境方策rollout\")"
   ]
  },
  {
   "cell_type": "code",
   "execution_count": null,
   "id": "52171534",
   "metadata": {},
   "outputs": [],
   "source": []
  },
  {
   "cell_type": "code",
   "execution_count": null,
   "id": "e6bd7842",
   "metadata": {},
   "outputs": [],
   "source": [
    "print(datetime.datetime.now())"
   ]
  },
  {
   "cell_type": "code",
   "execution_count": null,
   "id": "5afaf661",
   "metadata": {},
   "outputs": [],
   "source": []
  },
  {
   "cell_type": "code",
   "execution_count": null,
   "id": "24274112",
   "metadata": {},
   "outputs": [],
   "source": []
  },
  {
   "cell_type": "code",
   "execution_count": null,
   "id": "e3f50703",
   "metadata": {},
   "outputs": [],
   "source": []
  },
  {
   "cell_type": "code",
   "execution_count": null,
   "id": "47477df7",
   "metadata": {},
   "outputs": [],
   "source": []
  },
  {
   "cell_type": "code",
   "execution_count": null,
   "id": "a6d7df58",
   "metadata": {},
   "outputs": [],
   "source": []
  },
  {
   "cell_type": "code",
   "execution_count": null,
   "id": "d31eceea",
   "metadata": {},
   "outputs": [],
   "source": []
  },
  {
   "cell_type": "code",
   "execution_count": null,
   "id": "1012204b",
   "metadata": {},
   "outputs": [],
   "source": []
  },
  {
   "cell_type": "code",
   "execution_count": null,
   "id": "f51e944d",
   "metadata": {},
   "outputs": [],
   "source": []
  },
  {
   "cell_type": "code",
   "execution_count": null,
   "id": "0bdb9e9f",
   "metadata": {},
   "outputs": [],
   "source": []
  },
  {
   "cell_type": "code",
   "execution_count": null,
   "id": "5ec609ff",
   "metadata": {},
   "outputs": [],
   "source": []
  },
  {
   "cell_type": "code",
   "execution_count": null,
   "id": "7337e591",
   "metadata": {},
   "outputs": [],
   "source": []
  },
  {
   "cell_type": "code",
   "execution_count": null,
   "id": "f1501b1f",
   "metadata": {},
   "outputs": [],
   "source": []
  },
  {
   "cell_type": "code",
   "execution_count": null,
   "id": "f5de4910",
   "metadata": {},
   "outputs": [],
   "source": []
  },
  {
   "cell_type": "code",
   "execution_count": null,
   "id": "f81d22b7",
   "metadata": {},
   "outputs": [],
   "source": []
  },
  {
   "cell_type": "code",
   "execution_count": null,
   "id": "55b3f0ce",
   "metadata": {},
   "outputs": [],
   "source": []
  },
  {
   "cell_type": "code",
   "execution_count": null,
   "id": "5aa2d3de",
   "metadata": {},
   "outputs": [],
   "source": []
  },
  {
   "cell_type": "code",
   "execution_count": null,
   "id": "c270d7b0",
   "metadata": {},
   "outputs": [],
   "source": []
  },
  {
   "cell_type": "code",
   "execution_count": null,
   "id": "8a543e61",
   "metadata": {},
   "outputs": [],
   "source": []
  },
  {
   "cell_type": "code",
   "execution_count": null,
   "id": "590aa3ea",
   "metadata": {},
   "outputs": [],
   "source": []
  },
  {
   "cell_type": "code",
   "execution_count": null,
   "id": "d95059d9",
   "metadata": {},
   "outputs": [],
   "source": []
  },
  {
   "cell_type": "code",
   "execution_count": null,
   "id": "2cfa6b00",
   "metadata": {},
   "outputs": [],
   "source": []
  },
  {
   "cell_type": "code",
   "execution_count": null,
   "id": "8f40a07e",
   "metadata": {},
   "outputs": [],
   "source": []
  },
  {
   "cell_type": "code",
   "execution_count": null,
   "id": "c6dddf0a",
   "metadata": {},
   "outputs": [],
   "source": []
  },
  {
   "cell_type": "code",
   "execution_count": null,
   "id": "6dfd5f3d",
   "metadata": {},
   "outputs": [],
   "source": []
  },
  {
   "cell_type": "code",
   "execution_count": null,
   "id": "15f0f657",
   "metadata": {},
   "outputs": [],
   "source": []
  },
  {
   "cell_type": "code",
   "execution_count": null,
   "id": "31a4732a",
   "metadata": {},
   "outputs": [],
   "source": []
  },
  {
   "cell_type": "code",
   "execution_count": null,
   "id": "a1344971",
   "metadata": {},
   "outputs": [],
   "source": []
  },
  {
   "cell_type": "code",
   "execution_count": null,
   "id": "c1dda75c",
   "metadata": {},
   "outputs": [],
   "source": []
  },
  {
   "cell_type": "code",
   "execution_count": null,
   "id": "d932ad50",
   "metadata": {},
   "outputs": [],
   "source": []
  },
  {
   "cell_type": "code",
   "execution_count": null,
   "id": "e17b2a4f",
   "metadata": {},
   "outputs": [],
   "source": []
  },
  {
   "cell_type": "code",
   "execution_count": null,
   "id": "5c5caae4",
   "metadata": {},
   "outputs": [],
   "source": []
  },
  {
   "cell_type": "code",
   "execution_count": null,
   "id": "8a014c41",
   "metadata": {},
   "outputs": [],
   "source": [
    "\n"
   ]
  }
 ],
 "metadata": {
  "kernelspec": {
   "display_name": "Python 3 (ipykernel)",
   "language": "python",
   "name": "python3"
  },
  "language_info": {
   "codemirror_mode": {
    "name": "ipython",
    "version": 3
   },
   "file_extension": ".py",
   "mimetype": "text/x-python",
   "name": "python",
   "nbconvert_exporter": "python",
   "pygments_lexer": "ipython3",
   "version": "3.8.0"
  }
 },
 "nbformat": 4,
 "nbformat_minor": 5
}
