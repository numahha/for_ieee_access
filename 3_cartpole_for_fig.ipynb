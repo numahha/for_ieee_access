{
 "cells": [
  {
   "cell_type": "code",
   "execution_count": 1,
   "id": "856b55c1",
   "metadata": {},
   "outputs": [
    {
     "name": "stdout",
     "output_type": "stream",
     "text": [
      "policy_evaluation_maxiter 5\n",
      "alpha 0.1\n",
      "seed 3\n",
      "2023-07-29 10:10:28.796456\n"
     ]
    }
   ],
   "source": [
    "%matplotlib inline\n",
    "\n",
    "import numpy as np\n",
    "import copy\n",
    "import matplotlib.pyplot as plt\n",
    "import pickle\n",
    "import random\n",
    "import torch\n",
    "from utils import torch_from_numpy\n",
    "import datetime\n",
    "\n",
    "from config import cfg_seed, cfg_env, cfg_z_dim, cfg_default_lr, cfg_default_early, cfg_policy_evaluation_maxiter\n",
    "seed = cfg_seed\n",
    "env_str=cfg_env\n",
    "default_lr=cfg_default_lr\n",
    "default_early=cfg_default_early\n",
    "# num_iter_max=200000\n",
    "env_name = 'CustomCartPole-v0'\n",
    "figfilenamehead = \"fig_policy_optimization_\"+env_str+\"_iter2_\"\n",
    "\n",
    "from config import cfg_alpha\n",
    "alpha=cfg_alpha\n",
    "\n",
    "loss_list = []\n",
    "normalized_loss_list = []\n",
    "\n",
    "policy_evaluation_maxiter = cfg_policy_evaluation_maxiter\n",
    "print(\"policy_evaluation_maxiter\",policy_evaluation_maxiter)\n",
    "print(\"alpha\",alpha)\n",
    "print(\"seed\",seed)\n",
    "print(datetime.datetime.now())"
   ]
  },
  {
   "cell_type": "code",
   "execution_count": 2,
   "id": "0b29b244",
   "metadata": {},
   "outputs": [
    {
     "name": "stdout",
     "output_type": "stream",
     "text": [
      "4 1 2\n"
     ]
    },
    {
     "name": "stderr",
     "output_type": "stream",
     "text": [
      "/home/proxima-hishinuma/anaconda3/envs/iwvi/lib/python3.8/site-packages/gym/core.py:329: DeprecationWarning: \u001b[33mWARN: Initializing wrapper in old step API which returns one bool instead of two. It is recommended to set `new_step_api=True` to use new step API. This will be the default behaviour in future.\u001b[0m\n",
      "  deprecation(\n",
      "/home/proxima-hishinuma/anaconda3/envs/iwvi/lib/python3.8/site-packages/gym/wrappers/step_api_compatibility.py:39: DeprecationWarning: \u001b[33mWARN: Initializing environment in old step API which returns one bool instead of two. It is recommended to set `new_step_api=True` to use new step API. This will be the default behaviour in future.\u001b[0m\n",
      "  deprecation(\n",
      "/home/proxima-hishinuma/anaconda3/envs/iwvi/lib/python3.8/site-packages/gym/core.py:268: DeprecationWarning: \u001b[33mWARN: Function `env.seed(seed)` is marked as deprecated and will be removed in the future. Please use `env.reset(seed=seed)` instead.\u001b[0m\n",
      "  deprecation(\n"
     ]
    }
   ],
   "source": [
    "import gym\n",
    "import custom_gym\n",
    "env = gym.make(env_name)\n",
    "\n",
    "np.random.seed(seed)\n",
    "random.seed(seed)\n",
    "env.seed(seed)\n",
    "env.action_space.seed(seed)\n",
    "torch.manual_seed(seed)\n",
    "\n",
    "s_dim = env.reset().flatten().shape[0]\n",
    "a_dim = env.action_space.sample().flatten().shape[0]\n",
    "z_dim = cfg_z_dim\n",
    "print(s_dim, a_dim, z_dim)"
   ]
  },
  {
   "cell_type": "code",
   "execution_count": 3,
   "id": "212e6563",
   "metadata": {},
   "outputs": [
    {
     "name": "stdout",
     "output_type": "stream",
     "text": [
      "Loading models from checkpoints/sac_checkpoint_custom_cartpole_bamdp_weightedvae_\n"
     ]
    }
   ],
   "source": [
    "\n",
    "\n",
    "from sac import SAC\n",
    "# agent = SAC(env.observation_space.shape[0], env.action_space)\n",
    "agent = SAC(env.observation_space.shape[0]+z_dim*2, env.action_space)\n",
    "agent.load_checkpoint(ckpt_path=\"checkpoints/sac_checkpoint_custom_\"+env_str+\"_bamdp_weightedvae_\")\n",
    "\n",
    "\n",
    "offline_data = pickle.load(open(\"offline_data_\"+env_str+\".pkl\",\"rb\"))\n",
    "debug_info = pickle.load(open(\"offline_data_debug_info_\"+env_str+\".pkl\",\"rb\"))\n",
    "debug_info = np.array(debug_info)"
   ]
  },
  {
   "cell_type": "code",
   "execution_count": 4,
   "id": "198d38de",
   "metadata": {},
   "outputs": [
    {
     "name": "stdout",
     "output_type": "stream",
     "text": [
      "dec: h_dim 64\n",
      "iwvi load ckpt1, ckpt2 ckpt_iwvi_basepartcartpole_policy_optimization_iter1 ckpt_iwvi_cartpole_policy_optimization_iter1\n",
      "base load ckpt ckpt_basevi_cartpole_policy_optimization_iter1\n",
      "base load self.initial_belief.data.sum() tensor(-8.7779)\n",
      "base load dec.state_dict()['net_phat.0.weight'].sum() tensor(12.3080)\n",
      "penalty_target_min tensor(-11.9123) penalty_target_max tensor(8.1128)\n",
      "train_loss:  -8.648403590869904\n",
      "valid_loss:  -8.010216303253172\n",
      "h_min_tilde -11.912276 ell_tilde -8.520766133346559 kappa_tilde 0.0005430045146413783\n",
      "success load ckpt_iwvi_basepartcartpole_policy_optimization_iter1\n",
      "train_loss:  -6.7069837615340955\n",
      "valid_loss:  -8.134874007463456\n",
      "weight_alpha 1.0 h_min_tilde -11.912276 ell_tilde -6.992561810719967 kappa_tilde 0.00045084790048425524\n"
     ]
    }
   ],
   "source": [
    "args_init_dict = {\n",
    "    \"offline_data\": offline_data,\n",
    "    \"s_dim\": s_dim,\n",
    "    \"a_dim\": a_dim,\n",
    "    \"z_dim\": z_dim,\n",
    "    #              \"policy\":agent.select_action,\n",
    "    \"mdp_policy\":None,\n",
    "    \"bamdp_policy\":agent.policy.my_np_select_action,\n",
    "    \"debug_info\":debug_info,\n",
    "    \"env\" : env,\n",
    "    \"ckpt_suffix\" : env_str,\n",
    "}\n",
    "# import vi_base\n",
    "# vi = vi_base.baseVI(args_init_dict)\n",
    "import vi_iw\n",
    "iwvi = vi_iw.iwVI(args_init_dict)\n",
    "\n",
    "# iwvi.load_base(ckpt_key=\"unweighted\")\n",
    "iwvi.load(ckpt_key=\"policy_optimization_iter1\")"
   ]
  },
  {
   "cell_type": "code",
   "execution_count": 5,
   "id": "d9d2b315",
   "metadata": {},
   "outputs": [],
   "source": [
    "# plt.figure(figsize=(18,10), dpi=250)\n",
    "# np_mulogvar = iwvi.mulogvar_offlinedata.numpy()\n",
    "# plt.xlabel(\"daming coeff\")\n",
    "# plt.ylabel(\"latent variable mean\")\n",
    "\n",
    "# plt.plot(debug_info[iwvi.validdata_num:,1], np_mulogvar[iwvi.validdata_num:,0], \"o\")\n",
    "# plt.plot(debug_info[:iwvi.validdata_num,1], np_mulogvar[:iwvi.validdata_num,0], \"o\")\n",
    "# # plt.xlim([-0.05,0.35])\n",
    "# for i in range(len(debug_info)):\n",
    "#     plt.annotate(str(i), xy=(debug_info[i,1],  np_mulogvar[i,0]))\n",
    "# plt.savefig(figfilenamehead+\"damping_latent_\"+env_str+\"_iter0.png\")\n",
    "# plt.savefig(figfilenamehead+\"damping_latent_\"+env_str+\"_iter0.eps\")\n",
    "# # plt.savefig(figfilenamehead+\"damping_latent_\"+env_str+\"_iter0.pdf\")\n",
    "# plt.show()\n",
    "\n",
    "\n",
    "# for i in range(10):\n",
    "#     print(debug_info[i*10 : (i+1)*10,1])\n",
    "# # plt.show()\n",
    "# print(\"摩擦係数-潜在変数\")"
   ]
  },
  {
   "cell_type": "code",
   "execution_count": null,
   "id": "3f4fe183",
   "metadata": {
    "scrolled": true
   },
   "outputs": [
    {
     "name": "stdout",
     "output_type": "stream",
     "text": [
      "\n",
      " 0 7.152557373046875e-07\n"
     ]
    },
    {
     "name": "stderr",
     "output_type": "stream",
     "text": [
      "/home/proxima-hishinuma/anaconda3/envs/iwvi/lib/python3.8/site-packages/gym/utils/passive_env_checker.py:241: DeprecationWarning: `np.bool8` is a deprecated alias for `np.bool_`.  (Deprecated NumPy 1.24)\n",
      "  if not isinstance(terminated, (bool, np.bool8)):\n"
     ]
    },
    {
     "name": "stdout",
     "output_type": "stream",
     "text": [
      "\n",
      " 1 6.528544902801514\n",
      "\n",
      " 2 6.221145153045654\n",
      "\n",
      " 3 3.843322277069092\n",
      "\n",
      " 4 6.703811168670654\n",
      "\n",
      " 5 5.922531604766846\n",
      "\n",
      " 6 3.482060194015503\n",
      "\n",
      " 7 3.429225444793701\n",
      "\n",
      " 8 3.8323159217834473\n",
      "\n",
      " 9 3.343055486679077\n",
      "\n",
      " 10 3.8078978061676025\n",
      "\n",
      " 11 3.588758707046509\n",
      "\n",
      " 12 7.2064104080200195\n",
      "\n",
      " 13 3.828936815261841\n",
      "\n",
      " 14 7.3300299644470215\n",
      "\n",
      " 15 7.134817838668823\n",
      "\n",
      " 16 7.344166040420532\n",
      "\n",
      " 17 4.538688898086548\n",
      "\n",
      " 18 3.4815690517425537\n",
      "\n",
      " 19 3.4477996826171875\n",
      "\n",
      " 20 3.9672200679779053\n",
      "\n",
      " 21 3.55635666847229\n",
      "\n",
      " 22 3.565636157989502\n",
      "\n",
      " 23 3.8996963500976562\n",
      "\n",
      " 24 3.9188644886016846\n",
      "\n",
      " 25 3.6646697521209717\n",
      "\n",
      " 26 3.4640543460845947\n",
      "\n",
      " 27 3.676689624786377\n",
      "\n",
      " 28 3.6403632164001465\n",
      "\n",
      " 29 3.605985164642334\n",
      "\n",
      " 30 3.577357053756714\n",
      "\n",
      " 31 3.577991008758545\n",
      "\n",
      " 32 3.697737216949463\n",
      "\n",
      " 33 3.7725608348846436\n",
      "\n",
      " 34 4.440436363220215\n",
      "\n",
      " 35 3.4388163089752197\n",
      "\n",
      " 36 3.7213470935821533\n",
      "\n",
      " 37 3.5689334869384766\n",
      "\n",
      " 38 5.131173372268677\n",
      "\n",
      " 39 4.2021589279174805\n",
      "\n",
      " 40 3.5538220405578613\n",
      "\n",
      " 41 3.4872148036956787\n",
      "\n",
      " 42 3.4860551357269287\n",
      "\n",
      " 43 3.8033437728881836\n",
      "\n",
      " 44 4.4624176025390625\n",
      "\n",
      " 45 6.08952260017395\n",
      "\n",
      " 46 3.686600685119629\n",
      "\n",
      " 47 4.464199066162109\n",
      "\n",
      " 48 4.112801790237427\n",
      "\n",
      " 49 3.6923458576202393\n",
      "\n",
      " 50 6.198175430297852\n",
      "\n",
      " 51 4.295809984207153\n",
      "\n",
      " 52 3.6178231239318848\n",
      "\n",
      " 53 3.5509707927703857\n",
      "\n",
      " 54 4.226798057556152\n",
      "\n",
      " 55 6.991381883621216\n",
      "\n",
      " 56 3.6245222091674805\n",
      "\n",
      " 57 3.6843392848968506\n",
      "\n",
      " 58 3.5423550605773926\n",
      "\n",
      " 59 3.376420021057129\n",
      "\n",
      " 60 3.454554319381714\n",
      "\n",
      " 61 3.487478494644165\n",
      "\n",
      " 62 3.4874448776245117\n",
      "\n",
      " 63 4.305651664733887\n",
      "\n",
      " 64 4.003344535827637\n",
      "\n",
      " 65 7.24346661567688\n",
      "\n",
      " 66 7.021819114685059\n",
      "\n",
      " 67 3.707237958908081\n",
      "\n",
      " 68 3.7695553302764893\n",
      "\n",
      " 69 3.4485301971435547\n",
      "\n",
      " 70 3.477665901184082\n",
      "\n",
      " 71 4.441352844238281\n",
      "\n",
      " 72 7.3120551109313965\n",
      "\n",
      " 73 7.364567041397095\n",
      "\n",
      " 74 5.126715421676636\n",
      "\n",
      " 75 3.6844124794006348\n",
      "\n",
      " 76 3.876585006713867\n",
      "\n",
      " 77 3.777505874633789\n",
      "\n",
      " 78 3.705181837081909\n",
      "\n",
      " 79 4.020035982131958\n",
      "\n",
      " 80 7.960895299911499\n",
      "\n",
      " 81 4.187541723251343\n",
      "\n",
      " 82 4.559246063232422\n",
      "\n",
      " 83 4.231637239456177\n",
      "\n",
      " 84 4.390127182006836\n",
      "\n",
      " 85 7.4721949100494385\n",
      "\n",
      " 86 6.04090690612793\n",
      "\n",
      " 87 4.618534803390503\n",
      "\n",
      " 88 3.7189431190490723\n",
      "\n",
      " 89 3.5648186206817627\n"
     ]
    }
   ],
   "source": [
    "iwvi.get_real_rollout_bamdppolicy_data()"
   ]
  },
  {
   "cell_type": "code",
   "execution_count": null,
   "id": "cd13fec8",
   "metadata": {},
   "outputs": [],
   "source": [
    "fig = plt.figure(figsize=(18,10), dpi=250)\n",
    "fig.patch.set_facecolor('white')\n",
    "ax_list = []\n",
    "for i in range(len(offline_data)):\n",
    "    ax_list.append(fig.add_subplot(len(offline_data)//10, 10, i+1))\n",
    "    ax_list[-1].set_xticks([])\n",
    "    ax_list[-1].set_yticks([])\n",
    "    ax_list[-1].plot(iwvi.debug_realenv_rolloutdata[i][:,0], iwvi.debug_realenv_rolloutdata[i][:,1],\"kx\") \n",
    "    ax_list[-1].plot(0, 0,\"ro\")\n",
    "plt.show()"
   ]
  },
  {
   "cell_type": "code",
   "execution_count": null,
   "id": "520d85eb",
   "metadata": {},
   "outputs": [],
   "source": [
    "fig = plt.figure(figsize=(18,10), dpi=250)\n",
    "fig.patch.set_facecolor('white')\n",
    "ax_list = []\n",
    "for i in range(len(offline_data)):\n",
    "    ax_list.append(fig.add_subplot(len(offline_data)//10, 10, i+1))\n",
    "    ax_list[-1].set_xticks([])\n",
    "    ax_list[-1].set_yticks([])\n",
    "    ax_list[-1].plot(iwvi.debug_realenv_rolloutdata[i][:,2], iwvi.debug_realenv_rolloutdata[i][:,3],\"kx\") \n",
    "    ax_list[-1].plot(0, 0,\"ro\")\n",
    "plt.show()"
   ]
  },
  {
   "cell_type": "code",
   "execution_count": null,
   "id": "f4d3fdf6",
   "metadata": {
    "scrolled": true
   },
   "outputs": [],
   "source": [
    "iwvi.get_sim_rollout_bamdppolicy_data_fixlen()\n",
    "simdata0a = copy.deepcopy(iwvi.simenv_rolloutdata)\n",
    "iwvi.get_sim_rollout_bamdppolicy_data_fixlen()\n",
    "simdata0b = copy.deepcopy(iwvi.simenv_rolloutdata)"
   ]
  },
  {
   "cell_type": "code",
   "execution_count": null,
   "id": "073db62f",
   "metadata": {},
   "outputs": [],
   "source": [
    "\n",
    "fig = plt.figure(figsize=(18,10), dpi=250)\n",
    "fig.patch.set_facecolor('white')\n",
    "ax_list = []\n",
    "for i in range(len(offline_data)):\n",
    "    ax_list.append(fig.add_subplot(len(offline_data)//10, 10, i+1))\n",
    "    ax_list[-1].set_xticks([])\n",
    "    ax_list[-1].set_yticks([])\n",
    "#     ax_list[-1].plot(iwvi.offline_data[i][:,0], iwvi.offline_data[i][:,1],\"kx\") \n",
    "#     ax_list[-1].plot(iwvi.simenv_rolloutdata[i][:,0], iwvi.simenv_rolloutdata[i][:,1],\"o\") \n",
    "    ax_list[-1].plot(simdata0a[i][:,0], simdata0a[i][:,1]) \n",
    "    ax_list[-1].plot(simdata0b[i][:,0], simdata0b[i][:,1]) \n",
    "#     ax_list[-1].plot(simdata0c[i][:,0], simdata0c[i][:,1]) \n",
    "\n",
    "    ax_list[-1].plot(iwvi.debug_realenv_rolloutdata[i][:,0], iwvi.debug_realenv_rolloutdata[i][:,1],\"kx\")\n",
    "    ax_list[-1].plot(0, 0,\"ro\")\n",
    "plt.savefig(figfilenamehead+\"iter1.png\")\n",
    "# plt.savefig(figfilenamehead+\"iter0.pdf\")\n",
    "plt.savefig(figfilenamehead+\"iter1.eps\")\n",
    "print(\"実環境方策rollout vs Sim環境方策rollout\")"
   ]
  },
  {
   "cell_type": "code",
   "execution_count": null,
   "id": "8eeea1e7",
   "metadata": {},
   "outputs": [],
   "source": [
    "\n",
    "fig = plt.figure(figsize=(18,10), dpi=250)\n",
    "fig.patch.set_facecolor('white')\n",
    "ax_list = []\n",
    "for i in range(len(offline_data)):\n",
    "    ax_list.append(fig.add_subplot(len(offline_data)//10, 10, i+1))\n",
    "    ax_list[-1].set_xticks([])\n",
    "    ax_list[-1].set_yticks([])\n",
    "#     ax_list[-1].plot(iwvi.offline_data[i][:,0], iwvi.offline_data[i][:,1],\"kx\") \n",
    "#     ax_list[-1].plot(iwvi.simenv_rolloutdata[i][:,0], iwvi.simenv_rolloutdata[i][:,1],\"o\") \n",
    "    ax_list[-1].plot(simdata0a[i][:,2], simdata0a[i][:,3]) \n",
    "    ax_list[-1].plot(simdata0b[i][:,2], simdata0b[i][:,3]) \n",
    "#     ax_list[-1].plot(simdata0c[i][:,0], simdata0c[i][:,1]) \n",
    "\n",
    "    ax_list[-1].plot(iwvi.debug_realenv_rolloutdata[i][:,2], iwvi.debug_realenv_rolloutdata[i][:,3],\"kx\")\n",
    "    ax_list[-1].plot(0, 0,\"ro\")\n",
    "plt.savefig(figfilenamehead+\"iter0.png\")\n",
    "# plt.savefig(figfilenamehead+\"iter0.pdf\")\n",
    "plt.savefig(figfilenamehead+\"iter0.eps\")\n",
    "print(\"実環境方策rollout vs Sim環境方策rollout\")"
   ]
  },
  {
   "cell_type": "code",
   "execution_count": null,
   "id": "52171534",
   "metadata": {},
   "outputs": [],
   "source": []
  },
  {
   "cell_type": "code",
   "execution_count": null,
   "id": "e6bd7842",
   "metadata": {},
   "outputs": [],
   "source": [
    "print(datetime.datetime.now())"
   ]
  },
  {
   "cell_type": "code",
   "execution_count": null,
   "id": "5afaf661",
   "metadata": {},
   "outputs": [],
   "source": []
  },
  {
   "cell_type": "code",
   "execution_count": null,
   "id": "24274112",
   "metadata": {},
   "outputs": [],
   "source": []
  },
  {
   "cell_type": "code",
   "execution_count": null,
   "id": "e3f50703",
   "metadata": {},
   "outputs": [],
   "source": []
  },
  {
   "cell_type": "code",
   "execution_count": null,
   "id": "47477df7",
   "metadata": {},
   "outputs": [],
   "source": []
  },
  {
   "cell_type": "code",
   "execution_count": null,
   "id": "a6d7df58",
   "metadata": {},
   "outputs": [],
   "source": []
  },
  {
   "cell_type": "code",
   "execution_count": null,
   "id": "d31eceea",
   "metadata": {},
   "outputs": [],
   "source": []
  },
  {
   "cell_type": "code",
   "execution_count": null,
   "id": "1012204b",
   "metadata": {},
   "outputs": [],
   "source": []
  },
  {
   "cell_type": "code",
   "execution_count": null,
   "id": "f51e944d",
   "metadata": {},
   "outputs": [],
   "source": []
  },
  {
   "cell_type": "code",
   "execution_count": null,
   "id": "0bdb9e9f",
   "metadata": {},
   "outputs": [],
   "source": []
  },
  {
   "cell_type": "code",
   "execution_count": null,
   "id": "5ec609ff",
   "metadata": {},
   "outputs": [],
   "source": []
  },
  {
   "cell_type": "code",
   "execution_count": null,
   "id": "7337e591",
   "metadata": {},
   "outputs": [],
   "source": []
  },
  {
   "cell_type": "code",
   "execution_count": null,
   "id": "f1501b1f",
   "metadata": {},
   "outputs": [],
   "source": []
  },
  {
   "cell_type": "code",
   "execution_count": null,
   "id": "f5de4910",
   "metadata": {},
   "outputs": [],
   "source": []
  },
  {
   "cell_type": "code",
   "execution_count": null,
   "id": "f81d22b7",
   "metadata": {},
   "outputs": [],
   "source": []
  },
  {
   "cell_type": "code",
   "execution_count": null,
   "id": "55b3f0ce",
   "metadata": {},
   "outputs": [],
   "source": []
  },
  {
   "cell_type": "code",
   "execution_count": null,
   "id": "5aa2d3de",
   "metadata": {},
   "outputs": [],
   "source": []
  },
  {
   "cell_type": "code",
   "execution_count": null,
   "id": "c270d7b0",
   "metadata": {},
   "outputs": [],
   "source": []
  },
  {
   "cell_type": "code",
   "execution_count": null,
   "id": "8a543e61",
   "metadata": {},
   "outputs": [],
   "source": []
  },
  {
   "cell_type": "code",
   "execution_count": null,
   "id": "590aa3ea",
   "metadata": {},
   "outputs": [],
   "source": []
  },
  {
   "cell_type": "code",
   "execution_count": null,
   "id": "d95059d9",
   "metadata": {},
   "outputs": [],
   "source": []
  },
  {
   "cell_type": "code",
   "execution_count": null,
   "id": "2cfa6b00",
   "metadata": {},
   "outputs": [],
   "source": []
  },
  {
   "cell_type": "code",
   "execution_count": null,
   "id": "72043ac3",
   "metadata": {},
   "outputs": [],
   "source": []
  },
  {
   "cell_type": "code",
   "execution_count": null,
   "id": "1734499b",
   "metadata": {},
   "outputs": [],
   "source": []
  },
  {
   "cell_type": "code",
   "execution_count": null,
   "id": "9fc1b01e",
   "metadata": {},
   "outputs": [],
   "source": []
  },
  {
   "cell_type": "code",
   "execution_count": null,
   "id": "7b16c277",
   "metadata": {},
   "outputs": [],
   "source": []
  },
  {
   "cell_type": "code",
   "execution_count": null,
   "id": "406525ac",
   "metadata": {},
   "outputs": [],
   "source": []
  },
  {
   "cell_type": "code",
   "execution_count": null,
   "id": "323df92a",
   "metadata": {},
   "outputs": [],
   "source": []
  },
  {
   "cell_type": "code",
   "execution_count": null,
   "id": "4039769b",
   "metadata": {},
   "outputs": [],
   "source": []
  },
  {
   "cell_type": "code",
   "execution_count": null,
   "id": "5d440f01",
   "metadata": {},
   "outputs": [],
   "source": []
  },
  {
   "cell_type": "code",
   "execution_count": null,
   "id": "a44ace35",
   "metadata": {},
   "outputs": [],
   "source": []
  },
  {
   "cell_type": "code",
   "execution_count": null,
   "id": "2c672a5a",
   "metadata": {},
   "outputs": [],
   "source": []
  },
  {
   "cell_type": "code",
   "execution_count": null,
   "id": "441ce1b5",
   "metadata": {},
   "outputs": [],
   "source": [
    "\n"
   ]
  }
 ],
 "metadata": {
  "kernelspec": {
   "display_name": "Python 3 (ipykernel)",
   "language": "python",
   "name": "python3"
  },
  "language_info": {
   "codemirror_mode": {
    "name": "ipython",
    "version": 3
   },
   "file_extension": ".py",
   "mimetype": "text/x-python",
   "name": "python",
   "nbconvert_exporter": "python",
   "pygments_lexer": "ipython3",
   "version": "3.8.0"
  }
 },
 "nbformat": 4,
 "nbformat_minor": 5
}
