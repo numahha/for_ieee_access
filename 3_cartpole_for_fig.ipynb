{
 "cells": [
  {
   "cell_type": "code",
   "execution_count": 1,
   "id": "856b55c1",
   "metadata": {},
   "outputs": [
    {
     "name": "stdout",
     "output_type": "stream",
     "text": [
      "policy_evaluation_maxiter 5\n",
      "alpha 0.1\n",
      "seed 2\n",
      "2023-07-22 23:13:28.313482\n"
     ]
    }
   ],
   "source": [
    "%matplotlib inline\n",
    "\n",
    "import numpy as np\n",
    "import copy\n",
    "import matplotlib.pyplot as plt\n",
    "import pickle\n",
    "import random\n",
    "import torch\n",
    "from utils import torch_from_numpy\n",
    "import datetime\n",
    "\n",
    "from config import cfg_seed, cfg_env, cfg_z_dim, cfg_default_lr, cfg_default_early, cfg_policy_evaluation_maxiter\n",
    "seed = cfg_seed\n",
    "env_str=cfg_env\n",
    "default_lr=cfg_default_lr\n",
    "default_early=cfg_default_early\n",
    "# num_iter_max=200000\n",
    "env_name = 'CustomCartPole-v0'\n",
    "figfilenamehead = \"fig_policy_optimization_\"+env_str+\"_iter2_\"\n",
    "\n",
    "from config import cfg_alpha\n",
    "alpha=cfg_alpha\n",
    "\n",
    "loss_list = []\n",
    "normalized_loss_list = []\n",
    "\n",
    "policy_evaluation_maxiter = cfg_policy_evaluation_maxiter\n",
    "print(\"policy_evaluation_maxiter\",policy_evaluation_maxiter)\n",
    "print(\"alpha\",alpha)\n",
    "print(\"seed\",seed)\n",
    "print(datetime.datetime.now())"
   ]
  },
  {
   "cell_type": "code",
   "execution_count": 2,
   "id": "0b29b244",
   "metadata": {},
   "outputs": [
    {
     "name": "stdout",
     "output_type": "stream",
     "text": [
      "4 1 2\n"
     ]
    },
    {
     "name": "stderr",
     "output_type": "stream",
     "text": [
      "/home/proxima-hishinuma/anaconda3/envs/iwvi/lib/python3.8/site-packages/gym/core.py:329: DeprecationWarning: \u001b[33mWARN: Initializing wrapper in old step API which returns one bool instead of two. It is recommended to set `new_step_api=True` to use new step API. This will be the default behaviour in future.\u001b[0m\n",
      "  deprecation(\n",
      "/home/proxima-hishinuma/anaconda3/envs/iwvi/lib/python3.8/site-packages/gym/wrappers/step_api_compatibility.py:39: DeprecationWarning: \u001b[33mWARN: Initializing environment in old step API which returns one bool instead of two. It is recommended to set `new_step_api=True` to use new step API. This will be the default behaviour in future.\u001b[0m\n",
      "  deprecation(\n",
      "/home/proxima-hishinuma/anaconda3/envs/iwvi/lib/python3.8/site-packages/gym/core.py:268: DeprecationWarning: \u001b[33mWARN: Function `env.seed(seed)` is marked as deprecated and will be removed in the future. Please use `env.reset(seed=seed)` instead.\u001b[0m\n",
      "  deprecation(\n"
     ]
    }
   ],
   "source": [
    "import gym\n",
    "import custom_gym\n",
    "env = gym.make(env_name)\n",
    "\n",
    "np.random.seed(seed)\n",
    "random.seed(seed)\n",
    "env.seed(seed)\n",
    "env.action_space.seed(seed)\n",
    "torch.manual_seed(seed)\n",
    "\n",
    "s_dim = env.reset().flatten().shape[0]\n",
    "a_dim = env.action_space.sample().flatten().shape[0]\n",
    "z_dim = cfg_z_dim\n",
    "print(s_dim, a_dim, z_dim)"
   ]
  },
  {
   "cell_type": "code",
   "execution_count": 3,
   "id": "212e6563",
   "metadata": {},
   "outputs": [
    {
     "name": "stdout",
     "output_type": "stream",
     "text": [
      "Loading models from checkpoints/sac_checkpoint_custom_cartpole_bamdp_weightedvae_\n"
     ]
    }
   ],
   "source": [
    "\n",
    "\n",
    "from sac import SAC\n",
    "# agent = SAC(env.observation_space.shape[0], env.action_space)\n",
    "agent = SAC(env.observation_space.shape[0]+z_dim*2, env.action_space)\n",
    "agent.load_checkpoint(ckpt_path=\"checkpoints/sac_checkpoint_custom_\"+env_str+\"_bamdp_weightedvae_\")\n",
    "\n",
    "\n",
    "offline_data = pickle.load(open(\"offline_data_\"+env_str+\".pkl\",\"rb\"))\n",
    "debug_info = pickle.load(open(\"offline_data_debug_info_\"+env_str+\".pkl\",\"rb\"))\n",
    "debug_info = np.array(debug_info)"
   ]
  },
  {
   "cell_type": "code",
   "execution_count": 4,
   "id": "198d38de",
   "metadata": {},
   "outputs": [
    {
     "name": "stdout",
     "output_type": "stream",
     "text": [
      "dec: h_dim 64\n",
      "iwvi load ckpt1, ckpt2 ckpt_iwvi_basepartcartpole_policy_optimization_iter1 ckpt_iwvi_cartpole_policy_optimization_iter1\n",
      "base load ckpt ckpt_basevi_cartpole_policy_optimization_iter1\n",
      "base load self.initial_belief.data.sum() tensor(-8.5672)\n",
      "base load dec.state_dict()['net_phat.0.weight'].sum() tensor(8.3296)\n",
      "penalty_target_min tensor(-12.3233) penalty_target_max tensor(60.6362)\n",
      "train_loss:  -10.855820645141602\n",
      "valid_loss:  -9.934643142700196\n",
      "h_min_tilde -12.323334 ell_tilde -10.671585144653323 kappa_tilde 0.0007780867627066647\n",
      "success load ckpt_iwvi_basepartcartpole_policy_optimization_iter1\n",
      "train_loss:  -5.4422154937982565\n",
      "valid_loss:  -6.23656952908039\n",
      "weight_alpha 1.0 h_min_tilde -12.323334 ell_tilde -5.601086300854684 kappa_tilde 0.00038569388449143376\n"
     ]
    }
   ],
   "source": [
    "args_init_dict = {\n",
    "    \"offline_data\": offline_data,\n",
    "    \"s_dim\": s_dim,\n",
    "    \"a_dim\": a_dim,\n",
    "    \"z_dim\": z_dim,\n",
    "    #              \"policy\":agent.select_action,\n",
    "    \"mdp_policy\":None,\n",
    "    \"bamdp_policy\":agent.policy.my_np_select_action,\n",
    "    \"debug_info\":debug_info,\n",
    "    \"env\" : env,\n",
    "    \"ckpt_suffix\" : env_str,\n",
    "}\n",
    "# import vi_base\n",
    "# vi = vi_base.baseVI(args_init_dict)\n",
    "import vi_iw\n",
    "iwvi = vi_iw.iwVI(args_init_dict)\n",
    "\n",
    "# iwvi.load_base(ckpt_key=\"unweighted\")\n",
    "iwvi.load(ckpt_key=\"policy_optimization_iter1\")"
   ]
  },
  {
   "cell_type": "code",
   "execution_count": 5,
   "id": "d9d2b315",
   "metadata": {},
   "outputs": [],
   "source": [
    "# plt.figure(figsize=(18,10), dpi=250)\n",
    "# np_mulogvar = iwvi.mulogvar_offlinedata.numpy()\n",
    "# plt.xlabel(\"daming coeff\")\n",
    "# plt.ylabel(\"latent variable mean\")\n",
    "\n",
    "# plt.plot(debug_info[iwvi.validdata_num:,1], np_mulogvar[iwvi.validdata_num:,0], \"o\")\n",
    "# plt.plot(debug_info[:iwvi.validdata_num,1], np_mulogvar[:iwvi.validdata_num,0], \"o\")\n",
    "# # plt.xlim([-0.05,0.35])\n",
    "# for i in range(len(debug_info)):\n",
    "#     plt.annotate(str(i), xy=(debug_info[i,1],  np_mulogvar[i,0]))\n",
    "# plt.savefig(figfilenamehead+\"damping_latent_\"+env_str+\"_iter0.png\")\n",
    "# plt.savefig(figfilenamehead+\"damping_latent_\"+env_str+\"_iter0.eps\")\n",
    "# # plt.savefig(figfilenamehead+\"damping_latent_\"+env_str+\"_iter0.pdf\")\n",
    "# plt.show()\n",
    "\n",
    "\n",
    "# for i in range(10):\n",
    "#     print(debug_info[i*10 : (i+1)*10,1])\n",
    "# # plt.show()\n",
    "# print(\"摩擦係数-潜在変数\")"
   ]
  },
  {
   "cell_type": "code",
   "execution_count": null,
   "id": "3f4fe183",
   "metadata": {
    "scrolled": true
   },
   "outputs": [
    {
     "name": "stdout",
     "output_type": "stream",
     "text": [
      "\n",
      " 0 9.5367431640625e-07\n"
     ]
    },
    {
     "name": "stderr",
     "output_type": "stream",
     "text": [
      "/home/proxima-hishinuma/anaconda3/envs/iwvi/lib/python3.8/site-packages/gym/utils/passive_env_checker.py:241: DeprecationWarning: `np.bool8` is a deprecated alias for `np.bool_`.  (Deprecated NumPy 1.24)\n",
      "  if not isinstance(terminated, (bool, np.bool8)):\n"
     ]
    },
    {
     "name": "stdout",
     "output_type": "stream",
     "text": [
      "\n",
      " 1 3.540355682373047\n",
      "\n",
      " 2 3.2163987159729004\n",
      "\n",
      " 3 3.5275938510894775\n",
      "\n",
      " 4 3.3816206455230713\n",
      "\n",
      " 5 3.3111038208007812\n",
      "\n",
      " 6 3.0433461666107178\n",
      "\n",
      " 7 3.4188170433044434\n",
      "\n",
      " 8 3.3405330181121826\n",
      "\n",
      " 9 3.2312371730804443\n",
      "\n",
      " 10 3.209313154220581\n",
      "\n",
      " 11 3.2931904792785645\n",
      "\n",
      " 12 3.1638171672821045\n",
      "\n",
      " 13 3.408787965774536\n",
      "\n",
      " 14 3.449089765548706\n",
      "\n",
      " 15 3.3696701526641846\n",
      "\n",
      " 16 3.1809895038604736\n",
      "\n",
      " 17 3.160306692123413\n",
      "\n",
      " 18 3.436039686203003\n",
      "\n",
      " 19 3.120744466781616\n",
      "\n",
      " 20 3.406311511993408\n",
      "\n",
      " 21 3.3035225868225098\n",
      "\n",
      " 22 3.197462320327759\n",
      "\n",
      " 23 3.127373218536377\n",
      "\n",
      " 24 3.304572582244873\n",
      "\n",
      " 25 3.16763973236084\n",
      "\n",
      " 26 3.3452630043029785\n",
      "\n",
      " 27 3.195101737976074\n",
      "\n",
      " 28 3.2651333808898926\n",
      "\n",
      " 29 3.4009809494018555\n",
      "\n",
      " 30 3.2180256843566895\n",
      "\n",
      " 31 3.2288286685943604\n",
      "\n",
      " 32 3.272205114364624\n",
      "\n",
      " 33 3.2679758071899414\n",
      "\n",
      " 34 3.166466236114502\n",
      "\n",
      " 35 3.289194107055664\n",
      "\n",
      " 36 3.1815381050109863\n",
      "\n",
      " 37 3.422895908355713\n",
      "\n",
      " 38 3.2528622150421143\n",
      "\n",
      " 39 3.324939250946045\n",
      "\n",
      " 40 3.2820968627929688\n",
      "\n",
      " 41 3.2038726806640625\n",
      "\n",
      " 42 3.16630220413208\n",
      "\n",
      " 43 3.2132773399353027\n",
      "\n",
      " 44 3.170891284942627\n",
      "\n",
      " 45 3.0927512645721436\n",
      "\n",
      " 46 3.3166260719299316\n",
      "\n",
      " 47 3.3230788707733154\n",
      "\n",
      " 48 3.2609269618988037\n",
      "\n",
      " 49 3.335292100906372\n",
      "\n",
      " 50 3.234262466430664\n",
      "\n",
      " 51 3.293947458267212\n",
      "\n",
      " 52 3.3585171699523926\n",
      "\n",
      " 53 3.2214977741241455\n",
      "\n",
      " 54 3.219362735748291\n",
      "\n",
      " 55 3.4091861248016357\n",
      "\n",
      " 56 3.1816728115081787\n",
      "\n",
      " 57 3.165459394454956\n",
      "\n",
      " 58 3.228578567504883\n",
      "\n",
      " 59 3.1351325511932373\n",
      "\n",
      " 60 3.2624003887176514\n",
      "\n",
      " 61 3.278568983078003\n",
      "\n",
      " 62 3.361098289489746\n",
      "\n",
      " 63 3.4374523162841797\n",
      "\n",
      " 64 3.3055498600006104\n",
      "\n",
      " 65 3.0550501346588135\n",
      "\n",
      " 66 3.2498133182525635\n",
      "\n",
      " 67 3.324413537979126\n",
      "\n",
      " 68 3.1269240379333496\n",
      "\n",
      " 69 3.371213674545288\n",
      "\n",
      " 70 3.318683624267578\n",
      "\n",
      " 71 3.2644271850585938\n",
      "\n",
      " 72 3.2607314586639404\n",
      "\n",
      " 73 3.338346242904663\n",
      "\n",
      " 74 3.388535499572754\n",
      "\n",
      " 75 3.2528867721557617\n",
      "\n",
      " 76 3.2829971313476562\n",
      "\n",
      " 77 3.300158739089966\n",
      "\n",
      " 78 3.5832302570343018\n",
      "\n",
      " 79 3.5152077674865723\n",
      "\n",
      " 80 3.4692001342773438\n",
      "\n",
      " 81 3.3135461807250977\n",
      "\n",
      " 82 3.275423765182495\n",
      "\n",
      " 83 3.189737558364868\n",
      "\n",
      " 84 3.4021573066711426\n",
      "\n",
      " 85 3.3225936889648438\n",
      "\n",
      " 86 3.2020862102508545\n",
      "\n",
      " 87 3.375701665878296\n",
      "\n",
      " 88 3.410451650619507\n",
      "\n",
      " 89 3.4322874546051025\n"
     ]
    }
   ],
   "source": [
    "iwvi.get_real_rollout_bamdppolicy_data()"
   ]
  },
  {
   "cell_type": "code",
   "execution_count": null,
   "id": "cd13fec8",
   "metadata": {},
   "outputs": [],
   "source": [
    "fig = plt.figure(figsize=(18,10), dpi=250)\n",
    "fig.patch.set_facecolor('white')\n",
    "ax_list = []\n",
    "for i in range(len(offline_data)):\n",
    "    ax_list.append(fig.add_subplot(len(offline_data)//10, 10, i+1))\n",
    "    ax_list[-1].set_xticks([])\n",
    "    ax_list[-1].set_yticks([])\n",
    "    ax_list[-1].plot(iwvi.debug_realenv_rolloutdata[i][:,0], iwvi.debug_realenv_rolloutdata[i][:,1],\"kx\") \n",
    "    ax_list[-1].plot(0, 0,\"ro\")\n",
    "plt.show()"
   ]
  },
  {
   "cell_type": "code",
   "execution_count": null,
   "id": "520d85eb",
   "metadata": {},
   "outputs": [],
   "source": [
    "fig = plt.figure(figsize=(18,10), dpi=250)\n",
    "fig.patch.set_facecolor('white')\n",
    "ax_list = []\n",
    "for i in range(len(offline_data)):\n",
    "    ax_list.append(fig.add_subplot(len(offline_data)//10, 10, i+1))\n",
    "    ax_list[-1].set_xticks([])\n",
    "    ax_list[-1].set_yticks([])\n",
    "    ax_list[-1].plot(iwvi.debug_realenv_rolloutdata[i][:,2], iwvi.debug_realenv_rolloutdata[i][:,3],\"kx\") \n",
    "    ax_list[-1].plot(0, 0,\"ro\")\n",
    "plt.show()"
   ]
  },
  {
   "cell_type": "code",
   "execution_count": null,
   "id": "f4d3fdf6",
   "metadata": {
    "scrolled": true
   },
   "outputs": [],
   "source": [
    "iwvi.get_sim_rollout_bamdppolicy_data_fixlen()\n",
    "simdata0a = copy.deepcopy(iwvi.simenv_rolloutdata)\n",
    "iwvi.get_sim_rollout_bamdppolicy_data_fixlen()\n",
    "simdata0b = copy.deepcopy(iwvi.simenv_rolloutdata)"
   ]
  },
  {
   "cell_type": "code",
   "execution_count": null,
   "id": "073db62f",
   "metadata": {},
   "outputs": [],
   "source": [
    "\n",
    "fig = plt.figure(figsize=(18,10), dpi=250)\n",
    "fig.patch.set_facecolor('white')\n",
    "ax_list = []\n",
    "for i in range(len(offline_data)):\n",
    "    ax_list.append(fig.add_subplot(len(offline_data)//10, 10, i+1))\n",
    "    ax_list[-1].set_xticks([])\n",
    "    ax_list[-1].set_yticks([])\n",
    "#     ax_list[-1].plot(iwvi.offline_data[i][:,0], iwvi.offline_data[i][:,1],\"kx\") \n",
    "#     ax_list[-1].plot(iwvi.simenv_rolloutdata[i][:,0], iwvi.simenv_rolloutdata[i][:,1],\"o\") \n",
    "    ax_list[-1].plot(simdata0a[i][:,0], simdata0a[i][:,1]) \n",
    "    ax_list[-1].plot(simdata0b[i][:,0], simdata0b[i][:,1]) \n",
    "#     ax_list[-1].plot(simdata0c[i][:,0], simdata0c[i][:,1]) \n",
    "\n",
    "    ax_list[-1].plot(iwvi.debug_realenv_rolloutdata[i][:,0], iwvi.debug_realenv_rolloutdata[i][:,1],\"kx\")\n",
    "    ax_list[-1].plot(0, 0,\"ro\")\n",
    "plt.savefig(figfilenamehead+\"iter1.png\")\n",
    "# plt.savefig(figfilenamehead+\"iter0.pdf\")\n",
    "plt.savefig(figfilenamehead+\"iter1.eps\")\n",
    "print(\"実環境方策rollout vs Sim環境方策rollout\")"
   ]
  },
  {
   "cell_type": "code",
   "execution_count": null,
   "id": "8eeea1e7",
   "metadata": {},
   "outputs": [],
   "source": [
    "\n",
    "fig = plt.figure(figsize=(18,10), dpi=250)\n",
    "fig.patch.set_facecolor('white')\n",
    "ax_list = []\n",
    "for i in range(len(offline_data)):\n",
    "    ax_list.append(fig.add_subplot(len(offline_data)//10, 10, i+1))\n",
    "    ax_list[-1].set_xticks([])\n",
    "    ax_list[-1].set_yticks([])\n",
    "#     ax_list[-1].plot(iwvi.offline_data[i][:,0], iwvi.offline_data[i][:,1],\"kx\") \n",
    "#     ax_list[-1].plot(iwvi.simenv_rolloutdata[i][:,0], iwvi.simenv_rolloutdata[i][:,1],\"o\") \n",
    "    ax_list[-1].plot(simdata0a[i][:,2], simdata0a[i][:,3]) \n",
    "    ax_list[-1].plot(simdata0b[i][:,2], simdata0b[i][:,3]) \n",
    "#     ax_list[-1].plot(simdata0c[i][:,0], simdata0c[i][:,1]) \n",
    "\n",
    "    ax_list[-1].plot(iwvi.debug_realenv_rolloutdata[i][:,2], iwvi.debug_realenv_rolloutdata[i][:,3],\"kx\")\n",
    "    ax_list[-1].plot(0, 0,\"ro\")\n",
    "plt.savefig(figfilenamehead+\"iter0.png\")\n",
    "# plt.savefig(figfilenamehead+\"iter0.pdf\")\n",
    "plt.savefig(figfilenamehead+\"iter0.eps\")\n",
    "print(\"実環境方策rollout vs Sim環境方策rollout\")"
   ]
  },
  {
   "cell_type": "code",
   "execution_count": null,
   "id": "52171534",
   "metadata": {},
   "outputs": [],
   "source": []
  },
  {
   "cell_type": "code",
   "execution_count": null,
   "id": "e6bd7842",
   "metadata": {},
   "outputs": [],
   "source": [
    "print(datetime.datetime.now())"
   ]
  },
  {
   "cell_type": "code",
   "execution_count": null,
   "id": "5afaf661",
   "metadata": {},
   "outputs": [],
   "source": []
  },
  {
   "cell_type": "code",
   "execution_count": null,
   "id": "24274112",
   "metadata": {},
   "outputs": [],
   "source": []
  },
  {
   "cell_type": "code",
   "execution_count": null,
   "id": "e3f50703",
   "metadata": {},
   "outputs": [],
   "source": []
  },
  {
   "cell_type": "code",
   "execution_count": null,
   "id": "47477df7",
   "metadata": {},
   "outputs": [],
   "source": []
  },
  {
   "cell_type": "code",
   "execution_count": null,
   "id": "a6d7df58",
   "metadata": {},
   "outputs": [],
   "source": []
  },
  {
   "cell_type": "code",
   "execution_count": null,
   "id": "d31eceea",
   "metadata": {},
   "outputs": [],
   "source": []
  },
  {
   "cell_type": "code",
   "execution_count": null,
   "id": "1012204b",
   "metadata": {},
   "outputs": [],
   "source": []
  },
  {
   "cell_type": "code",
   "execution_count": null,
   "id": "f51e944d",
   "metadata": {},
   "outputs": [],
   "source": []
  },
  {
   "cell_type": "code",
   "execution_count": null,
   "id": "0bdb9e9f",
   "metadata": {},
   "outputs": [],
   "source": []
  },
  {
   "cell_type": "code",
   "execution_count": null,
   "id": "5ec609ff",
   "metadata": {},
   "outputs": [],
   "source": []
  },
  {
   "cell_type": "code",
   "execution_count": null,
   "id": "7337e591",
   "metadata": {},
   "outputs": [],
   "source": []
  },
  {
   "cell_type": "code",
   "execution_count": null,
   "id": "f1501b1f",
   "metadata": {},
   "outputs": [],
   "source": []
  },
  {
   "cell_type": "code",
   "execution_count": null,
   "id": "f5de4910",
   "metadata": {},
   "outputs": [],
   "source": []
  },
  {
   "cell_type": "code",
   "execution_count": null,
   "id": "f81d22b7",
   "metadata": {},
   "outputs": [],
   "source": []
  },
  {
   "cell_type": "code",
   "execution_count": null,
   "id": "55b3f0ce",
   "metadata": {},
   "outputs": [],
   "source": []
  },
  {
   "cell_type": "code",
   "execution_count": null,
   "id": "5aa2d3de",
   "metadata": {},
   "outputs": [],
   "source": []
  },
  {
   "cell_type": "code",
   "execution_count": null,
   "id": "c270d7b0",
   "metadata": {},
   "outputs": [],
   "source": []
  },
  {
   "cell_type": "code",
   "execution_count": null,
   "id": "8a543e61",
   "metadata": {},
   "outputs": [],
   "source": []
  },
  {
   "cell_type": "code",
   "execution_count": null,
   "id": "590aa3ea",
   "metadata": {},
   "outputs": [],
   "source": []
  },
  {
   "cell_type": "code",
   "execution_count": null,
   "id": "d95059d9",
   "metadata": {},
   "outputs": [],
   "source": []
  },
  {
   "cell_type": "code",
   "execution_count": null,
   "id": "2cfa6b00",
   "metadata": {},
   "outputs": [],
   "source": []
  }
 ],
 "metadata": {
  "kernelspec": {
   "display_name": "Python 3 (ipykernel)",
   "language": "python",
   "name": "python3"
  },
  "language_info": {
   "codemirror_mode": {
    "name": "ipython",
    "version": 3
   },
   "file_extension": ".py",
   "mimetype": "text/x-python",
   "name": "python",
   "nbconvert_exporter": "python",
   "pygments_lexer": "ipython3",
   "version": "3.8.0"
  }
 },
 "nbformat": 4,
 "nbformat_minor": 5
}
