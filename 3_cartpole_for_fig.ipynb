{
 "cells": [
  {
   "cell_type": "code",
   "execution_count": 1,
   "id": "856b55c1",
   "metadata": {},
   "outputs": [
    {
     "name": "stdout",
     "output_type": "stream",
     "text": [
      "policy_evaluation_maxiter 5\n",
      "alpha 0.1\n",
      "seed 3\n",
      "2023-08-01 06:55:48.940164\n"
     ]
    }
   ],
   "source": [
    "%matplotlib inline\n",
    "\n",
    "import numpy as np\n",
    "import copy\n",
    "import matplotlib.pyplot as plt\n",
    "import pickle\n",
    "import random\n",
    "import torch\n",
    "from utils import torch_from_numpy\n",
    "import datetime\n",
    "\n",
    "from config import cfg_seed, cfg_env, cfg_z_dim, cfg_default_lr, cfg_default_early, cfg_policy_evaluation_maxiter\n",
    "seed = cfg_seed\n",
    "env_str=cfg_env\n",
    "default_lr=cfg_default_lr\n",
    "default_early=cfg_default_early\n",
    "# num_iter_max=200000\n",
    "env_name = 'CustomCartPole-v0'\n",
    "figfilenamehead = \"fig_policy_optimization_\"+env_str+\"_iter2_\"\n",
    "\n",
    "from config import cfg_alpha\n",
    "alpha=cfg_alpha\n",
    "\n",
    "loss_list = []\n",
    "normalized_loss_list = []\n",
    "\n",
    "policy_evaluation_maxiter = cfg_policy_evaluation_maxiter\n",
    "print(\"policy_evaluation_maxiter\",policy_evaluation_maxiter)\n",
    "print(\"alpha\",alpha)\n",
    "print(\"seed\",seed)\n",
    "print(datetime.datetime.now())"
   ]
  },
  {
   "cell_type": "code",
   "execution_count": 2,
   "id": "0b29b244",
   "metadata": {},
   "outputs": [
    {
     "name": "stdout",
     "output_type": "stream",
     "text": [
      "4 1 2\n"
     ]
    },
    {
     "name": "stderr",
     "output_type": "stream",
     "text": [
      "/home/proxima-hishinuma/anaconda3/envs/iwvi/lib/python3.8/site-packages/gym/core.py:329: DeprecationWarning: \u001b[33mWARN: Initializing wrapper in old step API which returns one bool instead of two. It is recommended to set `new_step_api=True` to use new step API. This will be the default behaviour in future.\u001b[0m\n",
      "  deprecation(\n",
      "/home/proxima-hishinuma/anaconda3/envs/iwvi/lib/python3.8/site-packages/gym/wrappers/step_api_compatibility.py:39: DeprecationWarning: \u001b[33mWARN: Initializing environment in old step API which returns one bool instead of two. It is recommended to set `new_step_api=True` to use new step API. This will be the default behaviour in future.\u001b[0m\n",
      "  deprecation(\n",
      "/home/proxima-hishinuma/anaconda3/envs/iwvi/lib/python3.8/site-packages/gym/core.py:268: DeprecationWarning: \u001b[33mWARN: Function `env.seed(seed)` is marked as deprecated and will be removed in the future. Please use `env.reset(seed=seed)` instead.\u001b[0m\n",
      "  deprecation(\n"
     ]
    }
   ],
   "source": [
    "import gym\n",
    "import custom_gym\n",
    "env = gym.make(env_name)\n",
    "\n",
    "np.random.seed(seed)\n",
    "random.seed(seed)\n",
    "env.seed(seed)\n",
    "env.action_space.seed(seed)\n",
    "torch.manual_seed(seed)\n",
    "\n",
    "s_dim = env.reset().flatten().shape[0]\n",
    "a_dim = env.action_space.sample().flatten().shape[0]\n",
    "z_dim = cfg_z_dim\n",
    "print(s_dim, a_dim, z_dim)"
   ]
  },
  {
   "cell_type": "code",
   "execution_count": 3,
   "id": "212e6563",
   "metadata": {},
   "outputs": [
    {
     "name": "stdout",
     "output_type": "stream",
     "text": [
      "Loading models from checkpoints/sac_checkpoint_custom_cartpole_bamdp_weightedvae_\n"
     ]
    }
   ],
   "source": [
    "\n",
    "\n",
    "from sac import SAC\n",
    "# agent = SAC(env.observation_space.shape[0], env.action_space)\n",
    "agent = SAC(env.observation_space.shape[0]+z_dim*2, env.action_space)\n",
    "agent.load_checkpoint(ckpt_path=\"checkpoints/sac_checkpoint_custom_\"+env_str+\"_bamdp_weightedvae_\")\n",
    "\n",
    "\n",
    "offline_data = pickle.load(open(\"offline_data_\"+env_str+\".pkl\",\"rb\"))\n",
    "debug_info = pickle.load(open(\"offline_data_debug_info_\"+env_str+\".pkl\",\"rb\"))\n",
    "debug_info = np.array(debug_info)"
   ]
  },
  {
   "cell_type": "code",
   "execution_count": 4,
   "id": "198d38de",
   "metadata": {},
   "outputs": [
    {
     "name": "stdout",
     "output_type": "stream",
     "text": [
      "dec: h_dim 64\n",
      "iwvi load ckpt1, ckpt2 ckpt_iwvi_basepartcartpole_policy_optimization_iter1 ckpt_iwvi_cartpole_policy_optimization_iter1\n",
      "base load ckpt ckpt_basevi_cartpole_policy_optimization_iter1\n",
      "base load self.initial_belief.data.sum() tensor(-9.5811)\n",
      "base load dec.state_dict()['net_phat.0.weight'].sum() tensor(10.4462)\n",
      "penalty_target_min tensor(-11.5849) penalty_target_max tensor(6.8027)\n",
      "train_loss:  -8.504373862648011\n",
      "valid_loss:  -8.221831150817872\n",
      "h_min_tilde -11.584942 ell_tilde -8.447865320281982 kappa_tilde 0.0005645955388639343\n",
      "success load ckpt_iwvi_basepartcartpole_policy_optimization_iter1\n",
      "train_loss:  -5.665105694627762\n",
      "valid_loss:  -11.99865683450699\n",
      "weight_alpha 1.0 h_min_tilde -11.584942 ell_tilde -6.931815922603607 kappa_tilde 0.0004635831011202494\n"
     ]
    }
   ],
   "source": [
    "args_init_dict = {\n",
    "    \"offline_data\": offline_data,\n",
    "    \"s_dim\": s_dim,\n",
    "    \"a_dim\": a_dim,\n",
    "    \"z_dim\": z_dim,\n",
    "    #              \"policy\":agent.select_action,\n",
    "    \"mdp_policy\":None,\n",
    "    \"bamdp_policy\":agent.policy.my_np_select_action,\n",
    "    \"debug_info\":debug_info,\n",
    "    \"env\" : env,\n",
    "    \"ckpt_suffix\" : env_str,\n",
    "}\n",
    "# import vi_base\n",
    "# vi = vi_base.baseVI(args_init_dict)\n",
    "import vi_iw\n",
    "iwvi = vi_iw.iwVI(args_init_dict)\n",
    "\n",
    "# iwvi.load_base(ckpt_key=\"unweighted\")\n",
    "iwvi.load(ckpt_key=\"policy_optimization_iter1\")"
   ]
  },
  {
   "cell_type": "code",
   "execution_count": 5,
   "id": "d9d2b315",
   "metadata": {},
   "outputs": [],
   "source": [
    "# plt.figure(figsize=(18,10), dpi=250)\n",
    "# np_mulogvar = iwvi.mulogvar_offlinedata.numpy()\n",
    "# plt.xlabel(\"daming coeff\")\n",
    "# plt.ylabel(\"latent variable mean\")\n",
    "\n",
    "# plt.plot(debug_info[iwvi.validdata_num:,1], np_mulogvar[iwvi.validdata_num:,0], \"o\")\n",
    "# plt.plot(debug_info[:iwvi.validdata_num,1], np_mulogvar[:iwvi.validdata_num,0], \"o\")\n",
    "# # plt.xlim([-0.05,0.35])\n",
    "# for i in range(len(debug_info)):\n",
    "#     plt.annotate(str(i), xy=(debug_info[i,1],  np_mulogvar[i,0]))\n",
    "# plt.savefig(figfilenamehead+\"damping_latent_\"+env_str+\"_iter0.png\")\n",
    "# plt.savefig(figfilenamehead+\"damping_latent_\"+env_str+\"_iter0.eps\")\n",
    "# # plt.savefig(figfilenamehead+\"damping_latent_\"+env_str+\"_iter0.pdf\")\n",
    "# plt.show()\n",
    "\n",
    "\n",
    "# for i in range(10):\n",
    "#     print(debug_info[i*10 : (i+1)*10,1])\n",
    "# # plt.show()\n",
    "# print(\"摩擦係数-潜在変数\")"
   ]
  },
  {
   "cell_type": "code",
   "execution_count": null,
   "id": "3f4fe183",
   "metadata": {
    "scrolled": true
   },
   "outputs": [
    {
     "name": "stdout",
     "output_type": "stream",
     "text": [
      "\n",
      " 0 7.152557373046875e-07\n"
     ]
    },
    {
     "name": "stderr",
     "output_type": "stream",
     "text": [
      "/home/proxima-hishinuma/anaconda3/envs/iwvi/lib/python3.8/site-packages/gym/utils/passive_env_checker.py:241: DeprecationWarning: `np.bool8` is a deprecated alias for `np.bool_`.  (Deprecated NumPy 1.24)\n",
      "  if not isinstance(terminated, (bool, np.bool8)):\n"
     ]
    },
    {
     "name": "stdout",
     "output_type": "stream",
     "text": [
      "\n",
      " 1 3.289950132369995\n",
      "\n",
      " 2 3.2408571243286133\n",
      "\n",
      " 3 3.6036922931671143\n",
      "\n",
      " 4 5.222984075546265\n",
      "\n",
      " 5 4.955264329910278\n",
      "\n",
      " 6 3.4786198139190674\n",
      "\n",
      " 7 3.1977663040161133\n",
      "\n",
      " 8 3.7334835529327393\n",
      "\n",
      " 9 3.3221471309661865\n",
      "\n",
      " 10 3.309539556503296\n",
      "\n",
      " 11 3.35300874710083\n",
      "\n",
      " 12 3.2568721771240234\n",
      "\n",
      " 13 3.1319174766540527\n",
      "\n",
      " 14 3.28102707862854\n",
      "\n",
      " 15 3.4836411476135254\n",
      "\n",
      " 16 3.6456048488616943\n",
      "\n",
      " 17 3.4221103191375732\n",
      "\n",
      " 18 3.5625877380371094\n",
      "\n",
      " 19 5.753763437271118\n",
      "\n",
      " 20 3.688710927963257\n",
      "\n",
      " 21 3.5966291427612305\n",
      "\n",
      " 22 3.68599796295166\n",
      "\n",
      " 23 6.856482028961182\n",
      "\n",
      " 24 7.10196852684021\n",
      "\n",
      " 25 6.354105472564697\n",
      "\n",
      " 26 6.58353590965271\n",
      "\n",
      " 27 4.411104679107666\n",
      "\n",
      " 28 6.361775159835815\n",
      "\n",
      " 29 3.837604522705078\n",
      "\n",
      " 30 3.3616862297058105\n",
      "\n",
      " 31 5.583124876022339\n",
      "\n",
      " 32 6.500002384185791\n",
      "\n",
      " 33 4.073883533477783\n",
      "\n",
      " 34 4.796463251113892\n",
      "\n",
      " 35 6.742836236953735\n",
      "\n",
      " 36 7.282166242599487\n",
      "\n",
      " 37 5.120871543884277\n",
      "\n",
      " 38 3.4406120777130127\n",
      "\n",
      " 39 6.327292442321777\n",
      "\n",
      " 40 3.8060851097106934\n",
      "\n",
      " 41 3.687458038330078\n",
      "\n",
      " 42 3.5996718406677246\n",
      "\n",
      " 43 3.4896435737609863\n",
      "\n",
      " 44 3.6697354316711426\n",
      "\n",
      " 45 3.485508441925049\n",
      "\n",
      " 46 3.4796323776245117\n",
      "\n",
      " 47 4.044116973876953\n",
      "\n",
      " 48 3.520984172821045\n",
      "\n",
      " 49 3.4611096382141113\n",
      "\n",
      " 50 3.7277021408081055\n",
      "\n",
      " 51 3.597050666809082\n",
      "\n",
      " 52 3.469808340072632\n",
      "\n",
      " 53 3.4593820571899414\n",
      "\n",
      " 54 3.611734628677368\n",
      "\n",
      " 55 3.395683526992798\n",
      "\n",
      " 56 3.5673694610595703\n",
      "\n",
      " 57 4.441869258880615\n",
      "\n",
      " 58 3.522343158721924\n",
      "\n",
      " 59 3.6716148853302\n",
      "\n",
      " 60 3.571570634841919\n",
      "\n",
      " 61 4.032995939254761\n",
      "\n",
      " 62 4.119142293930054\n",
      "\n",
      " 63 7.081741809844971\n",
      "\n",
      " 64 5.284367561340332\n",
      "\n",
      " 65 3.7456846237182617\n",
      "\n",
      " 66 4.144853115081787\n",
      "\n",
      " 67 5.921008586883545\n",
      "\n",
      " 68 3.498903274536133\n",
      "\n",
      " 69 5.174266338348389\n",
      "\n",
      " 70 5.871031761169434\n",
      "\n",
      " 71 5.37334680557251\n",
      "\n",
      " 72 4.662259101867676\n",
      "\n",
      " 73 3.5456221103668213\n",
      "\n",
      " 74 3.65401554107666\n",
      "\n",
      " 75 5.080054998397827\n",
      "\n",
      " 76 4.86765193939209\n",
      "\n",
      " 77 3.4758684635162354\n",
      "\n",
      " 78 4.634198427200317\n",
      "\n",
      " 79 6.893871784210205\n",
      "\n",
      " 80 5.648340463638306\n",
      "\n",
      " 81 4.103968620300293\n",
      "\n",
      " 82 4.221044063568115\n",
      "\n",
      " 83 3.8504645824432373\n",
      "\n",
      " 84 3.542827844619751\n",
      "\n",
      " 85 3.477626323699951\n",
      "\n",
      " 86 3.6166224479675293\n",
      "\n",
      " 87 3.4773082733154297\n",
      "\n",
      " 88 3.4844934940338135\n",
      "\n",
      " 89 3.4922802448272705\n",
      "\n",
      " 90 3.8663456439971924\n",
      "\n",
      " 91 3.6762571334838867\n"
     ]
    }
   ],
   "source": [
    "iwvi.get_real_rollout_bamdppolicy_data()"
   ]
  },
  {
   "cell_type": "code",
   "execution_count": null,
   "id": "cd13fec8",
   "metadata": {},
   "outputs": [],
   "source": [
    "fig = plt.figure(figsize=(18,10), dpi=250)\n",
    "fig.patch.set_facecolor('white')\n",
    "ax_list = []\n",
    "for i in range(len(offline_data)):\n",
    "    ax_list.append(fig.add_subplot(len(offline_data)//10, 10, i+1))\n",
    "    ax_list[-1].set_xticks([])\n",
    "    ax_list[-1].set_yticks([])\n",
    "    ax_list[-1].plot(iwvi.debug_realenv_rolloutdata[i][:,0], iwvi.debug_realenv_rolloutdata[i][:,1],\"kx\") \n",
    "    ax_list[-1].plot(0, 0,\"ro\")\n",
    "plt.show()"
   ]
  },
  {
   "cell_type": "code",
   "execution_count": null,
   "id": "520d85eb",
   "metadata": {},
   "outputs": [],
   "source": [
    "fig = plt.figure(figsize=(18,10), dpi=250)\n",
    "fig.patch.set_facecolor('white')\n",
    "ax_list = []\n",
    "for i in range(len(offline_data)):\n",
    "    ax_list.append(fig.add_subplot(len(offline_data)//10, 10, i+1))\n",
    "    ax_list[-1].set_xticks([])\n",
    "    ax_list[-1].set_yticks([])\n",
    "    ax_list[-1].plot(iwvi.debug_realenv_rolloutdata[i][:,2], iwvi.debug_realenv_rolloutdata[i][:,3],\"kx\") \n",
    "    ax_list[-1].plot(0, 0,\"ro\")\n",
    "plt.show()"
   ]
  },
  {
   "cell_type": "code",
   "execution_count": null,
   "id": "f4d3fdf6",
   "metadata": {
    "scrolled": true
   },
   "outputs": [],
   "source": [
    "iwvi.get_sim_rollout_bamdppolicy_data_fixlen()\n",
    "simdata0a = copy.deepcopy(iwvi.simenv_rolloutdata)\n",
    "iwvi.get_sim_rollout_bamdppolicy_data_fixlen()\n",
    "simdata0b = copy.deepcopy(iwvi.simenv_rolloutdata)"
   ]
  },
  {
   "cell_type": "code",
   "execution_count": null,
   "id": "073db62f",
   "metadata": {},
   "outputs": [],
   "source": [
    "\n",
    "fig = plt.figure(figsize=(18,10), dpi=250)\n",
    "fig.patch.set_facecolor('white')\n",
    "ax_list = []\n",
    "for i in range(len(offline_data)):\n",
    "    ax_list.append(fig.add_subplot(len(offline_data)//10, 10, i+1))\n",
    "    ax_list[-1].set_xticks([])\n",
    "    ax_list[-1].set_yticks([])\n",
    "#     ax_list[-1].plot(iwvi.offline_data[i][:,0], iwvi.offline_data[i][:,1],\"kx\") \n",
    "#     ax_list[-1].plot(iwvi.simenv_rolloutdata[i][:,0], iwvi.simenv_rolloutdata[i][:,1],\"o\") \n",
    "    ax_list[-1].plot(simdata0a[i][:,0], simdata0a[i][:,1]) \n",
    "    ax_list[-1].plot(simdata0b[i][:,0], simdata0b[i][:,1]) \n",
    "#     ax_list[-1].plot(simdata0c[i][:,0], simdata0c[i][:,1]) \n",
    "\n",
    "    ax_list[-1].plot(iwvi.debug_realenv_rolloutdata[i][:,0], iwvi.debug_realenv_rolloutdata[i][:,1],\"kx\")\n",
    "    ax_list[-1].plot(0, 0,\"ro\")\n",
    "plt.savefig(figfilenamehead+\"iter1.png\")\n",
    "# plt.savefig(figfilenamehead+\"iter0.pdf\")\n",
    "plt.savefig(figfilenamehead+\"iter1.eps\")\n",
    "print(\"実環境方策rollout vs Sim環境方策rollout\")"
   ]
  },
  {
   "cell_type": "code",
   "execution_count": null,
   "id": "8eeea1e7",
   "metadata": {},
   "outputs": [],
   "source": [
    "\n",
    "fig = plt.figure(figsize=(18,10), dpi=250)\n",
    "fig.patch.set_facecolor('white')\n",
    "ax_list = []\n",
    "for i in range(len(offline_data)):\n",
    "    ax_list.append(fig.add_subplot(len(offline_data)//10, 10, i+1))\n",
    "    ax_list[-1].set_xticks([])\n",
    "    ax_list[-1].set_yticks([])\n",
    "#     ax_list[-1].plot(iwvi.offline_data[i][:,0], iwvi.offline_data[i][:,1],\"kx\") \n",
    "#     ax_list[-1].plot(iwvi.simenv_rolloutdata[i][:,0], iwvi.simenv_rolloutdata[i][:,1],\"o\") \n",
    "    ax_list[-1].plot(simdata0a[i][:,2], simdata0a[i][:,3]) \n",
    "    ax_list[-1].plot(simdata0b[i][:,2], simdata0b[i][:,3]) \n",
    "#     ax_list[-1].plot(simdata0c[i][:,0], simdata0c[i][:,1]) \n",
    "\n",
    "    ax_list[-1].plot(iwvi.debug_realenv_rolloutdata[i][:,2], iwvi.debug_realenv_rolloutdata[i][:,3],\"kx\")\n",
    "    ax_list[-1].plot(0, 0,\"ro\")\n",
    "plt.savefig(figfilenamehead+\"iter0.png\")\n",
    "# plt.savefig(figfilenamehead+\"iter0.pdf\")\n",
    "plt.savefig(figfilenamehead+\"iter0.eps\")\n",
    "print(\"実環境方策rollout vs Sim環境方策rollout\")"
   ]
  },
  {
   "cell_type": "code",
   "execution_count": null,
   "id": "52171534",
   "metadata": {},
   "outputs": [],
   "source": []
  },
  {
   "cell_type": "code",
   "execution_count": null,
   "id": "e6bd7842",
   "metadata": {},
   "outputs": [],
   "source": [
    "print(datetime.datetime.now())"
   ]
  },
  {
   "cell_type": "code",
   "execution_count": null,
   "id": "5afaf661",
   "metadata": {},
   "outputs": [],
   "source": []
  },
  {
   "cell_type": "code",
   "execution_count": null,
   "id": "24274112",
   "metadata": {},
   "outputs": [],
   "source": []
  },
  {
   "cell_type": "code",
   "execution_count": null,
   "id": "e3f50703",
   "metadata": {},
   "outputs": [],
   "source": []
  },
  {
   "cell_type": "code",
   "execution_count": null,
   "id": "47477df7",
   "metadata": {},
   "outputs": [],
   "source": []
  },
  {
   "cell_type": "code",
   "execution_count": null,
   "id": "a6d7df58",
   "metadata": {},
   "outputs": [],
   "source": []
  },
  {
   "cell_type": "code",
   "execution_count": null,
   "id": "d31eceea",
   "metadata": {},
   "outputs": [],
   "source": []
  },
  {
   "cell_type": "code",
   "execution_count": null,
   "id": "1012204b",
   "metadata": {},
   "outputs": [],
   "source": []
  },
  {
   "cell_type": "code",
   "execution_count": null,
   "id": "f51e944d",
   "metadata": {},
   "outputs": [],
   "source": []
  },
  {
   "cell_type": "code",
   "execution_count": null,
   "id": "0bdb9e9f",
   "metadata": {},
   "outputs": [],
   "source": []
  },
  {
   "cell_type": "code",
   "execution_count": null,
   "id": "5ec609ff",
   "metadata": {},
   "outputs": [],
   "source": []
  },
  {
   "cell_type": "code",
   "execution_count": null,
   "id": "7337e591",
   "metadata": {},
   "outputs": [],
   "source": []
  },
  {
   "cell_type": "code",
   "execution_count": null,
   "id": "f1501b1f",
   "metadata": {},
   "outputs": [],
   "source": []
  },
  {
   "cell_type": "code",
   "execution_count": null,
   "id": "f5de4910",
   "metadata": {},
   "outputs": [],
   "source": []
  },
  {
   "cell_type": "code",
   "execution_count": null,
   "id": "f81d22b7",
   "metadata": {},
   "outputs": [],
   "source": []
  },
  {
   "cell_type": "code",
   "execution_count": null,
   "id": "55b3f0ce",
   "metadata": {},
   "outputs": [],
   "source": []
  },
  {
   "cell_type": "code",
   "execution_count": null,
   "id": "5aa2d3de",
   "metadata": {},
   "outputs": [],
   "source": []
  },
  {
   "cell_type": "code",
   "execution_count": null,
   "id": "c270d7b0",
   "metadata": {},
   "outputs": [],
   "source": []
  },
  {
   "cell_type": "code",
   "execution_count": null,
   "id": "8a543e61",
   "metadata": {},
   "outputs": [],
   "source": []
  },
  {
   "cell_type": "code",
   "execution_count": null,
   "id": "590aa3ea",
   "metadata": {},
   "outputs": [],
   "source": []
  },
  {
   "cell_type": "code",
   "execution_count": null,
   "id": "d95059d9",
   "metadata": {},
   "outputs": [],
   "source": []
  },
  {
   "cell_type": "code",
   "execution_count": null,
   "id": "2cfa6b00",
   "metadata": {},
   "outputs": [],
   "source": []
  },
  {
   "cell_type": "code",
   "execution_count": null,
   "id": "a3e0992a",
   "metadata": {},
   "outputs": [],
   "source": []
  },
  {
   "cell_type": "code",
   "execution_count": null,
   "id": "3a1800a2",
   "metadata": {},
   "outputs": [],
   "source": []
  },
  {
   "cell_type": "code",
   "execution_count": null,
   "id": "a9059297",
   "metadata": {},
   "outputs": [],
   "source": []
  },
  {
   "cell_type": "code",
   "execution_count": null,
   "id": "4d80b8c7",
   "metadata": {},
   "outputs": [],
   "source": []
  },
  {
   "cell_type": "code",
   "execution_count": null,
   "id": "f7de4fcf",
   "metadata": {},
   "outputs": [],
   "source": []
  },
  {
   "cell_type": "code",
   "execution_count": null,
   "id": "ffd676fe",
   "metadata": {},
   "outputs": [],
   "source": []
  },
  {
   "cell_type": "code",
   "execution_count": null,
   "id": "d3c3baa0",
   "metadata": {},
   "outputs": [],
   "source": []
  },
  {
   "cell_type": "code",
   "execution_count": null,
   "id": "262b5944",
   "metadata": {},
   "outputs": [],
   "source": []
  },
  {
   "cell_type": "code",
   "execution_count": null,
   "id": "046bc37a",
   "metadata": {},
   "outputs": [],
   "source": []
  },
  {
   "cell_type": "code",
   "execution_count": null,
   "id": "2b7c9625",
   "metadata": {},
   "outputs": [],
   "source": []
  },
  {
   "cell_type": "code",
   "execution_count": null,
   "id": "7cd052d3",
   "metadata": {},
   "outputs": [],
   "source": [
    "\n"
   ]
  },
  {
   "cell_type": "code",
   "execution_count": null,
   "id": "4d057407",
   "metadata": {},
   "outputs": [],
   "source": []
  },
  {
   "cell_type": "code",
   "execution_count": null,
   "id": "1705c4dc",
   "metadata": {},
   "outputs": [],
   "source": []
  },
  {
   "cell_type": "code",
   "execution_count": null,
   "id": "9ba5ffc9",
   "metadata": {},
   "outputs": [],
   "source": []
  },
  {
   "cell_type": "code",
   "execution_count": null,
   "id": "60ad2c66",
   "metadata": {},
   "outputs": [],
   "source": []
  },
  {
   "cell_type": "code",
   "execution_count": null,
   "id": "d10b87cc",
   "metadata": {},
   "outputs": [],
   "source": []
  }
 ],
 "metadata": {
  "kernelspec": {
   "display_name": "Python 3 (ipykernel)",
   "language": "python",
   "name": "python3"
  },
  "language_info": {
   "codemirror_mode": {
    "name": "ipython",
    "version": 3
   },
   "file_extension": ".py",
   "mimetype": "text/x-python",
   "name": "python",
   "nbconvert_exporter": "python",
   "pygments_lexer": "ipython3",
   "version": "3.8.0"
  }
 },
 "nbformat": 4,
 "nbformat_minor": 5
}
